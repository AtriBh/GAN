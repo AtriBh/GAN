{
  "nbformat": 4,
  "nbformat_minor": 0,
  "metadata": {
    "colab": {
      "provenance": [],
      "gpuType": "T4",
      "authorship_tag": "ABX9TyPEW2Ezs54IYCsgxSbvbDC1",
      "include_colab_link": true
    },
    "kernelspec": {
      "name": "python3",
      "display_name": "Python 3"
    },
    "language_info": {
      "name": "python"
    },
    "accelerator": "GPU",
    "widgets": {
      "application/vnd.jupyter.widget-state+json": {
        "d0c0e0adb53e4b25a74333f2074781d8": {
          "model_module": "@jupyter-widgets/controls",
          "model_name": "HBoxModel",
          "model_module_version": "1.5.0",
          "state": {
            "_dom_classes": [],
            "_model_module": "@jupyter-widgets/controls",
            "_model_module_version": "1.5.0",
            "_model_name": "HBoxModel",
            "_view_count": null,
            "_view_module": "@jupyter-widgets/controls",
            "_view_module_version": "1.5.0",
            "_view_name": "HBoxView",
            "box_style": "",
            "children": [
              "IPY_MODEL_3daf2f334913488aa28167e1e3c7ccb5",
              "IPY_MODEL_d14ef3971d1548919609f64c4548e423",
              "IPY_MODEL_4b677ef4afb045179757a92e217576fd"
            ],
            "layout": "IPY_MODEL_b626291345bb4de2adcab90e000dd00e"
          }
        },
        "3daf2f334913488aa28167e1e3c7ccb5": {
          "model_module": "@jupyter-widgets/controls",
          "model_name": "HTMLModel",
          "model_module_version": "1.5.0",
          "state": {
            "_dom_classes": [],
            "_model_module": "@jupyter-widgets/controls",
            "_model_module_version": "1.5.0",
            "_model_name": "HTMLModel",
            "_view_count": null,
            "_view_module": "@jupyter-widgets/controls",
            "_view_module_version": "1.5.0",
            "_view_name": "HTMLView",
            "description": "",
            "description_tooltip": null,
            "layout": "IPY_MODEL_e254f6b1b318492a82247c288ef8e73e",
            "placeholder": "​",
            "style": "IPY_MODEL_3c1ab3dcfbc54a7ab144f5dbb2172b3d",
            "value": "Dl Completed...: 100%"
          }
        },
        "d14ef3971d1548919609f64c4548e423": {
          "model_module": "@jupyter-widgets/controls",
          "model_name": "FloatProgressModel",
          "model_module_version": "1.5.0",
          "state": {
            "_dom_classes": [],
            "_model_module": "@jupyter-widgets/controls",
            "_model_module_version": "1.5.0",
            "_model_name": "FloatProgressModel",
            "_view_count": null,
            "_view_module": "@jupyter-widgets/controls",
            "_view_module_version": "1.5.0",
            "_view_name": "ProgressView",
            "bar_style": "success",
            "description": "",
            "description_tooltip": null,
            "layout": "IPY_MODEL_10f7d6d02b6a443b838f04f4d3a78cf0",
            "max": 1,
            "min": 0,
            "orientation": "horizontal",
            "style": "IPY_MODEL_96819b5509034810b26d478f95997e7f",
            "value": 1
          }
        },
        "4b677ef4afb045179757a92e217576fd": {
          "model_module": "@jupyter-widgets/controls",
          "model_name": "HTMLModel",
          "model_module_version": "1.5.0",
          "state": {
            "_dom_classes": [],
            "_model_module": "@jupyter-widgets/controls",
            "_model_module_version": "1.5.0",
            "_model_name": "HTMLModel",
            "_view_count": null,
            "_view_module": "@jupyter-widgets/controls",
            "_view_module_version": "1.5.0",
            "_view_name": "HTMLView",
            "description": "",
            "description_tooltip": null,
            "layout": "IPY_MODEL_d89f6e225d9f41449fc50ae0dfa86207",
            "placeholder": "​",
            "style": "IPY_MODEL_b87f6193588f4e58b8fd2ea78355cecb",
            "value": " 4/4 [00:03&lt;00:00,  1.88 url/s]"
          }
        },
        "b626291345bb4de2adcab90e000dd00e": {
          "model_module": "@jupyter-widgets/base",
          "model_name": "LayoutModel",
          "model_module_version": "1.2.0",
          "state": {
            "_model_module": "@jupyter-widgets/base",
            "_model_module_version": "1.2.0",
            "_model_name": "LayoutModel",
            "_view_count": null,
            "_view_module": "@jupyter-widgets/base",
            "_view_module_version": "1.2.0",
            "_view_name": "LayoutView",
            "align_content": null,
            "align_items": null,
            "align_self": null,
            "border": null,
            "bottom": null,
            "display": null,
            "flex": null,
            "flex_flow": null,
            "grid_area": null,
            "grid_auto_columns": null,
            "grid_auto_flow": null,
            "grid_auto_rows": null,
            "grid_column": null,
            "grid_gap": null,
            "grid_row": null,
            "grid_template_areas": null,
            "grid_template_columns": null,
            "grid_template_rows": null,
            "height": null,
            "justify_content": null,
            "justify_items": null,
            "left": null,
            "margin": null,
            "max_height": null,
            "max_width": null,
            "min_height": null,
            "min_width": null,
            "object_fit": null,
            "object_position": null,
            "order": null,
            "overflow": null,
            "overflow_x": null,
            "overflow_y": null,
            "padding": null,
            "right": null,
            "top": null,
            "visibility": null,
            "width": null
          }
        },
        "e254f6b1b318492a82247c288ef8e73e": {
          "model_module": "@jupyter-widgets/base",
          "model_name": "LayoutModel",
          "model_module_version": "1.2.0",
          "state": {
            "_model_module": "@jupyter-widgets/base",
            "_model_module_version": "1.2.0",
            "_model_name": "LayoutModel",
            "_view_count": null,
            "_view_module": "@jupyter-widgets/base",
            "_view_module_version": "1.2.0",
            "_view_name": "LayoutView",
            "align_content": null,
            "align_items": null,
            "align_self": null,
            "border": null,
            "bottom": null,
            "display": null,
            "flex": null,
            "flex_flow": null,
            "grid_area": null,
            "grid_auto_columns": null,
            "grid_auto_flow": null,
            "grid_auto_rows": null,
            "grid_column": null,
            "grid_gap": null,
            "grid_row": null,
            "grid_template_areas": null,
            "grid_template_columns": null,
            "grid_template_rows": null,
            "height": null,
            "justify_content": null,
            "justify_items": null,
            "left": null,
            "margin": null,
            "max_height": null,
            "max_width": null,
            "min_height": null,
            "min_width": null,
            "object_fit": null,
            "object_position": null,
            "order": null,
            "overflow": null,
            "overflow_x": null,
            "overflow_y": null,
            "padding": null,
            "right": null,
            "top": null,
            "visibility": null,
            "width": null
          }
        },
        "3c1ab3dcfbc54a7ab144f5dbb2172b3d": {
          "model_module": "@jupyter-widgets/controls",
          "model_name": "DescriptionStyleModel",
          "model_module_version": "1.5.0",
          "state": {
            "_model_module": "@jupyter-widgets/controls",
            "_model_module_version": "1.5.0",
            "_model_name": "DescriptionStyleModel",
            "_view_count": null,
            "_view_module": "@jupyter-widgets/base",
            "_view_module_version": "1.2.0",
            "_view_name": "StyleView",
            "description_width": ""
          }
        },
        "10f7d6d02b6a443b838f04f4d3a78cf0": {
          "model_module": "@jupyter-widgets/base",
          "model_name": "LayoutModel",
          "model_module_version": "1.2.0",
          "state": {
            "_model_module": "@jupyter-widgets/base",
            "_model_module_version": "1.2.0",
            "_model_name": "LayoutModel",
            "_view_count": null,
            "_view_module": "@jupyter-widgets/base",
            "_view_module_version": "1.2.0",
            "_view_name": "LayoutView",
            "align_content": null,
            "align_items": null,
            "align_self": null,
            "border": null,
            "bottom": null,
            "display": null,
            "flex": null,
            "flex_flow": null,
            "grid_area": null,
            "grid_auto_columns": null,
            "grid_auto_flow": null,
            "grid_auto_rows": null,
            "grid_column": null,
            "grid_gap": null,
            "grid_row": null,
            "grid_template_areas": null,
            "grid_template_columns": null,
            "grid_template_rows": null,
            "height": null,
            "justify_content": null,
            "justify_items": null,
            "left": null,
            "margin": null,
            "max_height": null,
            "max_width": null,
            "min_height": null,
            "min_width": null,
            "object_fit": null,
            "object_position": null,
            "order": null,
            "overflow": null,
            "overflow_x": null,
            "overflow_y": null,
            "padding": null,
            "right": null,
            "top": null,
            "visibility": null,
            "width": "20px"
          }
        },
        "96819b5509034810b26d478f95997e7f": {
          "model_module": "@jupyter-widgets/controls",
          "model_name": "ProgressStyleModel",
          "model_module_version": "1.5.0",
          "state": {
            "_model_module": "@jupyter-widgets/controls",
            "_model_module_version": "1.5.0",
            "_model_name": "ProgressStyleModel",
            "_view_count": null,
            "_view_module": "@jupyter-widgets/base",
            "_view_module_version": "1.2.0",
            "_view_name": "StyleView",
            "bar_color": null,
            "description_width": ""
          }
        },
        "d89f6e225d9f41449fc50ae0dfa86207": {
          "model_module": "@jupyter-widgets/base",
          "model_name": "LayoutModel",
          "model_module_version": "1.2.0",
          "state": {
            "_model_module": "@jupyter-widgets/base",
            "_model_module_version": "1.2.0",
            "_model_name": "LayoutModel",
            "_view_count": null,
            "_view_module": "@jupyter-widgets/base",
            "_view_module_version": "1.2.0",
            "_view_name": "LayoutView",
            "align_content": null,
            "align_items": null,
            "align_self": null,
            "border": null,
            "bottom": null,
            "display": null,
            "flex": null,
            "flex_flow": null,
            "grid_area": null,
            "grid_auto_columns": null,
            "grid_auto_flow": null,
            "grid_auto_rows": null,
            "grid_column": null,
            "grid_gap": null,
            "grid_row": null,
            "grid_template_areas": null,
            "grid_template_columns": null,
            "grid_template_rows": null,
            "height": null,
            "justify_content": null,
            "justify_items": null,
            "left": null,
            "margin": null,
            "max_height": null,
            "max_width": null,
            "min_height": null,
            "min_width": null,
            "object_fit": null,
            "object_position": null,
            "order": null,
            "overflow": null,
            "overflow_x": null,
            "overflow_y": null,
            "padding": null,
            "right": null,
            "top": null,
            "visibility": null,
            "width": null
          }
        },
        "b87f6193588f4e58b8fd2ea78355cecb": {
          "model_module": "@jupyter-widgets/controls",
          "model_name": "DescriptionStyleModel",
          "model_module_version": "1.5.0",
          "state": {
            "_model_module": "@jupyter-widgets/controls",
            "_model_module_version": "1.5.0",
            "_model_name": "DescriptionStyleModel",
            "_view_count": null,
            "_view_module": "@jupyter-widgets/base",
            "_view_module_version": "1.2.0",
            "_view_name": "StyleView",
            "description_width": ""
          }
        },
        "ffa7ee9f546b44a69025e354b25553f7": {
          "model_module": "@jupyter-widgets/controls",
          "model_name": "HBoxModel",
          "model_module_version": "1.5.0",
          "state": {
            "_dom_classes": [],
            "_model_module": "@jupyter-widgets/controls",
            "_model_module_version": "1.5.0",
            "_model_name": "HBoxModel",
            "_view_count": null,
            "_view_module": "@jupyter-widgets/controls",
            "_view_module_version": "1.5.0",
            "_view_name": "HBoxView",
            "box_style": "",
            "children": [
              "IPY_MODEL_a6e1b15164f749f3851e8c95a4d3bbe1",
              "IPY_MODEL_792d3b3110f247489200848b51b50fc2",
              "IPY_MODEL_752b1a73bd8d405db2b4b0cbb2b78460"
            ],
            "layout": "IPY_MODEL_a39f11d138604ca880d452a10baf72f2"
          }
        },
        "a6e1b15164f749f3851e8c95a4d3bbe1": {
          "model_module": "@jupyter-widgets/controls",
          "model_name": "HTMLModel",
          "model_module_version": "1.5.0",
          "state": {
            "_dom_classes": [],
            "_model_module": "@jupyter-widgets/controls",
            "_model_module_version": "1.5.0",
            "_model_name": "HTMLModel",
            "_view_count": null,
            "_view_module": "@jupyter-widgets/controls",
            "_view_module_version": "1.5.0",
            "_view_name": "HTMLView",
            "description": "",
            "description_tooltip": null,
            "layout": "IPY_MODEL_b3aa40d496c147b09534e4d73c6cb5ec",
            "placeholder": "​",
            "style": "IPY_MODEL_acd8623953b94a238bb760a962d52332",
            "value": "Dl Size...: 100%"
          }
        },
        "792d3b3110f247489200848b51b50fc2": {
          "model_module": "@jupyter-widgets/controls",
          "model_name": "FloatProgressModel",
          "model_module_version": "1.5.0",
          "state": {
            "_dom_classes": [],
            "_model_module": "@jupyter-widgets/controls",
            "_model_module_version": "1.5.0",
            "_model_name": "FloatProgressModel",
            "_view_count": null,
            "_view_module": "@jupyter-widgets/controls",
            "_view_module_version": "1.5.0",
            "_view_name": "ProgressView",
            "bar_style": "success",
            "description": "",
            "description_tooltip": null,
            "layout": "IPY_MODEL_83f7372ffa4f4cc2be54a8ae97d427d4",
            "max": 1,
            "min": 0,
            "orientation": "horizontal",
            "style": "IPY_MODEL_92b7525097e24769b09699d983b34720",
            "value": 1
          }
        },
        "752b1a73bd8d405db2b4b0cbb2b78460": {
          "model_module": "@jupyter-widgets/controls",
          "model_name": "HTMLModel",
          "model_module_version": "1.5.0",
          "state": {
            "_dom_classes": [],
            "_model_module": "@jupyter-widgets/controls",
            "_model_module_version": "1.5.0",
            "_model_name": "HTMLModel",
            "_view_count": null,
            "_view_module": "@jupyter-widgets/controls",
            "_view_module_version": "1.5.0",
            "_view_name": "HTMLView",
            "description": "",
            "description_tooltip": null,
            "layout": "IPY_MODEL_20a612b2e86045d7a07ad9e1b436e741",
            "placeholder": "​",
            "style": "IPY_MODEL_82824f85e74f466596814fa89822eda6",
            "value": " 29/29 [00:03&lt;00:00, 11.38 MiB/s]"
          }
        },
        "a39f11d138604ca880d452a10baf72f2": {
          "model_module": "@jupyter-widgets/base",
          "model_name": "LayoutModel",
          "model_module_version": "1.2.0",
          "state": {
            "_model_module": "@jupyter-widgets/base",
            "_model_module_version": "1.2.0",
            "_model_name": "LayoutModel",
            "_view_count": null,
            "_view_module": "@jupyter-widgets/base",
            "_view_module_version": "1.2.0",
            "_view_name": "LayoutView",
            "align_content": null,
            "align_items": null,
            "align_self": null,
            "border": null,
            "bottom": null,
            "display": null,
            "flex": null,
            "flex_flow": null,
            "grid_area": null,
            "grid_auto_columns": null,
            "grid_auto_flow": null,
            "grid_auto_rows": null,
            "grid_column": null,
            "grid_gap": null,
            "grid_row": null,
            "grid_template_areas": null,
            "grid_template_columns": null,
            "grid_template_rows": null,
            "height": null,
            "justify_content": null,
            "justify_items": null,
            "left": null,
            "margin": null,
            "max_height": null,
            "max_width": null,
            "min_height": null,
            "min_width": null,
            "object_fit": null,
            "object_position": null,
            "order": null,
            "overflow": null,
            "overflow_x": null,
            "overflow_y": null,
            "padding": null,
            "right": null,
            "top": null,
            "visibility": null,
            "width": null
          }
        },
        "b3aa40d496c147b09534e4d73c6cb5ec": {
          "model_module": "@jupyter-widgets/base",
          "model_name": "LayoutModel",
          "model_module_version": "1.2.0",
          "state": {
            "_model_module": "@jupyter-widgets/base",
            "_model_module_version": "1.2.0",
            "_model_name": "LayoutModel",
            "_view_count": null,
            "_view_module": "@jupyter-widgets/base",
            "_view_module_version": "1.2.0",
            "_view_name": "LayoutView",
            "align_content": null,
            "align_items": null,
            "align_self": null,
            "border": null,
            "bottom": null,
            "display": null,
            "flex": null,
            "flex_flow": null,
            "grid_area": null,
            "grid_auto_columns": null,
            "grid_auto_flow": null,
            "grid_auto_rows": null,
            "grid_column": null,
            "grid_gap": null,
            "grid_row": null,
            "grid_template_areas": null,
            "grid_template_columns": null,
            "grid_template_rows": null,
            "height": null,
            "justify_content": null,
            "justify_items": null,
            "left": null,
            "margin": null,
            "max_height": null,
            "max_width": null,
            "min_height": null,
            "min_width": null,
            "object_fit": null,
            "object_position": null,
            "order": null,
            "overflow": null,
            "overflow_x": null,
            "overflow_y": null,
            "padding": null,
            "right": null,
            "top": null,
            "visibility": null,
            "width": null
          }
        },
        "acd8623953b94a238bb760a962d52332": {
          "model_module": "@jupyter-widgets/controls",
          "model_name": "DescriptionStyleModel",
          "model_module_version": "1.5.0",
          "state": {
            "_model_module": "@jupyter-widgets/controls",
            "_model_module_version": "1.5.0",
            "_model_name": "DescriptionStyleModel",
            "_view_count": null,
            "_view_module": "@jupyter-widgets/base",
            "_view_module_version": "1.2.0",
            "_view_name": "StyleView",
            "description_width": ""
          }
        },
        "83f7372ffa4f4cc2be54a8ae97d427d4": {
          "model_module": "@jupyter-widgets/base",
          "model_name": "LayoutModel",
          "model_module_version": "1.2.0",
          "state": {
            "_model_module": "@jupyter-widgets/base",
            "_model_module_version": "1.2.0",
            "_model_name": "LayoutModel",
            "_view_count": null,
            "_view_module": "@jupyter-widgets/base",
            "_view_module_version": "1.2.0",
            "_view_name": "LayoutView",
            "align_content": null,
            "align_items": null,
            "align_self": null,
            "border": null,
            "bottom": null,
            "display": null,
            "flex": null,
            "flex_flow": null,
            "grid_area": null,
            "grid_auto_columns": null,
            "grid_auto_flow": null,
            "grid_auto_rows": null,
            "grid_column": null,
            "grid_gap": null,
            "grid_row": null,
            "grid_template_areas": null,
            "grid_template_columns": null,
            "grid_template_rows": null,
            "height": null,
            "justify_content": null,
            "justify_items": null,
            "left": null,
            "margin": null,
            "max_height": null,
            "max_width": null,
            "min_height": null,
            "min_width": null,
            "object_fit": null,
            "object_position": null,
            "order": null,
            "overflow": null,
            "overflow_x": null,
            "overflow_y": null,
            "padding": null,
            "right": null,
            "top": null,
            "visibility": null,
            "width": "20px"
          }
        },
        "92b7525097e24769b09699d983b34720": {
          "model_module": "@jupyter-widgets/controls",
          "model_name": "ProgressStyleModel",
          "model_module_version": "1.5.0",
          "state": {
            "_model_module": "@jupyter-widgets/controls",
            "_model_module_version": "1.5.0",
            "_model_name": "ProgressStyleModel",
            "_view_count": null,
            "_view_module": "@jupyter-widgets/base",
            "_view_module_version": "1.2.0",
            "_view_name": "StyleView",
            "bar_color": null,
            "description_width": ""
          }
        },
        "20a612b2e86045d7a07ad9e1b436e741": {
          "model_module": "@jupyter-widgets/base",
          "model_name": "LayoutModel",
          "model_module_version": "1.2.0",
          "state": {
            "_model_module": "@jupyter-widgets/base",
            "_model_module_version": "1.2.0",
            "_model_name": "LayoutModel",
            "_view_count": null,
            "_view_module": "@jupyter-widgets/base",
            "_view_module_version": "1.2.0",
            "_view_name": "LayoutView",
            "align_content": null,
            "align_items": null,
            "align_self": null,
            "border": null,
            "bottom": null,
            "display": null,
            "flex": null,
            "flex_flow": null,
            "grid_area": null,
            "grid_auto_columns": null,
            "grid_auto_flow": null,
            "grid_auto_rows": null,
            "grid_column": null,
            "grid_gap": null,
            "grid_row": null,
            "grid_template_areas": null,
            "grid_template_columns": null,
            "grid_template_rows": null,
            "height": null,
            "justify_content": null,
            "justify_items": null,
            "left": null,
            "margin": null,
            "max_height": null,
            "max_width": null,
            "min_height": null,
            "min_width": null,
            "object_fit": null,
            "object_position": null,
            "order": null,
            "overflow": null,
            "overflow_x": null,
            "overflow_y": null,
            "padding": null,
            "right": null,
            "top": null,
            "visibility": null,
            "width": null
          }
        },
        "82824f85e74f466596814fa89822eda6": {
          "model_module": "@jupyter-widgets/controls",
          "model_name": "DescriptionStyleModel",
          "model_module_version": "1.5.0",
          "state": {
            "_model_module": "@jupyter-widgets/controls",
            "_model_module_version": "1.5.0",
            "_model_name": "DescriptionStyleModel",
            "_view_count": null,
            "_view_module": "@jupyter-widgets/base",
            "_view_module_version": "1.2.0",
            "_view_name": "StyleView",
            "description_width": ""
          }
        },
        "857a7b2833e341eeb959ac104c2d2a9a": {
          "model_module": "@jupyter-widgets/controls",
          "model_name": "HBoxModel",
          "model_module_version": "1.5.0",
          "state": {
            "_dom_classes": [],
            "_model_module": "@jupyter-widgets/controls",
            "_model_module_version": "1.5.0",
            "_model_name": "HBoxModel",
            "_view_count": null,
            "_view_module": "@jupyter-widgets/controls",
            "_view_module_version": "1.5.0",
            "_view_name": "HBoxView",
            "box_style": "",
            "children": [
              "IPY_MODEL_672b6ce3c57b4308a62e72ef2bf224f6",
              "IPY_MODEL_436cf0fb6b374535891d5d105ae0dab4",
              "IPY_MODEL_b77f8edb6d2b482b9127f6682472e42e"
            ],
            "layout": "IPY_MODEL_f5d5028acdc14f5597fa9897181f0da5"
          }
        },
        "672b6ce3c57b4308a62e72ef2bf224f6": {
          "model_module": "@jupyter-widgets/controls",
          "model_name": "HTMLModel",
          "model_module_version": "1.5.0",
          "state": {
            "_dom_classes": [],
            "_model_module": "@jupyter-widgets/controls",
            "_model_module_version": "1.5.0",
            "_model_name": "HTMLModel",
            "_view_count": null,
            "_view_module": "@jupyter-widgets/controls",
            "_view_module_version": "1.5.0",
            "_view_name": "HTMLView",
            "description": "",
            "description_tooltip": null,
            "layout": "IPY_MODEL_e36721a1b9e045239122b75d5a8fb55e",
            "placeholder": "​",
            "style": "IPY_MODEL_163e5acd838c4eb49b572016308b6462",
            "value": "Extraction completed...: 100%"
          }
        },
        "436cf0fb6b374535891d5d105ae0dab4": {
          "model_module": "@jupyter-widgets/controls",
          "model_name": "FloatProgressModel",
          "model_module_version": "1.5.0",
          "state": {
            "_dom_classes": [],
            "_model_module": "@jupyter-widgets/controls",
            "_model_module_version": "1.5.0",
            "_model_name": "FloatProgressModel",
            "_view_count": null,
            "_view_module": "@jupyter-widgets/controls",
            "_view_module_version": "1.5.0",
            "_view_name": "ProgressView",
            "bar_style": "success",
            "description": "",
            "description_tooltip": null,
            "layout": "IPY_MODEL_fe0e51feb23b4898b8e9174a58f39b99",
            "max": 1,
            "min": 0,
            "orientation": "horizontal",
            "style": "IPY_MODEL_8c77b881919140dbbbf3ec36eb2c50b1",
            "value": 1
          }
        },
        "b77f8edb6d2b482b9127f6682472e42e": {
          "model_module": "@jupyter-widgets/controls",
          "model_name": "HTMLModel",
          "model_module_version": "1.5.0",
          "state": {
            "_dom_classes": [],
            "_model_module": "@jupyter-widgets/controls",
            "_model_module_version": "1.5.0",
            "_model_name": "HTMLModel",
            "_view_count": null,
            "_view_module": "@jupyter-widgets/controls",
            "_view_module_version": "1.5.0",
            "_view_name": "HTMLView",
            "description": "",
            "description_tooltip": null,
            "layout": "IPY_MODEL_2519f741a9864234a490f241536bb806",
            "placeholder": "​",
            "style": "IPY_MODEL_7ec7cb73eaef4acfa0c73f05bf97c14c",
            "value": " 4/4 [00:03&lt;00:00,  1.84 file/s]"
          }
        },
        "f5d5028acdc14f5597fa9897181f0da5": {
          "model_module": "@jupyter-widgets/base",
          "model_name": "LayoutModel",
          "model_module_version": "1.2.0",
          "state": {
            "_model_module": "@jupyter-widgets/base",
            "_model_module_version": "1.2.0",
            "_model_name": "LayoutModel",
            "_view_count": null,
            "_view_module": "@jupyter-widgets/base",
            "_view_module_version": "1.2.0",
            "_view_name": "LayoutView",
            "align_content": null,
            "align_items": null,
            "align_self": null,
            "border": null,
            "bottom": null,
            "display": null,
            "flex": null,
            "flex_flow": null,
            "grid_area": null,
            "grid_auto_columns": null,
            "grid_auto_flow": null,
            "grid_auto_rows": null,
            "grid_column": null,
            "grid_gap": null,
            "grid_row": null,
            "grid_template_areas": null,
            "grid_template_columns": null,
            "grid_template_rows": null,
            "height": null,
            "justify_content": null,
            "justify_items": null,
            "left": null,
            "margin": null,
            "max_height": null,
            "max_width": null,
            "min_height": null,
            "min_width": null,
            "object_fit": null,
            "object_position": null,
            "order": null,
            "overflow": null,
            "overflow_x": null,
            "overflow_y": null,
            "padding": null,
            "right": null,
            "top": null,
            "visibility": null,
            "width": null
          }
        },
        "e36721a1b9e045239122b75d5a8fb55e": {
          "model_module": "@jupyter-widgets/base",
          "model_name": "LayoutModel",
          "model_module_version": "1.2.0",
          "state": {
            "_model_module": "@jupyter-widgets/base",
            "_model_module_version": "1.2.0",
            "_model_name": "LayoutModel",
            "_view_count": null,
            "_view_module": "@jupyter-widgets/base",
            "_view_module_version": "1.2.0",
            "_view_name": "LayoutView",
            "align_content": null,
            "align_items": null,
            "align_self": null,
            "border": null,
            "bottom": null,
            "display": null,
            "flex": null,
            "flex_flow": null,
            "grid_area": null,
            "grid_auto_columns": null,
            "grid_auto_flow": null,
            "grid_auto_rows": null,
            "grid_column": null,
            "grid_gap": null,
            "grid_row": null,
            "grid_template_areas": null,
            "grid_template_columns": null,
            "grid_template_rows": null,
            "height": null,
            "justify_content": null,
            "justify_items": null,
            "left": null,
            "margin": null,
            "max_height": null,
            "max_width": null,
            "min_height": null,
            "min_width": null,
            "object_fit": null,
            "object_position": null,
            "order": null,
            "overflow": null,
            "overflow_x": null,
            "overflow_y": null,
            "padding": null,
            "right": null,
            "top": null,
            "visibility": null,
            "width": null
          }
        },
        "163e5acd838c4eb49b572016308b6462": {
          "model_module": "@jupyter-widgets/controls",
          "model_name": "DescriptionStyleModel",
          "model_module_version": "1.5.0",
          "state": {
            "_model_module": "@jupyter-widgets/controls",
            "_model_module_version": "1.5.0",
            "_model_name": "DescriptionStyleModel",
            "_view_count": null,
            "_view_module": "@jupyter-widgets/base",
            "_view_module_version": "1.2.0",
            "_view_name": "StyleView",
            "description_width": ""
          }
        },
        "fe0e51feb23b4898b8e9174a58f39b99": {
          "model_module": "@jupyter-widgets/base",
          "model_name": "LayoutModel",
          "model_module_version": "1.2.0",
          "state": {
            "_model_module": "@jupyter-widgets/base",
            "_model_module_version": "1.2.0",
            "_model_name": "LayoutModel",
            "_view_count": null,
            "_view_module": "@jupyter-widgets/base",
            "_view_module_version": "1.2.0",
            "_view_name": "LayoutView",
            "align_content": null,
            "align_items": null,
            "align_self": null,
            "border": null,
            "bottom": null,
            "display": null,
            "flex": null,
            "flex_flow": null,
            "grid_area": null,
            "grid_auto_columns": null,
            "grid_auto_flow": null,
            "grid_auto_rows": null,
            "grid_column": null,
            "grid_gap": null,
            "grid_row": null,
            "grid_template_areas": null,
            "grid_template_columns": null,
            "grid_template_rows": null,
            "height": null,
            "justify_content": null,
            "justify_items": null,
            "left": null,
            "margin": null,
            "max_height": null,
            "max_width": null,
            "min_height": null,
            "min_width": null,
            "object_fit": null,
            "object_position": null,
            "order": null,
            "overflow": null,
            "overflow_x": null,
            "overflow_y": null,
            "padding": null,
            "right": null,
            "top": null,
            "visibility": null,
            "width": "20px"
          }
        },
        "8c77b881919140dbbbf3ec36eb2c50b1": {
          "model_module": "@jupyter-widgets/controls",
          "model_name": "ProgressStyleModel",
          "model_module_version": "1.5.0",
          "state": {
            "_model_module": "@jupyter-widgets/controls",
            "_model_module_version": "1.5.0",
            "_model_name": "ProgressStyleModel",
            "_view_count": null,
            "_view_module": "@jupyter-widgets/base",
            "_view_module_version": "1.2.0",
            "_view_name": "StyleView",
            "bar_color": null,
            "description_width": ""
          }
        },
        "2519f741a9864234a490f241536bb806": {
          "model_module": "@jupyter-widgets/base",
          "model_name": "LayoutModel",
          "model_module_version": "1.2.0",
          "state": {
            "_model_module": "@jupyter-widgets/base",
            "_model_module_version": "1.2.0",
            "_model_name": "LayoutModel",
            "_view_count": null,
            "_view_module": "@jupyter-widgets/base",
            "_view_module_version": "1.2.0",
            "_view_name": "LayoutView",
            "align_content": null,
            "align_items": null,
            "align_self": null,
            "border": null,
            "bottom": null,
            "display": null,
            "flex": null,
            "flex_flow": null,
            "grid_area": null,
            "grid_auto_columns": null,
            "grid_auto_flow": null,
            "grid_auto_rows": null,
            "grid_column": null,
            "grid_gap": null,
            "grid_row": null,
            "grid_template_areas": null,
            "grid_template_columns": null,
            "grid_template_rows": null,
            "height": null,
            "justify_content": null,
            "justify_items": null,
            "left": null,
            "margin": null,
            "max_height": null,
            "max_width": null,
            "min_height": null,
            "min_width": null,
            "object_fit": null,
            "object_position": null,
            "order": null,
            "overflow": null,
            "overflow_x": null,
            "overflow_y": null,
            "padding": null,
            "right": null,
            "top": null,
            "visibility": null,
            "width": null
          }
        },
        "7ec7cb73eaef4acfa0c73f05bf97c14c": {
          "model_module": "@jupyter-widgets/controls",
          "model_name": "DescriptionStyleModel",
          "model_module_version": "1.5.0",
          "state": {
            "_model_module": "@jupyter-widgets/controls",
            "_model_module_version": "1.5.0",
            "_model_name": "DescriptionStyleModel",
            "_view_count": null,
            "_view_module": "@jupyter-widgets/base",
            "_view_module_version": "1.2.0",
            "_view_name": "StyleView",
            "description_width": ""
          }
        },
        "a59626fc3ca040cca11e476f2d748d3f": {
          "model_module": "@jupyter-widgets/controls",
          "model_name": "HBoxModel",
          "model_module_version": "1.5.0",
          "state": {
            "_dom_classes": [],
            "_model_module": "@jupyter-widgets/controls",
            "_model_module_version": "1.5.0",
            "_model_name": "HBoxModel",
            "_view_count": null,
            "_view_module": "@jupyter-widgets/controls",
            "_view_module_version": "1.5.0",
            "_view_name": "HBoxView",
            "box_style": "",
            "children": [
              "IPY_MODEL_6375484676d644459db1add1ed147428",
              "IPY_MODEL_6b1f074bf3c84eabbc10dab8570ecbeb",
              "IPY_MODEL_f7c8cf70c55c44fba2281a877aa4f2fa"
            ],
            "layout": "IPY_MODEL_6a346fd40360477a8b48464aad8cbcb2"
          }
        },
        "6375484676d644459db1add1ed147428": {
          "model_module": "@jupyter-widgets/controls",
          "model_name": "HTMLModel",
          "model_module_version": "1.5.0",
          "state": {
            "_dom_classes": [],
            "_model_module": "@jupyter-widgets/controls",
            "_model_module_version": "1.5.0",
            "_model_name": "HTMLModel",
            "_view_count": null,
            "_view_module": "@jupyter-widgets/controls",
            "_view_module_version": "1.5.0",
            "_view_name": "HTMLView",
            "description": "",
            "description_tooltip": null,
            "layout": "IPY_MODEL_c5d1ad01d60746ec8203e30dbe2d32b1",
            "placeholder": "​",
            "style": "IPY_MODEL_f67e5167a67940df9536209583463442",
            "value": "Generating splits...: 100%"
          }
        },
        "6b1f074bf3c84eabbc10dab8570ecbeb": {
          "model_module": "@jupyter-widgets/controls",
          "model_name": "FloatProgressModel",
          "model_module_version": "1.5.0",
          "state": {
            "_dom_classes": [],
            "_model_module": "@jupyter-widgets/controls",
            "_model_module_version": "1.5.0",
            "_model_name": "FloatProgressModel",
            "_view_count": null,
            "_view_module": "@jupyter-widgets/controls",
            "_view_module_version": "1.5.0",
            "_view_name": "ProgressView",
            "bar_style": "",
            "description": "",
            "description_tooltip": null,
            "layout": "IPY_MODEL_f2ea5c2a779b46fa85af681331f40bd1",
            "max": 2,
            "min": 0,
            "orientation": "horizontal",
            "style": "IPY_MODEL_c5f0335379024910b8f5be806da66968",
            "value": 2
          }
        },
        "f7c8cf70c55c44fba2281a877aa4f2fa": {
          "model_module": "@jupyter-widgets/controls",
          "model_name": "HTMLModel",
          "model_module_version": "1.5.0",
          "state": {
            "_dom_classes": [],
            "_model_module": "@jupyter-widgets/controls",
            "_model_module_version": "1.5.0",
            "_model_name": "HTMLModel",
            "_view_count": null,
            "_view_module": "@jupyter-widgets/controls",
            "_view_module_version": "1.5.0",
            "_view_name": "HTMLView",
            "description": "",
            "description_tooltip": null,
            "layout": "IPY_MODEL_a7ae482dbdba46b4b1e27cbc3afef3a5",
            "placeholder": "​",
            "style": "IPY_MODEL_f4032ef6ef3e4f2d944d8ab3a3c93295",
            "value": " 2/2 [00:54&lt;00:00, 23.70s/ splits]"
          }
        },
        "6a346fd40360477a8b48464aad8cbcb2": {
          "model_module": "@jupyter-widgets/base",
          "model_name": "LayoutModel",
          "model_module_version": "1.2.0",
          "state": {
            "_model_module": "@jupyter-widgets/base",
            "_model_module_version": "1.2.0",
            "_model_name": "LayoutModel",
            "_view_count": null,
            "_view_module": "@jupyter-widgets/base",
            "_view_module_version": "1.2.0",
            "_view_name": "LayoutView",
            "align_content": null,
            "align_items": null,
            "align_self": null,
            "border": null,
            "bottom": null,
            "display": null,
            "flex": null,
            "flex_flow": null,
            "grid_area": null,
            "grid_auto_columns": null,
            "grid_auto_flow": null,
            "grid_auto_rows": null,
            "grid_column": null,
            "grid_gap": null,
            "grid_row": null,
            "grid_template_areas": null,
            "grid_template_columns": null,
            "grid_template_rows": null,
            "height": null,
            "justify_content": null,
            "justify_items": null,
            "left": null,
            "margin": null,
            "max_height": null,
            "max_width": null,
            "min_height": null,
            "min_width": null,
            "object_fit": null,
            "object_position": null,
            "order": null,
            "overflow": null,
            "overflow_x": null,
            "overflow_y": null,
            "padding": null,
            "right": null,
            "top": null,
            "visibility": "hidden",
            "width": null
          }
        },
        "c5d1ad01d60746ec8203e30dbe2d32b1": {
          "model_module": "@jupyter-widgets/base",
          "model_name": "LayoutModel",
          "model_module_version": "1.2.0",
          "state": {
            "_model_module": "@jupyter-widgets/base",
            "_model_module_version": "1.2.0",
            "_model_name": "LayoutModel",
            "_view_count": null,
            "_view_module": "@jupyter-widgets/base",
            "_view_module_version": "1.2.0",
            "_view_name": "LayoutView",
            "align_content": null,
            "align_items": null,
            "align_self": null,
            "border": null,
            "bottom": null,
            "display": null,
            "flex": null,
            "flex_flow": null,
            "grid_area": null,
            "grid_auto_columns": null,
            "grid_auto_flow": null,
            "grid_auto_rows": null,
            "grid_column": null,
            "grid_gap": null,
            "grid_row": null,
            "grid_template_areas": null,
            "grid_template_columns": null,
            "grid_template_rows": null,
            "height": null,
            "justify_content": null,
            "justify_items": null,
            "left": null,
            "margin": null,
            "max_height": null,
            "max_width": null,
            "min_height": null,
            "min_width": null,
            "object_fit": null,
            "object_position": null,
            "order": null,
            "overflow": null,
            "overflow_x": null,
            "overflow_y": null,
            "padding": null,
            "right": null,
            "top": null,
            "visibility": null,
            "width": null
          }
        },
        "f67e5167a67940df9536209583463442": {
          "model_module": "@jupyter-widgets/controls",
          "model_name": "DescriptionStyleModel",
          "model_module_version": "1.5.0",
          "state": {
            "_model_module": "@jupyter-widgets/controls",
            "_model_module_version": "1.5.0",
            "_model_name": "DescriptionStyleModel",
            "_view_count": null,
            "_view_module": "@jupyter-widgets/base",
            "_view_module_version": "1.2.0",
            "_view_name": "StyleView",
            "description_width": ""
          }
        },
        "f2ea5c2a779b46fa85af681331f40bd1": {
          "model_module": "@jupyter-widgets/base",
          "model_name": "LayoutModel",
          "model_module_version": "1.2.0",
          "state": {
            "_model_module": "@jupyter-widgets/base",
            "_model_module_version": "1.2.0",
            "_model_name": "LayoutModel",
            "_view_count": null,
            "_view_module": "@jupyter-widgets/base",
            "_view_module_version": "1.2.0",
            "_view_name": "LayoutView",
            "align_content": null,
            "align_items": null,
            "align_self": null,
            "border": null,
            "bottom": null,
            "display": null,
            "flex": null,
            "flex_flow": null,
            "grid_area": null,
            "grid_auto_columns": null,
            "grid_auto_flow": null,
            "grid_auto_rows": null,
            "grid_column": null,
            "grid_gap": null,
            "grid_row": null,
            "grid_template_areas": null,
            "grid_template_columns": null,
            "grid_template_rows": null,
            "height": null,
            "justify_content": null,
            "justify_items": null,
            "left": null,
            "margin": null,
            "max_height": null,
            "max_width": null,
            "min_height": null,
            "min_width": null,
            "object_fit": null,
            "object_position": null,
            "order": null,
            "overflow": null,
            "overflow_x": null,
            "overflow_y": null,
            "padding": null,
            "right": null,
            "top": null,
            "visibility": null,
            "width": null
          }
        },
        "c5f0335379024910b8f5be806da66968": {
          "model_module": "@jupyter-widgets/controls",
          "model_name": "ProgressStyleModel",
          "model_module_version": "1.5.0",
          "state": {
            "_model_module": "@jupyter-widgets/controls",
            "_model_module_version": "1.5.0",
            "_model_name": "ProgressStyleModel",
            "_view_count": null,
            "_view_module": "@jupyter-widgets/base",
            "_view_module_version": "1.2.0",
            "_view_name": "StyleView",
            "bar_color": null,
            "description_width": ""
          }
        },
        "a7ae482dbdba46b4b1e27cbc3afef3a5": {
          "model_module": "@jupyter-widgets/base",
          "model_name": "LayoutModel",
          "model_module_version": "1.2.0",
          "state": {
            "_model_module": "@jupyter-widgets/base",
            "_model_module_version": "1.2.0",
            "_model_name": "LayoutModel",
            "_view_count": null,
            "_view_module": "@jupyter-widgets/base",
            "_view_module_version": "1.2.0",
            "_view_name": "LayoutView",
            "align_content": null,
            "align_items": null,
            "align_self": null,
            "border": null,
            "bottom": null,
            "display": null,
            "flex": null,
            "flex_flow": null,
            "grid_area": null,
            "grid_auto_columns": null,
            "grid_auto_flow": null,
            "grid_auto_rows": null,
            "grid_column": null,
            "grid_gap": null,
            "grid_row": null,
            "grid_template_areas": null,
            "grid_template_columns": null,
            "grid_template_rows": null,
            "height": null,
            "justify_content": null,
            "justify_items": null,
            "left": null,
            "margin": null,
            "max_height": null,
            "max_width": null,
            "min_height": null,
            "min_width": null,
            "object_fit": null,
            "object_position": null,
            "order": null,
            "overflow": null,
            "overflow_x": null,
            "overflow_y": null,
            "padding": null,
            "right": null,
            "top": null,
            "visibility": null,
            "width": null
          }
        },
        "f4032ef6ef3e4f2d944d8ab3a3c93295": {
          "model_module": "@jupyter-widgets/controls",
          "model_name": "DescriptionStyleModel",
          "model_module_version": "1.5.0",
          "state": {
            "_model_module": "@jupyter-widgets/controls",
            "_model_module_version": "1.5.0",
            "_model_name": "DescriptionStyleModel",
            "_view_count": null,
            "_view_module": "@jupyter-widgets/base",
            "_view_module_version": "1.2.0",
            "_view_name": "StyleView",
            "description_width": ""
          }
        },
        "3276a8849f3d47b584d86d26402a38f4": {
          "model_module": "@jupyter-widgets/controls",
          "model_name": "HBoxModel",
          "model_module_version": "1.5.0",
          "state": {
            "_dom_classes": [],
            "_model_module": "@jupyter-widgets/controls",
            "_model_module_version": "1.5.0",
            "_model_name": "HBoxModel",
            "_view_count": null,
            "_view_module": "@jupyter-widgets/controls",
            "_view_module_version": "1.5.0",
            "_view_name": "HBoxView",
            "box_style": "",
            "children": [
              "IPY_MODEL_3a5de358120b46ff876029f96403ed68",
              "IPY_MODEL_6c8871eec7314b83b50cf86bcac65f27",
              "IPY_MODEL_525f5f9f422944bc9cc4fc4090b25eaa"
            ],
            "layout": "IPY_MODEL_56639355f61941aabd03c2f07fbb94ba"
          }
        },
        "3a5de358120b46ff876029f96403ed68": {
          "model_module": "@jupyter-widgets/controls",
          "model_name": "HTMLModel",
          "model_module_version": "1.5.0",
          "state": {
            "_dom_classes": [],
            "_model_module": "@jupyter-widgets/controls",
            "_model_module_version": "1.5.0",
            "_model_name": "HTMLModel",
            "_view_count": null,
            "_view_module": "@jupyter-widgets/controls",
            "_view_module_version": "1.5.0",
            "_view_name": "HTMLView",
            "description": "",
            "description_tooltip": null,
            "layout": "IPY_MODEL_c9f3c04b382446ebaeface74a8dc27fc",
            "placeholder": "​",
            "style": "IPY_MODEL_265176d3e21d48f2baf678cded43d6a6",
            "value": "Generating train examples...:  98%"
          }
        },
        "6c8871eec7314b83b50cf86bcac65f27": {
          "model_module": "@jupyter-widgets/controls",
          "model_name": "FloatProgressModel",
          "model_module_version": "1.5.0",
          "state": {
            "_dom_classes": [],
            "_model_module": "@jupyter-widgets/controls",
            "_model_module_version": "1.5.0",
            "_model_name": "FloatProgressModel",
            "_view_count": null,
            "_view_module": "@jupyter-widgets/controls",
            "_view_module_version": "1.5.0",
            "_view_name": "ProgressView",
            "bar_style": "",
            "description": "",
            "description_tooltip": null,
            "layout": "IPY_MODEL_7165eb8ecea34cd0aceaafa9219ea87b",
            "max": 60000,
            "min": 0,
            "orientation": "horizontal",
            "style": "IPY_MODEL_7a394064e9b848568e73943c1219bd7c",
            "value": 60000
          }
        },
        "525f5f9f422944bc9cc4fc4090b25eaa": {
          "model_module": "@jupyter-widgets/controls",
          "model_name": "HTMLModel",
          "model_module_version": "1.5.0",
          "state": {
            "_dom_classes": [],
            "_model_module": "@jupyter-widgets/controls",
            "_model_module_version": "1.5.0",
            "_model_name": "HTMLModel",
            "_view_count": null,
            "_view_module": "@jupyter-widgets/controls",
            "_view_module_version": "1.5.0",
            "_view_name": "HTMLView",
            "description": "",
            "description_tooltip": null,
            "layout": "IPY_MODEL_a661de638cef4cdfac1e5b9101b21c28",
            "placeholder": "​",
            "style": "IPY_MODEL_b1e52f1c99284390b0a301c6f15c0683",
            "value": " 58859/60000 [00:46&lt;00:00, 1570.31 examples/s]"
          }
        },
        "56639355f61941aabd03c2f07fbb94ba": {
          "model_module": "@jupyter-widgets/base",
          "model_name": "LayoutModel",
          "model_module_version": "1.2.0",
          "state": {
            "_model_module": "@jupyter-widgets/base",
            "_model_module_version": "1.2.0",
            "_model_name": "LayoutModel",
            "_view_count": null,
            "_view_module": "@jupyter-widgets/base",
            "_view_module_version": "1.2.0",
            "_view_name": "LayoutView",
            "align_content": null,
            "align_items": null,
            "align_self": null,
            "border": null,
            "bottom": null,
            "display": null,
            "flex": null,
            "flex_flow": null,
            "grid_area": null,
            "grid_auto_columns": null,
            "grid_auto_flow": null,
            "grid_auto_rows": null,
            "grid_column": null,
            "grid_gap": null,
            "grid_row": null,
            "grid_template_areas": null,
            "grid_template_columns": null,
            "grid_template_rows": null,
            "height": null,
            "justify_content": null,
            "justify_items": null,
            "left": null,
            "margin": null,
            "max_height": null,
            "max_width": null,
            "min_height": null,
            "min_width": null,
            "object_fit": null,
            "object_position": null,
            "order": null,
            "overflow": null,
            "overflow_x": null,
            "overflow_y": null,
            "padding": null,
            "right": null,
            "top": null,
            "visibility": "hidden",
            "width": null
          }
        },
        "c9f3c04b382446ebaeface74a8dc27fc": {
          "model_module": "@jupyter-widgets/base",
          "model_name": "LayoutModel",
          "model_module_version": "1.2.0",
          "state": {
            "_model_module": "@jupyter-widgets/base",
            "_model_module_version": "1.2.0",
            "_model_name": "LayoutModel",
            "_view_count": null,
            "_view_module": "@jupyter-widgets/base",
            "_view_module_version": "1.2.0",
            "_view_name": "LayoutView",
            "align_content": null,
            "align_items": null,
            "align_self": null,
            "border": null,
            "bottom": null,
            "display": null,
            "flex": null,
            "flex_flow": null,
            "grid_area": null,
            "grid_auto_columns": null,
            "grid_auto_flow": null,
            "grid_auto_rows": null,
            "grid_column": null,
            "grid_gap": null,
            "grid_row": null,
            "grid_template_areas": null,
            "grid_template_columns": null,
            "grid_template_rows": null,
            "height": null,
            "justify_content": null,
            "justify_items": null,
            "left": null,
            "margin": null,
            "max_height": null,
            "max_width": null,
            "min_height": null,
            "min_width": null,
            "object_fit": null,
            "object_position": null,
            "order": null,
            "overflow": null,
            "overflow_x": null,
            "overflow_y": null,
            "padding": null,
            "right": null,
            "top": null,
            "visibility": null,
            "width": null
          }
        },
        "265176d3e21d48f2baf678cded43d6a6": {
          "model_module": "@jupyter-widgets/controls",
          "model_name": "DescriptionStyleModel",
          "model_module_version": "1.5.0",
          "state": {
            "_model_module": "@jupyter-widgets/controls",
            "_model_module_version": "1.5.0",
            "_model_name": "DescriptionStyleModel",
            "_view_count": null,
            "_view_module": "@jupyter-widgets/base",
            "_view_module_version": "1.2.0",
            "_view_name": "StyleView",
            "description_width": ""
          }
        },
        "7165eb8ecea34cd0aceaafa9219ea87b": {
          "model_module": "@jupyter-widgets/base",
          "model_name": "LayoutModel",
          "model_module_version": "1.2.0",
          "state": {
            "_model_module": "@jupyter-widgets/base",
            "_model_module_version": "1.2.0",
            "_model_name": "LayoutModel",
            "_view_count": null,
            "_view_module": "@jupyter-widgets/base",
            "_view_module_version": "1.2.0",
            "_view_name": "LayoutView",
            "align_content": null,
            "align_items": null,
            "align_self": null,
            "border": null,
            "bottom": null,
            "display": null,
            "flex": null,
            "flex_flow": null,
            "grid_area": null,
            "grid_auto_columns": null,
            "grid_auto_flow": null,
            "grid_auto_rows": null,
            "grid_column": null,
            "grid_gap": null,
            "grid_row": null,
            "grid_template_areas": null,
            "grid_template_columns": null,
            "grid_template_rows": null,
            "height": null,
            "justify_content": null,
            "justify_items": null,
            "left": null,
            "margin": null,
            "max_height": null,
            "max_width": null,
            "min_height": null,
            "min_width": null,
            "object_fit": null,
            "object_position": null,
            "order": null,
            "overflow": null,
            "overflow_x": null,
            "overflow_y": null,
            "padding": null,
            "right": null,
            "top": null,
            "visibility": null,
            "width": null
          }
        },
        "7a394064e9b848568e73943c1219bd7c": {
          "model_module": "@jupyter-widgets/controls",
          "model_name": "ProgressStyleModel",
          "model_module_version": "1.5.0",
          "state": {
            "_model_module": "@jupyter-widgets/controls",
            "_model_module_version": "1.5.0",
            "_model_name": "ProgressStyleModel",
            "_view_count": null,
            "_view_module": "@jupyter-widgets/base",
            "_view_module_version": "1.2.0",
            "_view_name": "StyleView",
            "bar_color": null,
            "description_width": ""
          }
        },
        "a661de638cef4cdfac1e5b9101b21c28": {
          "model_module": "@jupyter-widgets/base",
          "model_name": "LayoutModel",
          "model_module_version": "1.2.0",
          "state": {
            "_model_module": "@jupyter-widgets/base",
            "_model_module_version": "1.2.0",
            "_model_name": "LayoutModel",
            "_view_count": null,
            "_view_module": "@jupyter-widgets/base",
            "_view_module_version": "1.2.0",
            "_view_name": "LayoutView",
            "align_content": null,
            "align_items": null,
            "align_self": null,
            "border": null,
            "bottom": null,
            "display": null,
            "flex": null,
            "flex_flow": null,
            "grid_area": null,
            "grid_auto_columns": null,
            "grid_auto_flow": null,
            "grid_auto_rows": null,
            "grid_column": null,
            "grid_gap": null,
            "grid_row": null,
            "grid_template_areas": null,
            "grid_template_columns": null,
            "grid_template_rows": null,
            "height": null,
            "justify_content": null,
            "justify_items": null,
            "left": null,
            "margin": null,
            "max_height": null,
            "max_width": null,
            "min_height": null,
            "min_width": null,
            "object_fit": null,
            "object_position": null,
            "order": null,
            "overflow": null,
            "overflow_x": null,
            "overflow_y": null,
            "padding": null,
            "right": null,
            "top": null,
            "visibility": null,
            "width": null
          }
        },
        "b1e52f1c99284390b0a301c6f15c0683": {
          "model_module": "@jupyter-widgets/controls",
          "model_name": "DescriptionStyleModel",
          "model_module_version": "1.5.0",
          "state": {
            "_model_module": "@jupyter-widgets/controls",
            "_model_module_version": "1.5.0",
            "_model_name": "DescriptionStyleModel",
            "_view_count": null,
            "_view_module": "@jupyter-widgets/base",
            "_view_module_version": "1.2.0",
            "_view_name": "StyleView",
            "description_width": ""
          }
        },
        "3edd255d1a834d53b7c97324916fe6c4": {
          "model_module": "@jupyter-widgets/controls",
          "model_name": "HBoxModel",
          "model_module_version": "1.5.0",
          "state": {
            "_dom_classes": [],
            "_model_module": "@jupyter-widgets/controls",
            "_model_module_version": "1.5.0",
            "_model_name": "HBoxModel",
            "_view_count": null,
            "_view_module": "@jupyter-widgets/controls",
            "_view_module_version": "1.5.0",
            "_view_name": "HBoxView",
            "box_style": "",
            "children": [
              "IPY_MODEL_e20670fd77cf4085beffcbb19a72dd54",
              "IPY_MODEL_df5a29477ce34c8a8450b4735d602998",
              "IPY_MODEL_59f6f08ab13b451db4546b047f330f82"
            ],
            "layout": "IPY_MODEL_5c7085fe6b1d49859b1d3f038fb894f9"
          }
        },
        "e20670fd77cf4085beffcbb19a72dd54": {
          "model_module": "@jupyter-widgets/controls",
          "model_name": "HTMLModel",
          "model_module_version": "1.5.0",
          "state": {
            "_dom_classes": [],
            "_model_module": "@jupyter-widgets/controls",
            "_model_module_version": "1.5.0",
            "_model_name": "HTMLModel",
            "_view_count": null,
            "_view_module": "@jupyter-widgets/controls",
            "_view_module_version": "1.5.0",
            "_view_name": "HTMLView",
            "description": "",
            "description_tooltip": null,
            "layout": "IPY_MODEL_69bb64475b89427fb180e465e5272273",
            "placeholder": "​",
            "style": "IPY_MODEL_1cc8e588db094c05b3ed39ca4411f04b",
            "value": "Shuffling /root/tensorflow_datasets/fashion_mnist/3.0.1.incompleteTQTW6M/fashion_mnist-train.tfrecord*...:  77%"
          }
        },
        "df5a29477ce34c8a8450b4735d602998": {
          "model_module": "@jupyter-widgets/controls",
          "model_name": "FloatProgressModel",
          "model_module_version": "1.5.0",
          "state": {
            "_dom_classes": [],
            "_model_module": "@jupyter-widgets/controls",
            "_model_module_version": "1.5.0",
            "_model_name": "FloatProgressModel",
            "_view_count": null,
            "_view_module": "@jupyter-widgets/controls",
            "_view_module_version": "1.5.0",
            "_view_name": "ProgressView",
            "bar_style": "",
            "description": "",
            "description_tooltip": null,
            "layout": "IPY_MODEL_db2ed207a25e4170a3ca0ad9bf6e6609",
            "max": 60000,
            "min": 0,
            "orientation": "horizontal",
            "style": "IPY_MODEL_6e75a613fe04448f9fdf07b911e605fd",
            "value": 60000
          }
        },
        "59f6f08ab13b451db4546b047f330f82": {
          "model_module": "@jupyter-widgets/controls",
          "model_name": "HTMLModel",
          "model_module_version": "1.5.0",
          "state": {
            "_dom_classes": [],
            "_model_module": "@jupyter-widgets/controls",
            "_model_module_version": "1.5.0",
            "_model_name": "HTMLModel",
            "_view_count": null,
            "_view_module": "@jupyter-widgets/controls",
            "_view_module_version": "1.5.0",
            "_view_name": "HTMLView",
            "description": "",
            "description_tooltip": null,
            "layout": "IPY_MODEL_ff9d105c721244929163ca0a68d572cb",
            "placeholder": "​",
            "style": "IPY_MODEL_c3ead7038793478f8263b205cc875a21",
            "value": " 46055/60000 [00:00&lt;00:00, 253859.05 examples/s]"
          }
        },
        "5c7085fe6b1d49859b1d3f038fb894f9": {
          "model_module": "@jupyter-widgets/base",
          "model_name": "LayoutModel",
          "model_module_version": "1.2.0",
          "state": {
            "_model_module": "@jupyter-widgets/base",
            "_model_module_version": "1.2.0",
            "_model_name": "LayoutModel",
            "_view_count": null,
            "_view_module": "@jupyter-widgets/base",
            "_view_module_version": "1.2.0",
            "_view_name": "LayoutView",
            "align_content": null,
            "align_items": null,
            "align_self": null,
            "border": null,
            "bottom": null,
            "display": null,
            "flex": null,
            "flex_flow": null,
            "grid_area": null,
            "grid_auto_columns": null,
            "grid_auto_flow": null,
            "grid_auto_rows": null,
            "grid_column": null,
            "grid_gap": null,
            "grid_row": null,
            "grid_template_areas": null,
            "grid_template_columns": null,
            "grid_template_rows": null,
            "height": null,
            "justify_content": null,
            "justify_items": null,
            "left": null,
            "margin": null,
            "max_height": null,
            "max_width": null,
            "min_height": null,
            "min_width": null,
            "object_fit": null,
            "object_position": null,
            "order": null,
            "overflow": null,
            "overflow_x": null,
            "overflow_y": null,
            "padding": null,
            "right": null,
            "top": null,
            "visibility": "hidden",
            "width": null
          }
        },
        "69bb64475b89427fb180e465e5272273": {
          "model_module": "@jupyter-widgets/base",
          "model_name": "LayoutModel",
          "model_module_version": "1.2.0",
          "state": {
            "_model_module": "@jupyter-widgets/base",
            "_model_module_version": "1.2.0",
            "_model_name": "LayoutModel",
            "_view_count": null,
            "_view_module": "@jupyter-widgets/base",
            "_view_module_version": "1.2.0",
            "_view_name": "LayoutView",
            "align_content": null,
            "align_items": null,
            "align_self": null,
            "border": null,
            "bottom": null,
            "display": null,
            "flex": null,
            "flex_flow": null,
            "grid_area": null,
            "grid_auto_columns": null,
            "grid_auto_flow": null,
            "grid_auto_rows": null,
            "grid_column": null,
            "grid_gap": null,
            "grid_row": null,
            "grid_template_areas": null,
            "grid_template_columns": null,
            "grid_template_rows": null,
            "height": null,
            "justify_content": null,
            "justify_items": null,
            "left": null,
            "margin": null,
            "max_height": null,
            "max_width": null,
            "min_height": null,
            "min_width": null,
            "object_fit": null,
            "object_position": null,
            "order": null,
            "overflow": null,
            "overflow_x": null,
            "overflow_y": null,
            "padding": null,
            "right": null,
            "top": null,
            "visibility": null,
            "width": null
          }
        },
        "1cc8e588db094c05b3ed39ca4411f04b": {
          "model_module": "@jupyter-widgets/controls",
          "model_name": "DescriptionStyleModel",
          "model_module_version": "1.5.0",
          "state": {
            "_model_module": "@jupyter-widgets/controls",
            "_model_module_version": "1.5.0",
            "_model_name": "DescriptionStyleModel",
            "_view_count": null,
            "_view_module": "@jupyter-widgets/base",
            "_view_module_version": "1.2.0",
            "_view_name": "StyleView",
            "description_width": ""
          }
        },
        "db2ed207a25e4170a3ca0ad9bf6e6609": {
          "model_module": "@jupyter-widgets/base",
          "model_name": "LayoutModel",
          "model_module_version": "1.2.0",
          "state": {
            "_model_module": "@jupyter-widgets/base",
            "_model_module_version": "1.2.0",
            "_model_name": "LayoutModel",
            "_view_count": null,
            "_view_module": "@jupyter-widgets/base",
            "_view_module_version": "1.2.0",
            "_view_name": "LayoutView",
            "align_content": null,
            "align_items": null,
            "align_self": null,
            "border": null,
            "bottom": null,
            "display": null,
            "flex": null,
            "flex_flow": null,
            "grid_area": null,
            "grid_auto_columns": null,
            "grid_auto_flow": null,
            "grid_auto_rows": null,
            "grid_column": null,
            "grid_gap": null,
            "grid_row": null,
            "grid_template_areas": null,
            "grid_template_columns": null,
            "grid_template_rows": null,
            "height": null,
            "justify_content": null,
            "justify_items": null,
            "left": null,
            "margin": null,
            "max_height": null,
            "max_width": null,
            "min_height": null,
            "min_width": null,
            "object_fit": null,
            "object_position": null,
            "order": null,
            "overflow": null,
            "overflow_x": null,
            "overflow_y": null,
            "padding": null,
            "right": null,
            "top": null,
            "visibility": null,
            "width": null
          }
        },
        "6e75a613fe04448f9fdf07b911e605fd": {
          "model_module": "@jupyter-widgets/controls",
          "model_name": "ProgressStyleModel",
          "model_module_version": "1.5.0",
          "state": {
            "_model_module": "@jupyter-widgets/controls",
            "_model_module_version": "1.5.0",
            "_model_name": "ProgressStyleModel",
            "_view_count": null,
            "_view_module": "@jupyter-widgets/base",
            "_view_module_version": "1.2.0",
            "_view_name": "StyleView",
            "bar_color": null,
            "description_width": ""
          }
        },
        "ff9d105c721244929163ca0a68d572cb": {
          "model_module": "@jupyter-widgets/base",
          "model_name": "LayoutModel",
          "model_module_version": "1.2.0",
          "state": {
            "_model_module": "@jupyter-widgets/base",
            "_model_module_version": "1.2.0",
            "_model_name": "LayoutModel",
            "_view_count": null,
            "_view_module": "@jupyter-widgets/base",
            "_view_module_version": "1.2.0",
            "_view_name": "LayoutView",
            "align_content": null,
            "align_items": null,
            "align_self": null,
            "border": null,
            "bottom": null,
            "display": null,
            "flex": null,
            "flex_flow": null,
            "grid_area": null,
            "grid_auto_columns": null,
            "grid_auto_flow": null,
            "grid_auto_rows": null,
            "grid_column": null,
            "grid_gap": null,
            "grid_row": null,
            "grid_template_areas": null,
            "grid_template_columns": null,
            "grid_template_rows": null,
            "height": null,
            "justify_content": null,
            "justify_items": null,
            "left": null,
            "margin": null,
            "max_height": null,
            "max_width": null,
            "min_height": null,
            "min_width": null,
            "object_fit": null,
            "object_position": null,
            "order": null,
            "overflow": null,
            "overflow_x": null,
            "overflow_y": null,
            "padding": null,
            "right": null,
            "top": null,
            "visibility": null,
            "width": null
          }
        },
        "c3ead7038793478f8263b205cc875a21": {
          "model_module": "@jupyter-widgets/controls",
          "model_name": "DescriptionStyleModel",
          "model_module_version": "1.5.0",
          "state": {
            "_model_module": "@jupyter-widgets/controls",
            "_model_module_version": "1.5.0",
            "_model_name": "DescriptionStyleModel",
            "_view_count": null,
            "_view_module": "@jupyter-widgets/base",
            "_view_module_version": "1.2.0",
            "_view_name": "StyleView",
            "description_width": ""
          }
        },
        "36d545d346c54acdba17367bd1f9d0a2": {
          "model_module": "@jupyter-widgets/controls",
          "model_name": "HBoxModel",
          "model_module_version": "1.5.0",
          "state": {
            "_dom_classes": [],
            "_model_module": "@jupyter-widgets/controls",
            "_model_module_version": "1.5.0",
            "_model_name": "HBoxModel",
            "_view_count": null,
            "_view_module": "@jupyter-widgets/controls",
            "_view_module_version": "1.5.0",
            "_view_name": "HBoxView",
            "box_style": "",
            "children": [
              "IPY_MODEL_0ad46c9968744c05a6fc38cca385b757",
              "IPY_MODEL_2b07bc149abe4f86823ddc3901409e33",
              "IPY_MODEL_bdc436220cce4fc6984d4c2950eb0d1b"
            ],
            "layout": "IPY_MODEL_2f202b7c51974831851a6865c7272528"
          }
        },
        "0ad46c9968744c05a6fc38cca385b757": {
          "model_module": "@jupyter-widgets/controls",
          "model_name": "HTMLModel",
          "model_module_version": "1.5.0",
          "state": {
            "_dom_classes": [],
            "_model_module": "@jupyter-widgets/controls",
            "_model_module_version": "1.5.0",
            "_model_name": "HTMLModel",
            "_view_count": null,
            "_view_module": "@jupyter-widgets/controls",
            "_view_module_version": "1.5.0",
            "_view_name": "HTMLView",
            "description": "",
            "description_tooltip": null,
            "layout": "IPY_MODEL_cc6633cb31454a099762ec6a19e1b9f9",
            "placeholder": "​",
            "style": "IPY_MODEL_008f58b8ceb5432e932d5c41dd1aa363",
            "value": "Generating test examples...:  93%"
          }
        },
        "2b07bc149abe4f86823ddc3901409e33": {
          "model_module": "@jupyter-widgets/controls",
          "model_name": "FloatProgressModel",
          "model_module_version": "1.5.0",
          "state": {
            "_dom_classes": [],
            "_model_module": "@jupyter-widgets/controls",
            "_model_module_version": "1.5.0",
            "_model_name": "FloatProgressModel",
            "_view_count": null,
            "_view_module": "@jupyter-widgets/controls",
            "_view_module_version": "1.5.0",
            "_view_name": "ProgressView",
            "bar_style": "",
            "description": "",
            "description_tooltip": null,
            "layout": "IPY_MODEL_27afcdde18e94619bdefe80a3b86eedd",
            "max": 10000,
            "min": 0,
            "orientation": "horizontal",
            "style": "IPY_MODEL_a5de562a782f4358b6343921518460f2",
            "value": 10000
          }
        },
        "bdc436220cce4fc6984d4c2950eb0d1b": {
          "model_module": "@jupyter-widgets/controls",
          "model_name": "HTMLModel",
          "model_module_version": "1.5.0",
          "state": {
            "_dom_classes": [],
            "_model_module": "@jupyter-widgets/controls",
            "_model_module_version": "1.5.0",
            "_model_name": "HTMLModel",
            "_view_count": null,
            "_view_module": "@jupyter-widgets/controls",
            "_view_module_version": "1.5.0",
            "_view_name": "HTMLView",
            "description": "",
            "description_tooltip": null,
            "layout": "IPY_MODEL_1bdd97c1dad64748a92963d2c7daddec",
            "placeholder": "​",
            "style": "IPY_MODEL_3f1cb4e79e4e4101bf022750169036f3",
            "value": " 9312/10000 [00:06&lt;00:00, 1489.05 examples/s]"
          }
        },
        "2f202b7c51974831851a6865c7272528": {
          "model_module": "@jupyter-widgets/base",
          "model_name": "LayoutModel",
          "model_module_version": "1.2.0",
          "state": {
            "_model_module": "@jupyter-widgets/base",
            "_model_module_version": "1.2.0",
            "_model_name": "LayoutModel",
            "_view_count": null,
            "_view_module": "@jupyter-widgets/base",
            "_view_module_version": "1.2.0",
            "_view_name": "LayoutView",
            "align_content": null,
            "align_items": null,
            "align_self": null,
            "border": null,
            "bottom": null,
            "display": null,
            "flex": null,
            "flex_flow": null,
            "grid_area": null,
            "grid_auto_columns": null,
            "grid_auto_flow": null,
            "grid_auto_rows": null,
            "grid_column": null,
            "grid_gap": null,
            "grid_row": null,
            "grid_template_areas": null,
            "grid_template_columns": null,
            "grid_template_rows": null,
            "height": null,
            "justify_content": null,
            "justify_items": null,
            "left": null,
            "margin": null,
            "max_height": null,
            "max_width": null,
            "min_height": null,
            "min_width": null,
            "object_fit": null,
            "object_position": null,
            "order": null,
            "overflow": null,
            "overflow_x": null,
            "overflow_y": null,
            "padding": null,
            "right": null,
            "top": null,
            "visibility": "hidden",
            "width": null
          }
        },
        "cc6633cb31454a099762ec6a19e1b9f9": {
          "model_module": "@jupyter-widgets/base",
          "model_name": "LayoutModel",
          "model_module_version": "1.2.0",
          "state": {
            "_model_module": "@jupyter-widgets/base",
            "_model_module_version": "1.2.0",
            "_model_name": "LayoutModel",
            "_view_count": null,
            "_view_module": "@jupyter-widgets/base",
            "_view_module_version": "1.2.0",
            "_view_name": "LayoutView",
            "align_content": null,
            "align_items": null,
            "align_self": null,
            "border": null,
            "bottom": null,
            "display": null,
            "flex": null,
            "flex_flow": null,
            "grid_area": null,
            "grid_auto_columns": null,
            "grid_auto_flow": null,
            "grid_auto_rows": null,
            "grid_column": null,
            "grid_gap": null,
            "grid_row": null,
            "grid_template_areas": null,
            "grid_template_columns": null,
            "grid_template_rows": null,
            "height": null,
            "justify_content": null,
            "justify_items": null,
            "left": null,
            "margin": null,
            "max_height": null,
            "max_width": null,
            "min_height": null,
            "min_width": null,
            "object_fit": null,
            "object_position": null,
            "order": null,
            "overflow": null,
            "overflow_x": null,
            "overflow_y": null,
            "padding": null,
            "right": null,
            "top": null,
            "visibility": null,
            "width": null
          }
        },
        "008f58b8ceb5432e932d5c41dd1aa363": {
          "model_module": "@jupyter-widgets/controls",
          "model_name": "DescriptionStyleModel",
          "model_module_version": "1.5.0",
          "state": {
            "_model_module": "@jupyter-widgets/controls",
            "_model_module_version": "1.5.0",
            "_model_name": "DescriptionStyleModel",
            "_view_count": null,
            "_view_module": "@jupyter-widgets/base",
            "_view_module_version": "1.2.0",
            "_view_name": "StyleView",
            "description_width": ""
          }
        },
        "27afcdde18e94619bdefe80a3b86eedd": {
          "model_module": "@jupyter-widgets/base",
          "model_name": "LayoutModel",
          "model_module_version": "1.2.0",
          "state": {
            "_model_module": "@jupyter-widgets/base",
            "_model_module_version": "1.2.0",
            "_model_name": "LayoutModel",
            "_view_count": null,
            "_view_module": "@jupyter-widgets/base",
            "_view_module_version": "1.2.0",
            "_view_name": "LayoutView",
            "align_content": null,
            "align_items": null,
            "align_self": null,
            "border": null,
            "bottom": null,
            "display": null,
            "flex": null,
            "flex_flow": null,
            "grid_area": null,
            "grid_auto_columns": null,
            "grid_auto_flow": null,
            "grid_auto_rows": null,
            "grid_column": null,
            "grid_gap": null,
            "grid_row": null,
            "grid_template_areas": null,
            "grid_template_columns": null,
            "grid_template_rows": null,
            "height": null,
            "justify_content": null,
            "justify_items": null,
            "left": null,
            "margin": null,
            "max_height": null,
            "max_width": null,
            "min_height": null,
            "min_width": null,
            "object_fit": null,
            "object_position": null,
            "order": null,
            "overflow": null,
            "overflow_x": null,
            "overflow_y": null,
            "padding": null,
            "right": null,
            "top": null,
            "visibility": null,
            "width": null
          }
        },
        "a5de562a782f4358b6343921518460f2": {
          "model_module": "@jupyter-widgets/controls",
          "model_name": "ProgressStyleModel",
          "model_module_version": "1.5.0",
          "state": {
            "_model_module": "@jupyter-widgets/controls",
            "_model_module_version": "1.5.0",
            "_model_name": "ProgressStyleModel",
            "_view_count": null,
            "_view_module": "@jupyter-widgets/base",
            "_view_module_version": "1.2.0",
            "_view_name": "StyleView",
            "bar_color": null,
            "description_width": ""
          }
        },
        "1bdd97c1dad64748a92963d2c7daddec": {
          "model_module": "@jupyter-widgets/base",
          "model_name": "LayoutModel",
          "model_module_version": "1.2.0",
          "state": {
            "_model_module": "@jupyter-widgets/base",
            "_model_module_version": "1.2.0",
            "_model_name": "LayoutModel",
            "_view_count": null,
            "_view_module": "@jupyter-widgets/base",
            "_view_module_version": "1.2.0",
            "_view_name": "LayoutView",
            "align_content": null,
            "align_items": null,
            "align_self": null,
            "border": null,
            "bottom": null,
            "display": null,
            "flex": null,
            "flex_flow": null,
            "grid_area": null,
            "grid_auto_columns": null,
            "grid_auto_flow": null,
            "grid_auto_rows": null,
            "grid_column": null,
            "grid_gap": null,
            "grid_row": null,
            "grid_template_areas": null,
            "grid_template_columns": null,
            "grid_template_rows": null,
            "height": null,
            "justify_content": null,
            "justify_items": null,
            "left": null,
            "margin": null,
            "max_height": null,
            "max_width": null,
            "min_height": null,
            "min_width": null,
            "object_fit": null,
            "object_position": null,
            "order": null,
            "overflow": null,
            "overflow_x": null,
            "overflow_y": null,
            "padding": null,
            "right": null,
            "top": null,
            "visibility": null,
            "width": null
          }
        },
        "3f1cb4e79e4e4101bf022750169036f3": {
          "model_module": "@jupyter-widgets/controls",
          "model_name": "DescriptionStyleModel",
          "model_module_version": "1.5.0",
          "state": {
            "_model_module": "@jupyter-widgets/controls",
            "_model_module_version": "1.5.0",
            "_model_name": "DescriptionStyleModel",
            "_view_count": null,
            "_view_module": "@jupyter-widgets/base",
            "_view_module_version": "1.2.0",
            "_view_name": "StyleView",
            "description_width": ""
          }
        },
        "d47f1b9d3f324ca5bcc74dd9579847f4": {
          "model_module": "@jupyter-widgets/controls",
          "model_name": "HBoxModel",
          "model_module_version": "1.5.0",
          "state": {
            "_dom_classes": [],
            "_model_module": "@jupyter-widgets/controls",
            "_model_module_version": "1.5.0",
            "_model_name": "HBoxModel",
            "_view_count": null,
            "_view_module": "@jupyter-widgets/controls",
            "_view_module_version": "1.5.0",
            "_view_name": "HBoxView",
            "box_style": "",
            "children": [
              "IPY_MODEL_775f765f360c4d8b9f13cf8bac565b98",
              "IPY_MODEL_07f780b534ee420687372f424463fcbe",
              "IPY_MODEL_34a79f9d03ac4e8d94dde38eb2a8fe29"
            ],
            "layout": "IPY_MODEL_07c0adcbfa6345b593acac50a10f9e95"
          }
        },
        "775f765f360c4d8b9f13cf8bac565b98": {
          "model_module": "@jupyter-widgets/controls",
          "model_name": "HTMLModel",
          "model_module_version": "1.5.0",
          "state": {
            "_dom_classes": [],
            "_model_module": "@jupyter-widgets/controls",
            "_model_module_version": "1.5.0",
            "_model_name": "HTMLModel",
            "_view_count": null,
            "_view_module": "@jupyter-widgets/controls",
            "_view_module_version": "1.5.0",
            "_view_name": "HTMLView",
            "description": "",
            "description_tooltip": null,
            "layout": "IPY_MODEL_85b01678ebaf49848e6fa4b462527ded",
            "placeholder": "​",
            "style": "IPY_MODEL_576d53377a0749fc977bc42944bef140",
            "value": "Shuffling /root/tensorflow_datasets/fashion_mnist/3.0.1.incompleteTQTW6M/fashion_mnist-test.tfrecord*...:   0%"
          }
        },
        "07f780b534ee420687372f424463fcbe": {
          "model_module": "@jupyter-widgets/controls",
          "model_name": "FloatProgressModel",
          "model_module_version": "1.5.0",
          "state": {
            "_dom_classes": [],
            "_model_module": "@jupyter-widgets/controls",
            "_model_module_version": "1.5.0",
            "_model_name": "FloatProgressModel",
            "_view_count": null,
            "_view_module": "@jupyter-widgets/controls",
            "_view_module_version": "1.5.0",
            "_view_name": "ProgressView",
            "bar_style": "",
            "description": "",
            "description_tooltip": null,
            "layout": "IPY_MODEL_beaded36a2e3456fb033a399a3155412",
            "max": 10000,
            "min": 0,
            "orientation": "horizontal",
            "style": "IPY_MODEL_141d51a2b20d47fc90da3de7e97c34bc",
            "value": 10000
          }
        },
        "34a79f9d03ac4e8d94dde38eb2a8fe29": {
          "model_module": "@jupyter-widgets/controls",
          "model_name": "HTMLModel",
          "model_module_version": "1.5.0",
          "state": {
            "_dom_classes": [],
            "_model_module": "@jupyter-widgets/controls",
            "_model_module_version": "1.5.0",
            "_model_name": "HTMLModel",
            "_view_count": null,
            "_view_module": "@jupyter-widgets/controls",
            "_view_module_version": "1.5.0",
            "_view_name": "HTMLView",
            "description": "",
            "description_tooltip": null,
            "layout": "IPY_MODEL_5fb9e0f1ace2445b9c5dd141197860b8",
            "placeholder": "​",
            "style": "IPY_MODEL_1dbe83f68812412e9211dc432daa777b",
            "value": " 0/10000 [00:00&lt;?, ? examples/s]"
          }
        },
        "07c0adcbfa6345b593acac50a10f9e95": {
          "model_module": "@jupyter-widgets/base",
          "model_name": "LayoutModel",
          "model_module_version": "1.2.0",
          "state": {
            "_model_module": "@jupyter-widgets/base",
            "_model_module_version": "1.2.0",
            "_model_name": "LayoutModel",
            "_view_count": null,
            "_view_module": "@jupyter-widgets/base",
            "_view_module_version": "1.2.0",
            "_view_name": "LayoutView",
            "align_content": null,
            "align_items": null,
            "align_self": null,
            "border": null,
            "bottom": null,
            "display": null,
            "flex": null,
            "flex_flow": null,
            "grid_area": null,
            "grid_auto_columns": null,
            "grid_auto_flow": null,
            "grid_auto_rows": null,
            "grid_column": null,
            "grid_gap": null,
            "grid_row": null,
            "grid_template_areas": null,
            "grid_template_columns": null,
            "grid_template_rows": null,
            "height": null,
            "justify_content": null,
            "justify_items": null,
            "left": null,
            "margin": null,
            "max_height": null,
            "max_width": null,
            "min_height": null,
            "min_width": null,
            "object_fit": null,
            "object_position": null,
            "order": null,
            "overflow": null,
            "overflow_x": null,
            "overflow_y": null,
            "padding": null,
            "right": null,
            "top": null,
            "visibility": "hidden",
            "width": null
          }
        },
        "85b01678ebaf49848e6fa4b462527ded": {
          "model_module": "@jupyter-widgets/base",
          "model_name": "LayoutModel",
          "model_module_version": "1.2.0",
          "state": {
            "_model_module": "@jupyter-widgets/base",
            "_model_module_version": "1.2.0",
            "_model_name": "LayoutModel",
            "_view_count": null,
            "_view_module": "@jupyter-widgets/base",
            "_view_module_version": "1.2.0",
            "_view_name": "LayoutView",
            "align_content": null,
            "align_items": null,
            "align_self": null,
            "border": null,
            "bottom": null,
            "display": null,
            "flex": null,
            "flex_flow": null,
            "grid_area": null,
            "grid_auto_columns": null,
            "grid_auto_flow": null,
            "grid_auto_rows": null,
            "grid_column": null,
            "grid_gap": null,
            "grid_row": null,
            "grid_template_areas": null,
            "grid_template_columns": null,
            "grid_template_rows": null,
            "height": null,
            "justify_content": null,
            "justify_items": null,
            "left": null,
            "margin": null,
            "max_height": null,
            "max_width": null,
            "min_height": null,
            "min_width": null,
            "object_fit": null,
            "object_position": null,
            "order": null,
            "overflow": null,
            "overflow_x": null,
            "overflow_y": null,
            "padding": null,
            "right": null,
            "top": null,
            "visibility": null,
            "width": null
          }
        },
        "576d53377a0749fc977bc42944bef140": {
          "model_module": "@jupyter-widgets/controls",
          "model_name": "DescriptionStyleModel",
          "model_module_version": "1.5.0",
          "state": {
            "_model_module": "@jupyter-widgets/controls",
            "_model_module_version": "1.5.0",
            "_model_name": "DescriptionStyleModel",
            "_view_count": null,
            "_view_module": "@jupyter-widgets/base",
            "_view_module_version": "1.2.0",
            "_view_name": "StyleView",
            "description_width": ""
          }
        },
        "beaded36a2e3456fb033a399a3155412": {
          "model_module": "@jupyter-widgets/base",
          "model_name": "LayoutModel",
          "model_module_version": "1.2.0",
          "state": {
            "_model_module": "@jupyter-widgets/base",
            "_model_module_version": "1.2.0",
            "_model_name": "LayoutModel",
            "_view_count": null,
            "_view_module": "@jupyter-widgets/base",
            "_view_module_version": "1.2.0",
            "_view_name": "LayoutView",
            "align_content": null,
            "align_items": null,
            "align_self": null,
            "border": null,
            "bottom": null,
            "display": null,
            "flex": null,
            "flex_flow": null,
            "grid_area": null,
            "grid_auto_columns": null,
            "grid_auto_flow": null,
            "grid_auto_rows": null,
            "grid_column": null,
            "grid_gap": null,
            "grid_row": null,
            "grid_template_areas": null,
            "grid_template_columns": null,
            "grid_template_rows": null,
            "height": null,
            "justify_content": null,
            "justify_items": null,
            "left": null,
            "margin": null,
            "max_height": null,
            "max_width": null,
            "min_height": null,
            "min_width": null,
            "object_fit": null,
            "object_position": null,
            "order": null,
            "overflow": null,
            "overflow_x": null,
            "overflow_y": null,
            "padding": null,
            "right": null,
            "top": null,
            "visibility": null,
            "width": null
          }
        },
        "141d51a2b20d47fc90da3de7e97c34bc": {
          "model_module": "@jupyter-widgets/controls",
          "model_name": "ProgressStyleModel",
          "model_module_version": "1.5.0",
          "state": {
            "_model_module": "@jupyter-widgets/controls",
            "_model_module_version": "1.5.0",
            "_model_name": "ProgressStyleModel",
            "_view_count": null,
            "_view_module": "@jupyter-widgets/base",
            "_view_module_version": "1.2.0",
            "_view_name": "StyleView",
            "bar_color": null,
            "description_width": ""
          }
        },
        "5fb9e0f1ace2445b9c5dd141197860b8": {
          "model_module": "@jupyter-widgets/base",
          "model_name": "LayoutModel",
          "model_module_version": "1.2.0",
          "state": {
            "_model_module": "@jupyter-widgets/base",
            "_model_module_version": "1.2.0",
            "_model_name": "LayoutModel",
            "_view_count": null,
            "_view_module": "@jupyter-widgets/base",
            "_view_module_version": "1.2.0",
            "_view_name": "LayoutView",
            "align_content": null,
            "align_items": null,
            "align_self": null,
            "border": null,
            "bottom": null,
            "display": null,
            "flex": null,
            "flex_flow": null,
            "grid_area": null,
            "grid_auto_columns": null,
            "grid_auto_flow": null,
            "grid_auto_rows": null,
            "grid_column": null,
            "grid_gap": null,
            "grid_row": null,
            "grid_template_areas": null,
            "grid_template_columns": null,
            "grid_template_rows": null,
            "height": null,
            "justify_content": null,
            "justify_items": null,
            "left": null,
            "margin": null,
            "max_height": null,
            "max_width": null,
            "min_height": null,
            "min_width": null,
            "object_fit": null,
            "object_position": null,
            "order": null,
            "overflow": null,
            "overflow_x": null,
            "overflow_y": null,
            "padding": null,
            "right": null,
            "top": null,
            "visibility": null,
            "width": null
          }
        },
        "1dbe83f68812412e9211dc432daa777b": {
          "model_module": "@jupyter-widgets/controls",
          "model_name": "DescriptionStyleModel",
          "model_module_version": "1.5.0",
          "state": {
            "_model_module": "@jupyter-widgets/controls",
            "_model_module_version": "1.5.0",
            "_model_name": "DescriptionStyleModel",
            "_view_count": null,
            "_view_module": "@jupyter-widgets/base",
            "_view_module_version": "1.2.0",
            "_view_name": "StyleView",
            "description_width": ""
          }
        }
      }
    }
  },
  "cells": [
    {
      "cell_type": "markdown",
      "metadata": {
        "id": "view-in-github",
        "colab_type": "text"
      },
      "source": [
        "<a href=\"https://colab.research.google.com/github/AtriBh/GAN/blob/main/GAN.ipynb\" target=\"_parent\"><img src=\"https://colab.research.google.com/assets/colab-badge.svg\" alt=\"Open In Colab\"/></a>"
      ]
    },
    {
      "cell_type": "code",
      "execution_count": null,
      "metadata": {
        "id": "MPRlTya5awGF"
      },
      "outputs": [],
      "source": [
        "import tensorflow as tf"
      ]
    },
    {
      "cell_type": "code",
      "source": [
        "# To generate GIFs\n",
        "!pip install imageio\n",
        "!pip install git+https://github.com/tensorflow/docs"
      ],
      "metadata": {
        "colab": {
          "base_uri": "https://localhost:8080/"
        },
        "id": "_lgBd4Xva14s",
        "outputId": "373e96da-cd28-4df9-fa88-74a4a84a4363"
      },
      "execution_count": null,
      "outputs": [
        {
          "output_type": "stream",
          "name": "stdout",
          "text": [
            "Requirement already satisfied: imageio in /usr/local/lib/python3.10/dist-packages (2.31.6)\n",
            "Requirement already satisfied: numpy in /usr/local/lib/python3.10/dist-packages (from imageio) (1.23.5)\n",
            "Requirement already satisfied: pillow<10.1.0,>=8.3.2 in /usr/local/lib/python3.10/dist-packages (from imageio) (9.4.0)\n",
            "Collecting git+https://github.com/tensorflow/docs\n",
            "  Cloning https://github.com/tensorflow/docs to /tmp/pip-req-build-g8ma3bmf\n",
            "  Running command git clone --filter=blob:none --quiet https://github.com/tensorflow/docs /tmp/pip-req-build-g8ma3bmf\n",
            "  Resolved https://github.com/tensorflow/docs to commit 5ed8fbe64df2a05c6532919591219b545e61ef5f\n",
            "  Preparing metadata (setup.py) ... \u001b[?25l\u001b[?25hdone\n",
            "Collecting astor (from tensorflow-docs==2024.1.11.719)\n",
            "  Downloading astor-0.8.1-py2.py3-none-any.whl (27 kB)\n",
            "Requirement already satisfied: absl-py in /usr/local/lib/python3.10/dist-packages (from tensorflow-docs==2024.1.11.719) (1.4.0)\n",
            "Requirement already satisfied: jinja2 in /usr/local/lib/python3.10/dist-packages (from tensorflow-docs==2024.1.11.719) (3.1.2)\n",
            "Requirement already satisfied: nbformat in /usr/local/lib/python3.10/dist-packages (from tensorflow-docs==2024.1.11.719) (5.9.2)\n",
            "Requirement already satisfied: protobuf>=3.12 in /usr/local/lib/python3.10/dist-packages (from tensorflow-docs==2024.1.11.719) (3.20.3)\n",
            "Requirement already satisfied: pyyaml in /usr/local/lib/python3.10/dist-packages (from tensorflow-docs==2024.1.11.719) (6.0.1)\n",
            "Requirement already satisfied: MarkupSafe>=2.0 in /usr/local/lib/python3.10/dist-packages (from jinja2->tensorflow-docs==2024.1.11.719) (2.1.3)\n",
            "Requirement already satisfied: fastjsonschema in /usr/local/lib/python3.10/dist-packages (from nbformat->tensorflow-docs==2024.1.11.719) (2.19.1)\n",
            "Requirement already satisfied: jsonschema>=2.6 in /usr/local/lib/python3.10/dist-packages (from nbformat->tensorflow-docs==2024.1.11.719) (4.19.2)\n",
            "Requirement already satisfied: jupyter-core in /usr/local/lib/python3.10/dist-packages (from nbformat->tensorflow-docs==2024.1.11.719) (5.7.0)\n",
            "Requirement already satisfied: traitlets>=5.1 in /usr/local/lib/python3.10/dist-packages (from nbformat->tensorflow-docs==2024.1.11.719) (5.7.1)\n",
            "Requirement already satisfied: attrs>=22.2.0 in /usr/local/lib/python3.10/dist-packages (from jsonschema>=2.6->nbformat->tensorflow-docs==2024.1.11.719) (23.2.0)\n",
            "Requirement already satisfied: jsonschema-specifications>=2023.03.6 in /usr/local/lib/python3.10/dist-packages (from jsonschema>=2.6->nbformat->tensorflow-docs==2024.1.11.719) (2023.12.1)\n",
            "Requirement already satisfied: referencing>=0.28.4 in /usr/local/lib/python3.10/dist-packages (from jsonschema>=2.6->nbformat->tensorflow-docs==2024.1.11.719) (0.32.1)\n",
            "Requirement already satisfied: rpds-py>=0.7.1 in /usr/local/lib/python3.10/dist-packages (from jsonschema>=2.6->nbformat->tensorflow-docs==2024.1.11.719) (0.16.2)\n",
            "Requirement already satisfied: platformdirs>=2.5 in /usr/local/lib/python3.10/dist-packages (from jupyter-core->nbformat->tensorflow-docs==2024.1.11.719) (4.1.0)\n",
            "Building wheels for collected packages: tensorflow-docs\n",
            "  Building wheel for tensorflow-docs (setup.py) ... \u001b[?25l\u001b[?25hdone\n",
            "  Created wheel for tensorflow-docs: filename=tensorflow_docs-2024.1.11.719-py3-none-any.whl size=181231 sha256=c2cc99d38227b874f999a064869e0e74af4c8006de3a541eeac67cf1c1b21092\n",
            "  Stored in directory: /tmp/pip-ephem-wheel-cache-4ifeqiqj/wheels/86/0f/1e/3b62293c8ffd0fd5a49508e6871cdb7554abe9c62afd35ec53\n",
            "Successfully built tensorflow-docs\n",
            "Installing collected packages: astor, tensorflow-docs\n",
            "Successfully installed astor-0.8.1 tensorflow-docs-2024.1.11.719\n"
          ]
        }
      ]
    },
    {
      "cell_type": "code",
      "source": [
        "import glob\n",
        "import imageio\n",
        "import matplotlib.pyplot as plt\n",
        "import numpy as np\n",
        "import os\n",
        "import PIL\n",
        "from tensorflow.keras import layers\n",
        "import time\n",
        "\n",
        "from IPython import display"
      ],
      "metadata": {
        "id": "WZ4nd2oKbFNQ"
      },
      "execution_count": null,
      "outputs": []
    },
    {
      "cell_type": "code",
      "source": [
        "from tensorflow.keras.datasets import mnist"
      ],
      "metadata": {
        "id": "QN7DBMR5dM5Z"
      },
      "execution_count": null,
      "outputs": []
    },
    {
      "cell_type": "code",
      "source": [
        "(train_images,train_labels),(test_images,test_labels)=mnist.load_data()"
      ],
      "metadata": {
        "colab": {
          "base_uri": "https://localhost:8080/"
        },
        "id": "f9mMLNdqdm-s",
        "outputId": "d920e3e7-b8a5-4e50-871f-668d968ce6e5"
      },
      "execution_count": null,
      "outputs": [
        {
          "output_type": "stream",
          "name": "stdout",
          "text": [
            "Downloading data from https://storage.googleapis.com/tensorflow/tf-keras-datasets/mnist.npz\n",
            "11490434/11490434 [==============================] - 0s 0us/step\n"
          ]
        }
      ]
    },
    {
      "cell_type": "code",
      "source": [
        "train_images = train_images.reshape(train_images.shape[0], 28, 28, 1).astype('float32')\n",
        "train_images = (train_images - 127.5) / 127.5  # Normalize the images to [-1, 1]"
      ],
      "metadata": {
        "id": "SH8Et3aMdwos"
      },
      "execution_count": null,
      "outputs": []
    },
    {
      "cell_type": "code",
      "source": [
        "BUFFER_SIZE = 60000\n",
        "BATCH_SIZE = 256"
      ],
      "metadata": {
        "id": "M5PEFySkgL-m"
      },
      "execution_count": null,
      "outputs": []
    },
    {
      "cell_type": "code",
      "source": [
        "# Batch and shuffle the data\n",
        "train_dataset = tf.data.Dataset.from_tensor_slices(train_images).shuffle(BUFFER_SIZE).batch(BATCH_SIZE)"
      ],
      "metadata": {
        "id": "SiYUwWRIgH8l"
      },
      "execution_count": null,
      "outputs": []
    },
    {
      "cell_type": "markdown",
      "source": [
        "Certainly! It looks like you're working with TensorFlow and using its `tf.data.Dataset` API to create a dataset for training. Let's break down the functions used in the code snippet:\n",
        "\n",
        "1. **tf.data.Dataset.from_tensor_slices(train_images):**\n",
        "   - This function creates a dataset from a tensor or a list of tensors. In your case, `train_images` is likely a tensor containing your training data (images).\n",
        "   - Each element of the dataset corresponds to a slice of the first dimension of `train_images`. So, if `train_images` is a 3D tensor of shape (num_samples, height, width), each element in the dataset would be a 2D tensor representing a single image.\n",
        "\n",
        "2. **.shuffle(BUFFER_SIZE):**\n",
        "   - This function shuffles the elements of the dataset to introduce randomness during training.\n",
        "   - `BUFFER_SIZE` is the parameter that determines the size of the buffer used for shuffling. The dataset is initially filled with `BUFFER_SIZE` elements, and then elements are randomly chosen from this buffer.\n",
        "\n",
        "3. **.batch(BATCH_SIZE):**\n",
        "   - This function groups consecutive elements of the dataset into batches.\n",
        "   - `BATCH_SIZE` is the parameter that specifies the number of elements in each batch. The resulting batches will have a shape determined by adding an extra dimension to the original data shape, where the size of that dimension is `BATCH_SIZE`.\n",
        "\n",
        "In summary:\n",
        "- `from_tensor_slices` creates a dataset from the input tensor(s).\n",
        "- `shuffle` shuffles the elements to introduce randomness.\n",
        "- `batch` groups consecutive elements into batches.\n",
        "\n",
        "Putting it all together, your `train_dataset` is a shuffled and batched version of your training data, which is beneficial for training deep learning models as it introduces randomness and allows for more efficient processing in batches."
      ],
      "metadata": {
        "id": "_YarVd4CgYsJ"
      }
    },
    {
      "cell_type": "markdown",
      "source": [
        "The `tf.keras.layers.Conv2DTranspose` layer in TensorFlow is used for upsampling or deconvolution in convolutional neural networks (CNNs). It is also known as a transposed convolution or fractionally strided convolution. This layer is often used in the context of generating high-resolution images from low-resolution ones, such as in image-to-image translation tasks or generative models like GANs (Generative Adversarial Networks).\n",
        "\n",
        "Here's a brief explanation of what it does:\n",
        "\n",
        "1. **Upsampling:**\n",
        "   - The primary purpose of `Conv2DTranspose` is to perform upsampling, increasing the spatial dimensions of the input tensor.\n",
        "   - While a standard convolutional layer (e.g., `Conv2D`) reduces the spatial dimensions of the input tensor, the transposed convolution does the opposite by expanding the spatial dimensions.\n",
        "\n",
        "2. **Learnable Parameters:**\n",
        "   - Like a regular convolutional layer, `Conv2DTranspose` has learnable parameters, including filters (kernels) and biases.\n",
        "   - During training, these parameters are updated through backpropagation to learn features that are useful for the upsampling task.\n",
        "\n",
        "3. **Output Shape:**\n",
        "   - The output shape of the `Conv2DTranspose` layer is determined by the stride and padding settings, along with the input shape and filter size.\n",
        "   - It allows you to control how much the spatial dimensions of the input tensor are increased.\n",
        "\n",
        "Here's an example of how you might use `Conv2DTranspose` in a TensorFlow model:\n",
        "\n",
        "```python\n",
        "import tensorflow as tf\n",
        "\n",
        "# Example usage in a model\n",
        "model = tf.keras.Sequential([\n",
        "    tf.keras.layers.Conv2DTranspose(64, (3, 3), strides=(2, 2), padding='same', activation='relu', input_shape=(16, 16, 3)),\n",
        "    # Additional layers...\n",
        "])\n",
        "```\n",
        "\n",
        "In this example, a transposed convolutional layer is used to upsample the input tensor by a factor of 2 in both height and width dimensions. The activation function 'relu' is applied element-wise to introduce non-linearity. The specific parameters like `strides`, `padding`, and `activation` can be adjusted based on the requirements of your model architecture."
      ],
      "metadata": {
        "id": "ogaGwi-xhSsp"
      }
    },
    {
      "cell_type": "code",
      "source": [
        "train_images.shape"
      ],
      "metadata": {
        "colab": {
          "base_uri": "https://localhost:8080/",
          "height": 175
        },
        "id": "NGGyFZzLhTPB",
        "outputId": "d5903640-8333-4809-c0bd-6993e1b90c5c"
      },
      "execution_count": null,
      "outputs": [
        {
          "output_type": "error",
          "ename": "NameError",
          "evalue": "name 'train_images' is not defined",
          "traceback": [
            "\u001b[0;31m---------------------------------------------------------------------------\u001b[0m",
            "\u001b[0;31mNameError\u001b[0m                                 Traceback (most recent call last)",
            "\u001b[0;32m<ipython-input-8-764c035ef32c>\u001b[0m in \u001b[0;36m<cell line: 1>\u001b[0;34m()\u001b[0m\n\u001b[0;32m----> 1\u001b[0;31m \u001b[0mtrain_images\u001b[0m\u001b[0;34m.\u001b[0m\u001b[0mshape\u001b[0m\u001b[0;34m\u001b[0m\u001b[0;34m\u001b[0m\u001b[0m\n\u001b[0m",
            "\u001b[0;31mNameError\u001b[0m: name 'train_images' is not defined"
          ]
        }
      ]
    },
    {
      "cell_type": "code",
      "source": [
        "def make_generator_model():\n",
        "    model = tf.keras.Sequential()\n",
        "    model.add(layers.Dense(7*7*256, use_bias=False, input_shape=(100,)))\n",
        "    model.add(layers.BatchNormalization())\n",
        "    model.add(layers.LeakyReLU())\n",
        "\n",
        "    model.add(layers.Reshape((7, 7, 256)))\n",
        "    assert model.output_shape == (None, 7, 7, 256)  # Note: None is the batch size\n",
        "\n",
        "    model.add(layers.Conv2DTranspose(128, (5, 5), strides=(1, 1), padding='same', use_bias=False))\n",
        "    assert model.output_shape == (None, 7, 7, 128)\n",
        "    model.add(layers.BatchNormalization())\n",
        "    model.add(layers.LeakyReLU())\n",
        "\n",
        "    model.add(layers.Conv2DTranspose(64, (5, 5), strides=(2, 2), padding='same', use_bias=False))\n",
        "    assert model.output_shape == (None, 14, 14, 64)\n",
        "    model.add(layers.BatchNormalization())\n",
        "    model.add(layers.LeakyReLU())\n",
        "\n",
        "    model.add(layers.Conv2DTranspose(1, (5, 5), strides=(2, 2), padding='same', use_bias=False, activation='tanh'))\n",
        "    assert model.output_shape == (None, 28, 28, 1)\n",
        "\n",
        "    return model"
      ],
      "metadata": {
        "id": "ePndOF11h9S-"
      },
      "execution_count": null,
      "outputs": []
    },
    {
      "cell_type": "markdown",
      "source": [
        "Certainly! Let's go through the `make_generator_model` function step by step and explain each function used:\n",
        "\n",
        "```python\n",
        "def make_generator_model():\n",
        "    model = tf.keras.Sequential()\n",
        "```\n",
        "\n",
        "1. **`tf.keras.Sequential()`**:\n",
        "   - This creates an empty sequential model, which is a linear stack of layers. Subsequent layers can be added to this model using the `add` method.\n",
        "\n",
        "```python\n",
        "    model.add(layers.Dense(7*7*256, use_bias=False, input_shape=(100,)))\n",
        "```\n",
        "\n",
        "2. **`layers.Dense(7*7*256, use_bias=False, input_shape=(100,))`**:\n",
        "   - This adds a densely connected layer with 7*7*256 units. The `input_shape` parameter specifies the shape of the input data, which is a 1D array of size 100 in this case.\n",
        "   - `use_bias=False` indicates that the layer won't use bias terms.\n",
        "   - This dense layer is effectively mapping the 100-dimensional input noise vector to a higher-dimensional space (7*7*256).\n",
        "\n",
        "```python\n",
        "    model.add(layers.BatchNormalization())\n",
        "    model.add(layers.LeakyReLU())\n",
        "```\n",
        "\n",
        "3. **`layers.BatchNormalization()`**:\n",
        "   - Batch normalization normalizes the activations of the previous layer. It helps stabilize and accelerate the training process.\n",
        "\n",
        "4. **`layers.LeakyReLU()`**:\n",
        "   - Leaky ReLU (Rectified Linear Unit) is an activation function that allows a small, non-zero gradient when the input is negative. It helps address the vanishing gradient problem and can speed up training.\n",
        "\n",
        "```python\n",
        "    model.add(layers.Reshape((7, 7, 256)))\n",
        "```\n",
        "\n",
        "5. **`layers.Reshape((7, 7, 256))`**:\n",
        "   - Reshapes the output of the previous layer into a 4D tensor with dimensions (7, 7, 256). This prepares the data for the convolutional transpose layers that follow.\n",
        "\n",
        "```python\n",
        "    model.add(layers.Conv2DTranspose(128, (5, 5), strides=(1, 1), padding='same', use_bias=False))\n",
        "```\n",
        "\n",
        "6. **`layers.Conv2DTranspose(128, (5, 5), strides=(1, 1), padding='same', use_bias=False)`**:\n",
        "   - This is a transposed convolutional layer with 128 filters, a kernel size of (5, 5), and a stride of (1, 1). The padding is set to 'same', and `use_bias=False` indicates that bias terms won't be used.\n",
        "\n",
        "```python\n",
        "    model.add(layers.BatchNormalization())\n",
        "    model.add(layers.LeakyReLU())\n",
        "```\n",
        "\n",
        "7. **Additional BatchNormalization and LeakyReLU layers**:\n",
        "   - Similar to the previous batch normalization and leaky ReLU layers, these are added for normalization and introducing non-linearity.\n",
        "\n",
        "```python\n",
        "    model.add(layers.Conv2DTranspose(64, (5, 5), strides=(2, 2), padding='same', use_bias=False))\n",
        "```\n",
        "\n",
        "8. **Another transposed convolutional layer**:\n",
        "   - Similar to the previous transposed convolutional layer, but with 64 filters and a stride of (2, 2), resulting in an upsampling effect.\n",
        "\n",
        "```python\n",
        "    model.add(layers.BatchNormalization())\n",
        "    model.add(layers.LeakyReLU())\n",
        "```\n",
        "\n",
        "9. **Additional BatchNormalization and LeakyReLU layers**:\n",
        "   - Similar to before, these layers add normalization and non-linearity.\n",
        "\n",
        "```python\n",
        "    model.add(layers.Conv2DTranspose(1, (5, 5), strides=(2, 2), padding='same', use_bias=False, activation='tanh'))\n",
        "```\n",
        "\n",
        "10. **Final transposed convolutional layer with activation**:\n",
        "   - This layer has 1 filter, a kernel size of (5, 5), a stride of (2, 2), and 'same' padding. The `tanh` activation function is used, which squashes the output values between -1 and 1.\n",
        "\n",
        "```python\n",
        "    return model\n",
        "```\n",
        "\n",
        "11. **Return the model**:\n",
        "   - The function returns the constructed generator model.\n",
        "\n",
        "In summary, this function defines a generator model for a Generative Adversarial Network (GAN). The generator takes a 100-dimensional noise vector as input and progressively upsamples it to produce a fake image with a shape of (28, 28, 1). The batch normalization and leaky ReLU activations help stabilize training and introduce non-linearity, and the final layer uses the tanh activation function to ensure the output is in the range [-1, 1]."
      ],
      "metadata": {
        "id": "hH_lIZf0lcMf"
      }
    },
    {
      "cell_type": "markdown",
      "source": [
        "build the gan upto to the point where the output shape becomes equal to the shape of the training image.\n",
        "\n",
        "7,7,256 shape means 7 outer rows, and each rows contain an image of 7 rows and 256 cols"
      ],
      "metadata": {
        "id": "T0yqvI3QxT4i"
      }
    },
    {
      "cell_type": "code",
      "source": [],
      "metadata": {
        "id": "t0YLQQNOxeGm"
      },
      "execution_count": null,
      "outputs": []
    },
    {
      "cell_type": "code",
      "source": [
        "generator = make_generator_model()\n",
        "\n",
        "noise = tf.random.normal([1, 100])\n",
        "generated_image = generator(noise, training=False)\n",
        "\n",
        "plt.imshow(generated_image[0, :, :, 0], cmap='gray')"
      ],
      "metadata": {
        "id": "-yxJwszolqEm"
      },
      "execution_count": null,
      "outputs": []
    },
    {
      "cell_type": "code",
      "source": [
        "cross_entropy(tf.ones_like(generated_image),generated_image)"
      ],
      "metadata": {
        "id": "r3E1GAUcaJWF"
      },
      "execution_count": null,
      "outputs": []
    },
    {
      "cell_type": "code",
      "source": [
        "def make_discriminator_model():\n",
        "    model = tf.keras.Sequential()\n",
        "    model.add(layers.Conv2D(64, (5, 5), strides=(2, 2), padding='same',\n",
        "                                     input_shape=[28, 28, 1]))\n",
        "    model.add(layers.LeakyReLU())\n",
        "    model.add(layers.Dropout(0.3))\n",
        "\n",
        "    model.add(layers.Conv2D(128, (5, 5), strides=(2, 2), padding='same'))\n",
        "    model.add(layers.LeakyReLU())\n",
        "    model.add(layers.Dropout(0.3))\n",
        "\n",
        "    model.add(layers.Flatten())\n",
        "    model.add(layers.Dense(1))\n",
        "\n",
        "    return model"
      ],
      "metadata": {
        "id": "1I4ZBdvimH71"
      },
      "execution_count": null,
      "outputs": []
    },
    {
      "cell_type": "code",
      "source": [
        "discriminator = make_discriminator_model()\n",
        "decision = discriminator(generated_image)\n",
        "print (decision)"
      ],
      "metadata": {
        "id": "q4zRESWqZVDP"
      },
      "execution_count": null,
      "outputs": []
    },
    {
      "cell_type": "code",
      "source": [
        "def discriminator_loss(real_output, fake_output):\n",
        "    real_loss = cross_entropy(tf.ones_like(real_output), real_output)\n",
        "    fake_loss = cross_entropy(tf.zeros_like(fake_output), fake_output)\n",
        "    total_loss = real_loss + fake_loss\n",
        "    return total_loss"
      ],
      "metadata": {
        "id": "_ORovVAlV5ZO"
      },
      "execution_count": null,
      "outputs": []
    },
    {
      "cell_type": "code",
      "source": [
        "# This method returns a helper function to compute cross entropy loss\n",
        "cross_entropy = tf.keras.losses.BinaryCrossentropy(from_logits=True)"
      ],
      "metadata": {
        "id": "fcaJA28-V5CP"
      },
      "execution_count": null,
      "outputs": []
    },
    {
      "cell_type": "code",
      "source": [
        "def generator_loss(fake_output):\n",
        "    return cross_entropy(tf.ones_like(fake_output), fake_output)"
      ],
      "metadata": {
        "id": "mFfxOnGCV7Fw"
      },
      "execution_count": null,
      "outputs": []
    },
    {
      "cell_type": "markdown",
      "source": [
        "tf.keras.losses.BinaryCrossentropy()(y_true, y_pred)\n"
      ],
      "metadata": {
        "id": "Q0adL4GwWYTi"
      }
    },
    {
      "cell_type": "code",
      "source": [
        "generator_optimizer = tf.keras.optimizers.Adam(1e-4)\n",
        "discriminator_optimizer = tf.keras.optimizers.Adam(1e-4)"
      ],
      "metadata": {
        "id": "86JMuX7rXoAw"
      },
      "execution_count": null,
      "outputs": []
    },
    {
      "cell_type": "code",
      "source": [
        "EPOCHS = 50\n",
        "noise_dim = 100\n",
        "num_examples_to_generate = 16\n",
        "\n",
        "# You will reuse this seed overtime (so it's easier)\n",
        "# to visualize progress in the animated GIF)\n",
        "seed = tf.random.normal([num_examples_to_generate, noise_dim])"
      ],
      "metadata": {
        "id": "q5jRS-chXogD"
      },
      "execution_count": null,
      "outputs": []
    },
    {
      "cell_type": "code",
      "source": [
        "# Notice the use of `tf.function`\n",
        "# This annotation causes the function to be \"compiled\".\n",
        "@tf.function\n",
        "def train_step(images):\n",
        "    noise = tf.random.normal([BATCH_SIZE, noise_dim])\n",
        "\n",
        "    with tf.GradientTape() as gen_tape, tf.GradientTape() as disc_tape:\n",
        "      generated_images = generator(noise, training=True)\n",
        "\n",
        "      real_output = discriminator(images, training=True)\n",
        "      fake_output = discriminator(generated_images, training=True)\n",
        "\n",
        "      gen_loss = generator_loss(fake_output)\n",
        "      disc_loss = discriminator_loss(real_output, fake_output)\n",
        "\n",
        "    gradients_of_generator = gen_tape.gradient(gen_loss, generator.trainable_variables)\n",
        "    gradients_of_discriminator = disc_tape.gradient(disc_loss, discriminator.trainable_variables)\n",
        "\n",
        "    generator_optimizer.apply_gradients(zip(gradients_of_generator, generator.trainable_variables))\n",
        "    discriminator_optimizer.apply_gradients(zip(gradients_of_discriminator, discriminator.trainable_variables))"
      ],
      "metadata": {
        "id": "dKdbUrePX1U2"
      },
      "execution_count": null,
      "outputs": []
    },
    {
      "cell_type": "code",
      "source": [
        "def train(dataset, epochs):\n",
        "  for epoch in range(epochs):\n",
        "    start = time.time()\n",
        "\n",
        "    for image_batch in dataset:\n",
        "      train_step(image_batch)\n",
        "\n",
        "    # Produce images for the GIF as you go\n",
        "    display.clear_output(wait=True)\n",
        "    generate_and_save_images(generator,\n",
        "                             epoch + 1,\n",
        "                             seed)\n",
        "\n",
        "    # Save the model every 15 epochs\n",
        "    if (epoch + 1) % 15 == 0:\n",
        "      checkpoint.save(file_prefix = checkpoint_prefix)\n",
        "\n",
        "    print ('Time for epoch {} is {} sec'.format(epoch + 1, time.time()-start))\n",
        "\n",
        "  # Generate after the final epoch\n",
        "  display.clear_output(wait=True)\n",
        "  generate_and_save_images(generator,\n",
        "                           epochs,\n",
        "                           seed)\n"
      ],
      "metadata": {
        "id": "9GFH-qQ5Zbi-"
      },
      "execution_count": null,
      "outputs": []
    },
    {
      "cell_type": "code",
      "source": [
        "def generate_and_save_images(model, epoch, test_input):\n",
        "  # Notice `training` is set to False.\n",
        "  # This is so all layers run in inference mode (batchnorm).\n",
        "  predictions = model(test_input, training=False)\n",
        "\n",
        "  fig = plt.figure(figsize=(4, 4))\n",
        "\n",
        "  for i in range(predictions.shape[0]):\n",
        "      plt.subplot(4, 4, i+1)\n",
        "      plt.imshow(predictions[i, :, :, 0] * 127.5 + 127.5, cmap='gray')\n",
        "      plt.axis('off')\n",
        "\n",
        "  plt.savefig('image_at_epoch_{:04d}.png'.format(epoch))\n",
        "  plt.show()"
      ],
      "metadata": {
        "id": "G7pqjUIicRI_"
      },
      "execution_count": null,
      "outputs": []
    },
    {
      "cell_type": "code",
      "source": [
        "train(train_dataset, EPOCHS)"
      ],
      "metadata": {
        "colab": {
          "base_uri": "https://localhost:8080/",
          "height": 175
        },
        "id": "Dw9cDI22cX6g",
        "outputId": "9496f009-b6c9-42ed-ab17-87b4a2f30498"
      },
      "execution_count": null,
      "outputs": [
        {
          "output_type": "error",
          "ename": "NameError",
          "evalue": "name 'train_dataset' is not defined",
          "traceback": [
            "\u001b[0;31m---------------------------------------------------------------------------\u001b[0m",
            "\u001b[0;31mNameError\u001b[0m                                 Traceback (most recent call last)",
            "\u001b[0;32m<ipython-input-13-d152560ca122>\u001b[0m in \u001b[0;36m<cell line: 1>\u001b[0;34m()\u001b[0m\n\u001b[0;32m----> 1\u001b[0;31m \u001b[0mtrain\u001b[0m\u001b[0;34m(\u001b[0m\u001b[0mtrain_dataset\u001b[0m\u001b[0;34m,\u001b[0m \u001b[0mEPOCHS\u001b[0m\u001b[0;34m)\u001b[0m\u001b[0;34m\u001b[0m\u001b[0;34m\u001b[0m\u001b[0m\n\u001b[0m",
            "\u001b[0;31mNameError\u001b[0m: name 'train_dataset' is not defined"
          ]
        }
      ]
    },
    {
      "cell_type": "code",
      "source": [
        "# Setup connection aka iterator\n",
        "import numpy as np\n",
        "import tensorflow_datasets as tfds\n",
        "import matplotlib.pyplot as plt\n",
        "ds=tfds.load('fashion_mnist',split=\"train\")\n",
        "\n",
        "dataiterator=ds.as_numpy_iterator()"
      ],
      "metadata": {
        "id": "oaGO-HQMdQ5F",
        "colab": {
          "base_uri": "https://localhost:8080/",
          "height": 148,
          "referenced_widgets": [
            "d0c0e0adb53e4b25a74333f2074781d8",
            "3daf2f334913488aa28167e1e3c7ccb5",
            "d14ef3971d1548919609f64c4548e423",
            "4b677ef4afb045179757a92e217576fd",
            "b626291345bb4de2adcab90e000dd00e",
            "e254f6b1b318492a82247c288ef8e73e",
            "3c1ab3dcfbc54a7ab144f5dbb2172b3d",
            "10f7d6d02b6a443b838f04f4d3a78cf0",
            "96819b5509034810b26d478f95997e7f",
            "d89f6e225d9f41449fc50ae0dfa86207",
            "b87f6193588f4e58b8fd2ea78355cecb",
            "ffa7ee9f546b44a69025e354b25553f7",
            "a6e1b15164f749f3851e8c95a4d3bbe1",
            "792d3b3110f247489200848b51b50fc2",
            "752b1a73bd8d405db2b4b0cbb2b78460",
            "a39f11d138604ca880d452a10baf72f2",
            "b3aa40d496c147b09534e4d73c6cb5ec",
            "acd8623953b94a238bb760a962d52332",
            "83f7372ffa4f4cc2be54a8ae97d427d4",
            "92b7525097e24769b09699d983b34720",
            "20a612b2e86045d7a07ad9e1b436e741",
            "82824f85e74f466596814fa89822eda6",
            "857a7b2833e341eeb959ac104c2d2a9a",
            "672b6ce3c57b4308a62e72ef2bf224f6",
            "436cf0fb6b374535891d5d105ae0dab4",
            "b77f8edb6d2b482b9127f6682472e42e",
            "f5d5028acdc14f5597fa9897181f0da5",
            "e36721a1b9e045239122b75d5a8fb55e",
            "163e5acd838c4eb49b572016308b6462",
            "fe0e51feb23b4898b8e9174a58f39b99",
            "8c77b881919140dbbbf3ec36eb2c50b1",
            "2519f741a9864234a490f241536bb806",
            "7ec7cb73eaef4acfa0c73f05bf97c14c",
            "a59626fc3ca040cca11e476f2d748d3f",
            "6375484676d644459db1add1ed147428",
            "6b1f074bf3c84eabbc10dab8570ecbeb",
            "f7c8cf70c55c44fba2281a877aa4f2fa",
            "6a346fd40360477a8b48464aad8cbcb2",
            "c5d1ad01d60746ec8203e30dbe2d32b1",
            "f67e5167a67940df9536209583463442",
            "f2ea5c2a779b46fa85af681331f40bd1",
            "c5f0335379024910b8f5be806da66968",
            "a7ae482dbdba46b4b1e27cbc3afef3a5",
            "f4032ef6ef3e4f2d944d8ab3a3c93295",
            "3276a8849f3d47b584d86d26402a38f4",
            "3a5de358120b46ff876029f96403ed68",
            "6c8871eec7314b83b50cf86bcac65f27",
            "525f5f9f422944bc9cc4fc4090b25eaa",
            "56639355f61941aabd03c2f07fbb94ba",
            "c9f3c04b382446ebaeface74a8dc27fc",
            "265176d3e21d48f2baf678cded43d6a6",
            "7165eb8ecea34cd0aceaafa9219ea87b",
            "7a394064e9b848568e73943c1219bd7c",
            "a661de638cef4cdfac1e5b9101b21c28",
            "b1e52f1c99284390b0a301c6f15c0683",
            "3edd255d1a834d53b7c97324916fe6c4",
            "e20670fd77cf4085beffcbb19a72dd54",
            "df5a29477ce34c8a8450b4735d602998",
            "59f6f08ab13b451db4546b047f330f82",
            "5c7085fe6b1d49859b1d3f038fb894f9",
            "69bb64475b89427fb180e465e5272273",
            "1cc8e588db094c05b3ed39ca4411f04b",
            "db2ed207a25e4170a3ca0ad9bf6e6609",
            "6e75a613fe04448f9fdf07b911e605fd",
            "ff9d105c721244929163ca0a68d572cb",
            "c3ead7038793478f8263b205cc875a21",
            "36d545d346c54acdba17367bd1f9d0a2",
            "0ad46c9968744c05a6fc38cca385b757",
            "2b07bc149abe4f86823ddc3901409e33",
            "bdc436220cce4fc6984d4c2950eb0d1b",
            "2f202b7c51974831851a6865c7272528",
            "cc6633cb31454a099762ec6a19e1b9f9",
            "008f58b8ceb5432e932d5c41dd1aa363",
            "27afcdde18e94619bdefe80a3b86eedd",
            "a5de562a782f4358b6343921518460f2",
            "1bdd97c1dad64748a92963d2c7daddec",
            "3f1cb4e79e4e4101bf022750169036f3",
            "d47f1b9d3f324ca5bcc74dd9579847f4",
            "775f765f360c4d8b9f13cf8bac565b98",
            "07f780b534ee420687372f424463fcbe",
            "34a79f9d03ac4e8d94dde38eb2a8fe29",
            "07c0adcbfa6345b593acac50a10f9e95",
            "85b01678ebaf49848e6fa4b462527ded",
            "576d53377a0749fc977bc42944bef140",
            "beaded36a2e3456fb033a399a3155412",
            "141d51a2b20d47fc90da3de7e97c34bc",
            "5fb9e0f1ace2445b9c5dd141197860b8",
            "1dbe83f68812412e9211dc432daa777b"
          ]
        },
        "outputId": "787e920d-3c8c-43b3-b17c-26e36cde003e"
      },
      "execution_count": null,
      "outputs": [
        {
          "output_type": "stream",
          "name": "stdout",
          "text": [
            "Downloading and preparing dataset 29.45 MiB (download: 29.45 MiB, generated: 36.42 MiB, total: 65.87 MiB) to /root/tensorflow_datasets/fashion_mnist/3.0.1...\n"
          ]
        },
        {
          "output_type": "display_data",
          "data": {
            "text/plain": [
              "Dl Completed...: 0 url [00:00, ? url/s]"
            ],
            "application/vnd.jupyter.widget-view+json": {
              "version_major": 2,
              "version_minor": 0,
              "model_id": "d0c0e0adb53e4b25a74333f2074781d8"
            }
          },
          "metadata": {}
        },
        {
          "output_type": "display_data",
          "data": {
            "text/plain": [
              "Dl Size...: 0 MiB [00:00, ? MiB/s]"
            ],
            "application/vnd.jupyter.widget-view+json": {
              "version_major": 2,
              "version_minor": 0,
              "model_id": "ffa7ee9f546b44a69025e354b25553f7"
            }
          },
          "metadata": {}
        },
        {
          "output_type": "display_data",
          "data": {
            "text/plain": [
              "Extraction completed...: 0 file [00:00, ? file/s]"
            ],
            "application/vnd.jupyter.widget-view+json": {
              "version_major": 2,
              "version_minor": 0,
              "model_id": "857a7b2833e341eeb959ac104c2d2a9a"
            }
          },
          "metadata": {}
        },
        {
          "output_type": "display_data",
          "data": {
            "text/plain": [
              "Generating splits...:   0%|          | 0/2 [00:00<?, ? splits/s]"
            ],
            "application/vnd.jupyter.widget-view+json": {
              "version_major": 2,
              "version_minor": 0,
              "model_id": "a59626fc3ca040cca11e476f2d748d3f"
            }
          },
          "metadata": {}
        },
        {
          "output_type": "display_data",
          "data": {
            "text/plain": [
              "Generating train examples...:   0%|          | 0/60000 [00:00<?, ? examples/s]"
            ],
            "application/vnd.jupyter.widget-view+json": {
              "version_major": 2,
              "version_minor": 0,
              "model_id": "3276a8849f3d47b584d86d26402a38f4"
            }
          },
          "metadata": {}
        },
        {
          "output_type": "display_data",
          "data": {
            "text/plain": [
              "Shuffling /root/tensorflow_datasets/fashion_mnist/3.0.1.incompleteTQTW6M/fashion_mnist-train.tfrecord*...:   0…"
            ],
            "application/vnd.jupyter.widget-view+json": {
              "version_major": 2,
              "version_minor": 0,
              "model_id": "3edd255d1a834d53b7c97324916fe6c4"
            }
          },
          "metadata": {}
        },
        {
          "output_type": "display_data",
          "data": {
            "text/plain": [
              "Generating test examples...:   0%|          | 0/10000 [00:00<?, ? examples/s]"
            ],
            "application/vnd.jupyter.widget-view+json": {
              "version_major": 2,
              "version_minor": 0,
              "model_id": "36d545d346c54acdba17367bd1f9d0a2"
            }
          },
          "metadata": {}
        },
        {
          "output_type": "display_data",
          "data": {
            "text/plain": [
              "Shuffling /root/tensorflow_datasets/fashion_mnist/3.0.1.incompleteTQTW6M/fashion_mnist-test.tfrecord*...:   0%…"
            ],
            "application/vnd.jupyter.widget-view+json": {
              "version_major": 2,
              "version_minor": 0,
              "model_id": "d47f1b9d3f324ca5bcc74dd9579847f4"
            }
          },
          "metadata": {}
        },
        {
          "output_type": "stream",
          "name": "stdout",
          "text": [
            "Dataset fashion_mnist downloaded and prepared to /root/tensorflow_datasets/fashion_mnist/3.0.1. Subsequent calls will reuse this data.\n"
          ]
        }
      ]
    },
    {
      "cell_type": "code",
      "source": [
        "np.squeeze(dataiterator.next()[\"image\"]).shape"
      ],
      "metadata": {
        "colab": {
          "base_uri": "https://localhost:8080/"
        },
        "id": "Id3N48dzhv4R",
        "outputId": "95b0cada-ed17-4a02-c748-fbdfa9729589"
      },
      "execution_count": null,
      "outputs": [
        {
          "output_type": "execute_result",
          "data": {
            "text/plain": [
              "(28, 28)"
            ]
          },
          "metadata": {},
          "execution_count": 2
        }
      ]
    },
    {
      "cell_type": "markdown",
      "source": [
        "iterator .next() will give next images,which can help us create batch\n",
        "tensorflow_datasets doesnt load the whole images into the memory ,it only stores the current instance and th next instance can be fetched by .next()"
      ],
      "metadata": {
        "id": "10j3XehKevd7"
      }
    },
    {
      "cell_type": "code",
      "source": [
        "fig,ax=plt.subplots(ncols=4,figsize=(20,20))\n",
        "# loop four time to get image\n",
        "for idx in range(4):\n",
        "  # get sample of image\n",
        "  img=dataiterator.next()\n",
        "  #plot the image using specific subplot\n",
        "  ax[idx].imshow(np.squeeze(img[\"image\"]))\n",
        "  ax[idx].set_title(img[\"label\"])\n",
        "  ax[idx].axis(\"off\")\n"
      ],
      "metadata": {
        "colab": {
          "base_uri": "https://localhost:8080/",
          "height": 348
        },
        "id": "nVlH4JzHf7X1",
        "outputId": "3eb33e02-bc3f-471f-c599-d5be0cbacbd9"
      },
      "execution_count": null,
      "outputs": [
        {
          "output_type": "display_data",
          "data": {
            "text/plain": [
              "<Figure size 2000x2000 with 4 Axes>"
            ],
            "image/png": "[encoded data removed]"
          },
          "metadata": {}
        }
      ]
    },
    {
      "cell_type": "markdown",
      "source": [
        "### Scaling"
      ],
      "metadata": {
        "id": "mqv-AotDgc_M"
      }
    },
    {
      "cell_type": "code",
      "source": [
        "def scale_images(data):\n",
        "  image=data[\"image\"]\n",
        "  return image/255"
      ],
      "metadata": {
        "id": "VZa67SrRh9z9"
      },
      "execution_count": null,
      "outputs": []
    },
    {
      "cell_type": "markdown",
      "source": [
        "The provided code loads the Fashion MNIST dataset using TensorFlow Datasets (`tfds`), applies a preprocessing step (`scale_images`), and performs various operations to prepare the dataset for training. Let's break down each step:\n",
        "\n",
        "```python\n",
        "# Reload the dataset\n",
        "ds = tfds.load('fashion_mnist', split='train')\n",
        "```\n",
        "\n",
        "1. **Load Dataset:**\n",
        "   - Loads the Fashion MNIST dataset using TensorFlow Datasets. It loads the training split of the dataset.\n",
        "\n",
        "```python\n",
        "# Running the dataset through the scale_images preprocessing step\n",
        "ds = ds.map(scale_images)\n",
        "```\n",
        "\n",
        "2. **Preprocessing:**\n",
        "   - Applies the `scale_images` preprocessing function to the dataset. The specific details of the `scale_images` function are not provided, but it's assumed to scale the pixel values of the images to a certain range.\n",
        "\n",
        "```python\n",
        "# Cache the dataset for that batch\n",
        "ds = ds.cache()\n",
        "```\n",
        "\n",
        "3. **Caching:**\n",
        "   - Caches the dataset in memory. This can improve the training performance by avoiding redundant data loading from disk during training. It's beneficial when the dataset can fit in memory.\n",
        "\n",
        "```python\n",
        "# Shuffle it up\n",
        "ds = ds.shuffle(60000)\n",
        "```\n",
        "\n",
        "4. **Shuffling:**\n",
        "   - Shuffles the dataset with a buffer size of 60,000. This shuffling is done to introduce randomness during training, preventing the model from overfitting to a specific order of the data.\n",
        "\n",
        "```python\n",
        "# Batch into 128 images per sample\n",
        "ds = ds.batch(128)\n",
        "```\n",
        "\n",
        "5. **Batching:**\n",
        "   - Batches the dataset into batches of 128 images per sample. This is a common practice to train the model on smaller subsets of the data at a time, improving memory efficiency and allowing for parallel processing.\n",
        "\n",
        "```python\n",
        "# Reduces the likelihood of bottlenecking\n",
        "ds = ds.prefetch(64)\n",
        "```\n",
        "\n",
        "6. **Prefetching:**\n",
        "   - Prefetches the next batch of data in the background while the model is training on the current batch. This helps to reduce the time spent waiting for data during training, improving overall training efficiency.\n",
        "\n",
        "In summary, the code loads the Fashion MNIST dataset, applies a scaling preprocessing step, caches the dataset in memory, shuffles it, batches it into 128-image samples, and prefetches data to reduce potential bottlenecks during training. These steps are common practices for preparing a dataset for training machine learning models.\n",
        "\n",
        "\n",
        "The `map` function in TensorFlow is used to apply a specified function to each element of a dataset. In the context of TensorFlow Datasets (`tfds`), the `map` function is commonly used to apply preprocessing transformations to each sample in a dataset. Here's how it generally works:\n",
        "\n",
        "```python\n",
        "dataset = dataset.map(preprocessing_function)\n",
        "```\n",
        "\n",
        "- **`dataset`**: The original dataset or a dataset pipeline.\n",
        "- **`preprocessing_function`**: A function that defines the transformation to be applied to each element of the dataset.\n",
        "\n",
        "For example, in the code snippet you provided:\n",
        "\n",
        "```python\n",
        "ds = ds.map(scale_images)\n",
        "```\n",
        "\n",
        "- `ds` is a TensorFlow dataset.\n",
        "- `scale_images` is assumed to be a function that scales the pixel values of the images in the dataset.\n",
        "\n",
        "The `map` function applies `scale_images` to each element of the dataset, effectively scaling the images in the dataset according to the defined transformation.\n",
        "\n",
        "In the context of machine learning and deep learning, `map` is commonly used for various preprocessing tasks, such as scaling pixel values, resizing images, augmenting data, or any other operations that need to be applied to each sample in the dataset. It allows you to create a modified version of the original dataset by applying a function element-wise.\n",
        "\n",
        "Note: The function passed to `map` should be a TensorFlow function, typically a function that takes a single argument (representing an element of the dataset) and returns the transformed version of that element."
      ],
      "metadata": {
        "id": "AwuQPQFcjNIK"
      }
    },
    {
      "cell_type": "code",
      "source": [
        " # Reload the dataset\n",
        "ds = tfds.load('fashion_mnist', split='train')\n",
        "# Running the dataset through the scale_images preprocessing step\n",
        "ds = ds.map(scale_images)\n",
        "# Cache the dataset for that batch\n",
        "ds = ds.cache()\n",
        "# Shuffle it up\n",
        "ds = ds.shuffle(60000)\n",
        "# Batch into 128 images per sample\n",
        "ds = ds.batch(128)\n",
        "# Reduces the likelihood of bottlenecking\n",
        "ds = ds.prefetch(64)"
      ],
      "metadata": {
        "id": "S6EkZw0HiH3H"
      },
      "execution_count": null,
      "outputs": []
    },
    {
      "cell_type": "code",
      "source": [
        "ds.as_numpy_iterator().next().shape"
      ],
      "metadata": {
        "colab": {
          "base_uri": "https://localhost:8080/"
        },
        "id": "7gCnqHKCi1RZ",
        "outputId": "985639b8-ffee-465c-8918-7fc0fb061576"
      },
      "execution_count": null,
      "outputs": [
        {
          "output_type": "execute_result",
          "data": {
            "text/plain": [
              "(128, 28, 28, 1)"
            ]
          },
          "metadata": {},
          "execution_count": 6
        }
      ]
    },
    {
      "cell_type": "markdown",
      "source": [
        "no of image,h,w,channel"
      ],
      "metadata": {
        "id": "ve0g_G9TkKBp"
      }
    },
    {
      "cell_type": "markdown",
      "source": [
        "### Building the neural network"
      ],
      "metadata": {
        "id": "r1cDCBG4kVS-"
      }
    },
    {
      "cell_type": "code",
      "source": [
        "#Build in the sequential api for generator and discriminator\n",
        "from tensorflow.keras.models import Sequential\n",
        "# Bring in the layers for the neural network\n",
        "from tensorflow.keras.layers import Conv2D,Dense,Flatten,Reshape,Flatten,LeakyReLU,Dropout,UpSampling2D"
      ],
      "metadata": {
        "id": "pB59dzS2lNHq"
      },
      "execution_count": null,
      "outputs": []
    },
    {
      "cell_type": "markdown",
      "source": [
        "create image of size (7,7,128) where hight and width are (7,7) and no of images are 128\n",
        "\n",
        "input shape is 128, which means it is taking in 128 images then pass it through dense layer to convert it into an image of 7,7,128 to give it spatial dimension\n",
        "\n",
        " `model=Sequential()\n",
        "  model.add(Dense(7*7*128,input_dim=128)),\n",
        "  model.add(LeakyReLU(0.2)),\n",
        "  model.add(Reshape((7,7,128)))`\n",
        "\n",
        "  our aim is to get image to\n",
        "  shape (28,28,1)\n",
        "\n",
        "\n",
        "  *** Upsampling *** Upsampling typically doubles the height and width of the image\n"
      ],
      "metadata": {
        "id": "mF8160LFlaT_"
      }
    },
    {
      "cell_type": "markdown",
      "source": [
        "Using only 1 upsampling block,we can see the width and height has been doubled\n",
        "\n",
        "Model: \"sequential_3\"\n",
        "_________________________________________________________________\n",
        " Layer (type)                Output Shape              Param #   \n",
        "=================================================================\n",
        " dense_3 (Dense)             (None, 6272)              809088    \n",
        "                                                                 \n",
        " leaky_re_lu_6 (LeakyReLU)   (None, 6272)              0         \n",
        "                                                                 \n",
        " reshape_2 (Reshape)         (None, 7, 7, 128)         0         \n",
        "                                                                 \n",
        " up_sampling2d (UpSampling2  (None, 14, 14, 128)       0         \n",
        " D)                                                              \n",
        "                                                                 \n",
        " conv2d_2 (Conv2D)           (None, 14, 14, 128)       409728    \n",
        "                                                                 \n",
        " leaky_re_lu_7 (LeakyReLU)   (None, 14, 14, 128)       0         \n",
        "                                                                 \n",
        "=================================================================\n",
        "Total params: 1218816 (4.65 MB)\n",
        "Trainable params: 1218816 (4.65 MB)\n",
        "Non-trainable params: 0 (0.00 Byte)\n",
        "______________________________________"
      ],
      "metadata": {
        "id": "Cw9wiPXXw-5h"
      }
    },
    {
      "cell_type": "markdown",
      "source": [
        "* After umpsamping we add convd2d add parametrization,bccuz upsampling doesnt do\n",
        "much when we look at information,but convd 2d will help increase or decrease the\n",
        "quality of data by parametrizaton (kernels)\n",
        "\n",
        "* 2 downsampling blocks are added so that we have more parameters to learn more about pixels and have better image generated\n",
        "\n",
        "* After the last downsampling block,we have added another conv layer with 1 kernel which will generate the final image.\n",
        "Basically 128 kernel produce 128 images with different feature highlighted"
      ],
      "metadata": {
        "id": "KrSu0idRV9Mx"
      }
    },
    {
      "cell_type": "code",
      "source": [
        "def build_generator():\n",
        "  model=Sequential()\n",
        "  # Takes in random value and reshapes it to 7x7x128\n",
        "  # Beginnings of generated image\n",
        "  model.add(Dense(7*7*128,input_dim=128))\n",
        "  model.add(LeakyReLU(0.2))\n",
        "  model.add(Reshape((7,7,128)))\n",
        "  #Upsampling block 1\n",
        "\n",
        "  model.add(UpSampling2D())\n",
        "  model.add(Conv2D(128,5,padding='same'))\n",
        "  model.add(LeakyReLU(0.2))\n",
        "\n",
        "  #Upsampling block 2\n",
        "\n",
        "  model.add(UpSampling2D())\n",
        "  model.add(Conv2D(128,5,padding='same'))\n",
        "  model.add(LeakyReLU(0.2))\n",
        "\n",
        "\n",
        "  #conv block 1\n",
        "  model.add(Conv2D(128,4,padding='same'))\n",
        "  model.add(LeakyReLU(0.2))\n",
        "\n",
        "  #conv block 2\n",
        "  model.add(Conv2D(128,4,padding='same'))\n",
        "  model.add(LeakyReLU(0.2))\n",
        "\n",
        "  #conv layers to get 1 channel\n",
        "  model.add(Conv2D(1,4,padding=\"same\",activation=\"sigmoid\"))\n",
        "\n",
        "  return model"
      ],
      "metadata": {
        "id": "55-tWZQlohOg"
      },
      "execution_count": null,
      "outputs": []
    },
    {
      "cell_type": "markdown",
      "source": [
        "In the context of images and convolutional neural networks (CNNs), the term \"channels\" refers to the different color information or feature maps present in an image. Channels are essentially the third dimension of an image tensor and represent different aspects or characteristics of the data.\n",
        "\n",
        "For a grayscale image, there is only one channel, as the intensity of each pixel is represented by a single value. For color images, channels typically represent the intensity of different colors. The most common color representation is the RGB (Red, Green, Blue) model, where an image has three channels: one for red, one for green, and one for blue.\n",
        "\n",
        "So, in the context of a 2D convolutional layer in a CNN, the number of channels in the input and output determines the depth or dimensionality of the feature map. Each channel represents a different aspect of the input data or captures specific features. For example, in the convolutional layer you provided:\n",
        "\n",
        "```python\n",
        "model.add(Conv2D(128, 4, padding='same'))\n",
        "```\n",
        "\n",
        "- `128` is the number of filters or channels in the output feature map.\n",
        "\n",
        "If you have an input image with three channels (e.g., RGB), each of the 128 filters in the convolutional layer will produce a separate channel in the output. The resulting output feature map will have a depth of 128 channels.\n",
        "\n",
        "These channels play a crucial role in capturing hierarchical features in images. In deeper layers of a CNN, channels often represent more complex and abstract features learned from the input data. The concept of channels is fundamental in understanding the representation of information in image data and the transformations applied by convolutional layers in neural networks."
      ],
      "metadata": {
        "id": "gkgn8pWCZy4V"
      }
    },
    {
      "cell_type": "markdown",
      "source": [
        "When you have a feature map with 128 channels and you apply a `Conv2D` layer with 1 filter, each of the 128 channels in the input will be convolved with the single filter separately. The convolution operation is applied independently to each channel, and the results are summed to produce a single-channel output.\n",
        "\n",
        "Here's how it works in more detail:\n",
        "\n",
        "- Suppose you have an input feature map with shape `(batch_size, height, width, 128)`.\n",
        "- You add a `Conv2D` layer with 1 filter: `model.add(Conv2D(1, kernel_size, padding='same'))`.\n",
        "\n",
        "During the convolution operation:\n",
        "\n",
        "- The 1 filter is applied independently to each of the 128 channels in the input.\n",
        "- For each channel, the convolution operation produces a separate 2D output.\n",
        "- The 2D outputs from all 128 channels are then summed element-wise to create a single-channel output.\n",
        "\n",
        "So, the resulting output feature map will have shape `(batch_size, height, width, 1)`. The single channel represents the combined information from the 128 channels in the input.\n",
        "\n",
        "This operation is sometimes used in neural networks for various reasons, such as reducing the dimensionality of the feature map, emphasizing certain patterns, or creating a summary representation of the input information. The key point is that each channel in the input contributes to the computation of the single-channel output through the convolution operation."
      ],
      "metadata": {
        "id": "w9Td5gRfaOY_"
      }
    },
    {
      "cell_type": "code",
      "source": [
        "generator=build_generator()"
      ],
      "metadata": {
        "id": "Gbrkhj8NozGu"
      },
      "execution_count": null,
      "outputs": []
    },
    {
      "cell_type": "code",
      "source": [
        "generator.summary()"
      ],
      "metadata": {
        "colab": {
          "base_uri": "https://localhost:8080/"
        },
        "id": "aK6B6im9wzN3",
        "outputId": "d8d1aa43-ee7e-4fa1-9bb2-99d86dc5c853"
      },
      "execution_count": null,
      "outputs": [
        {
          "output_type": "stream",
          "name": "stdout",
          "text": [
            "Model: \"sequential\"\n",
            "_________________________________________________________________\n",
            " Layer (type)                Output Shape              Param #   \n",
            "=================================================================\n",
            " dense (Dense)               (None, 6272)              809088    \n",
            "                                                                 \n",
            " leaky_re_lu (LeakyReLU)     (None, 6272)              0         \n",
            "                                                                 \n",
            " reshape (Reshape)           (None, 7, 7, 128)         0         \n",
            "                                                                 \n",
            " up_sampling2d (UpSampling2  (None, 14, 14, 128)       0         \n",
            " D)                                                              \n",
            "                                                                 \n",
            " conv2d (Conv2D)             (None, 14, 14, 128)       409728    \n",
            "                                                                 \n",
            " leaky_re_lu_1 (LeakyReLU)   (None, 14, 14, 128)       0         \n",
            "                                                                 \n",
            " up_sampling2d_1 (UpSamplin  (None, 28, 28, 128)       0         \n",
            " g2D)                                                            \n",
            "                                                                 \n",
            " conv2d_1 (Conv2D)           (None, 28, 28, 128)       409728    \n",
            "                                                                 \n",
            " leaky_re_lu_2 (LeakyReLU)   (None, 28, 28, 128)       0         \n",
            "                                                                 \n",
            " conv2d_2 (Conv2D)           (None, 28, 28, 128)       262272    \n",
            "                                                                 \n",
            " leaky_re_lu_3 (LeakyReLU)   (None, 28, 28, 128)       0         \n",
            "                                                                 \n",
            " conv2d_3 (Conv2D)           (None, 28, 28, 128)       262272    \n",
            "                                                                 \n",
            " leaky_re_lu_4 (LeakyReLU)   (None, 28, 28, 128)       0         \n",
            "                                                                 \n",
            " conv2d_4 (Conv2D)           (None, 28, 28, 1)         2049      \n",
            "                                                                 \n",
            "=================================================================\n",
            "Total params: 2155137 (8.22 MB)\n",
            "Trainable params: 2155137 (8.22 MB)\n",
            "Non-trainable params: 0 (0.00 Byte)\n",
            "_________________________________________________________________\n"
          ]
        }
      ]
    },
    {
      "cell_type": "code",
      "source": [
        "# 4 random imae (no of image,random values number)\n",
        "img=generator.predict(np.random.randn(4,128,1))"
      ],
      "metadata": {
        "colab": {
          "base_uri": "https://localhost:8080/"
        },
        "id": "S6tXZQzMbC2h",
        "outputId": "25755d63-3fa5-4121-a144-c49bf0fe93d6"
      },
      "execution_count": null,
      "outputs": [
        {
          "output_type": "stream",
          "name": "stdout",
          "text": [
            "1/1 [==============================] - 2s 2s/step\n"
          ]
        }
      ]
    },
    {
      "cell_type": "code",
      "source": [
        "img.shape"
      ],
      "metadata": {
        "colab": {
          "base_uri": "https://localhost:8080/"
        },
        "id": "Q8Ed6-vHbxHv",
        "outputId": "f48041cc-10fd-43b2-bc33-04c3044d2bd5"
      },
      "execution_count": null,
      "outputs": [
        {
          "output_type": "execute_result",
          "data": {
            "text/plain": [
              "(4, 28, 28, 1)"
            ]
          },
          "metadata": {},
          "execution_count": 12
        }
      ]
    },
    {
      "cell_type": "code",
      "source": [
        "img=generator.predict(np.random.randn(4,128,1))\n",
        "fig,ax=plt.subplots(ncols=4,figsize=(20,20))\n",
        "# loop four time to get image\n",
        "for idx,i in enumerate(img):\n",
        "\n",
        "  #plot the image using specific subplot\n",
        "  ax[idx].imshow(np.squeeze(i))\n",
        "  ax[idx].set_title(idx)\n",
        "  ax[idx].axis(\"off\")\n"
      ],
      "metadata": {
        "colab": {
          "base_uri": "https://localhost:8080/",
          "height": 366
        },
        "id": "RthzlqydbVjY",
        "outputId": "dc9a9482-ae2a-4e1b-bc65-2b0cbdcef194"
      },
      "execution_count": null,
      "outputs": [
        {
          "output_type": "stream",
          "name": "stdout",
          "text": [
            "1/1 [==============================] - 0s 18ms/step\n"
          ]
        },
        {
          "output_type": "display_data",
          "data": {
            "text/plain": [
              "<Figure size 2000x2000 with 4 Axes>"
            ],
            "image/png": "[encoded data removed]"
          },
          "metadata": {}
        }
      ]
    },
    {
      "cell_type": "code",
      "source": [
        "fig,ax=plt.subplots(ncols=4,figsize=(20,20))\n",
        "for j in range(4):\n",
        "  yimg=dataiterator.next()\n",
        "  ax[j].imshow(np.squeeze(yimg['image']))\n",
        "  ax[j].axis(\"off\")"
      ],
      "metadata": {
        "colab": {
          "base_uri": "https://localhost:8080/",
          "height": 328
        },
        "id": "z49rLrsob9LP",
        "outputId": "c5fde679-8d58-4d67-925b-482df609c84b"
      },
      "execution_count": null,
      "outputs": [
        {
          "output_type": "display_data",
          "data": {
            "text/plain": [
              "<Figure size 2000x2000 with 4 Axes>"
            ],
            "image/png": "[encoded data removed]"
          },
          "metadata": {}
        }
      ]
    },
    {
      "cell_type": "markdown",
      "source": [
        "Padding is not used in build_discrimator because we want the size to decrease\n",
        "and our ultimate goal is to classify whether the image is real or not"
      ],
      "metadata": {
        "id": "54AHnZsBi5aY"
      }
    },
    {
      "cell_type": "code",
      "source": [
        "def build_discriminator():\n",
        "  model=Sequential()\n",
        "  #First conv block\n",
        "  model.add(Conv2D(32,5,input_shape=(28,28,1)))\n",
        "  model.add(LeakyReLU(0.2))\n",
        "  model.add(Dropout(0.4))\n",
        "  #Second conv block\n",
        "  model.add(Conv2D(64,5))\n",
        "  model.add(LeakyReLU(0.2))\n",
        "  model.add(Dropout(0.4))\n",
        "  #Third conv block\n",
        "  model.add(Conv2D(128,5))\n",
        "  model.add(LeakyReLU(0.2))\n",
        "  model.add(Dropout(0.4))\n",
        "\n",
        "  #Fourth conv block\n",
        "  model.add(Conv2D(256,5))\n",
        "  model.add(LeakyReLU(0.2))\n",
        "  model.add(Dropout(0.4))\n",
        "\n",
        "  # Flatten then pass to dense layer\n",
        "  model.add(Flatten())\n",
        "  model.add(Dropout(0.4))\n",
        "  model.add(Dense(1,activation='sigmoid'))\n",
        "\n",
        "  return model"
      ],
      "metadata": {
        "id": "XRqzufzidTI_"
      },
      "execution_count": null,
      "outputs": []
    },
    {
      "cell_type": "code",
      "source": [
        "discriminator=build_discriminator()"
      ],
      "metadata": {
        "id": "vgABKtEphwwM"
      },
      "execution_count": null,
      "outputs": []
    },
    {
      "cell_type": "code",
      "source": [
        "discriminator.summary()"
      ],
      "metadata": {
        "colab": {
          "base_uri": "https://localhost:8080/"
        },
        "id": "mYJaM4hrhzUq",
        "outputId": "0ae2e316-46cc-457d-8a30-795f49adbcfd"
      },
      "execution_count": null,
      "outputs": [
        {
          "output_type": "stream",
          "name": "stdout",
          "text": [
            "Model: \"sequential_1\"\n",
            "_________________________________________________________________\n",
            " Layer (type)                Output Shape              Param #   \n",
            "=================================================================\n",
            " conv2d_5 (Conv2D)           (None, 24, 24, 32)        832       \n",
            "                                                                 \n",
            " leaky_re_lu_5 (LeakyReLU)   (None, 24, 24, 32)        0         \n",
            "                                                                 \n",
            " dropout (Dropout)           (None, 24, 24, 32)        0         \n",
            "                                                                 \n",
            " conv2d_6 (Conv2D)           (None, 20, 20, 64)        51264     \n",
            "                                                                 \n",
            " leaky_re_lu_6 (LeakyReLU)   (None, 20, 20, 64)        0         \n",
            "                                                                 \n",
            " dropout_1 (Dropout)         (None, 20, 20, 64)        0         \n",
            "                                                                 \n",
            " conv2d_7 (Conv2D)           (None, 16, 16, 128)       204928    \n",
            "                                                                 \n",
            " leaky_re_lu_7 (LeakyReLU)   (None, 16, 16, 128)       0         \n",
            "                                                                 \n",
            " dropout_2 (Dropout)         (None, 16, 16, 128)       0         \n",
            "                                                                 \n",
            " conv2d_8 (Conv2D)           (None, 12, 12, 256)       819456    \n",
            "                                                                 \n",
            " leaky_re_lu_8 (LeakyReLU)   (None, 12, 12, 256)       0         \n",
            "                                                                 \n",
            " dropout_3 (Dropout)         (None, 12, 12, 256)       0         \n",
            "                                                                 \n",
            " flatten (Flatten)           (None, 36864)             0         \n",
            "                                                                 \n",
            " dropout_4 (Dropout)         (None, 36864)             0         \n",
            "                                                                 \n",
            " dense_1 (Dense)             (None, 1)                 36865     \n",
            "                                                                 \n",
            "=================================================================\n",
            "Total params: 1113345 (4.25 MB)\n",
            "Trainable params: 1113345 (4.25 MB)\n",
            "Non-trainable params: 0 (0.00 Byte)\n",
            "_________________________________________________________________\n"
          ]
        }
      ]
    },
    {
      "cell_type": "code",
      "source": [
        "img[0].shape"
      ],
      "metadata": {
        "colab": {
          "base_uri": "https://localhost:8080/"
        },
        "id": "f3OUyDeyuUmE",
        "outputId": "07a60fdf-713f-45d9-91b4-6c4b80a73282"
      },
      "execution_count": null,
      "outputs": [
        {
          "output_type": "execute_result",
          "data": {
            "text/plain": [
              "(28, 28, 1)"
            ]
          },
          "metadata": {},
          "execution_count": 18
        }
      ]
    },
    {
      "cell_type": "code",
      "source": [
        "np.expand_dims(img[0],axis=0).shape"
      ],
      "metadata": {
        "colab": {
          "base_uri": "https://localhost:8080/"
        },
        "id": "M0He8eZZuWcd",
        "outputId": "e050ee85-e0d3-4a9f-dccb-662142d7a034"
      },
      "execution_count": null,
      "outputs": [
        {
          "output_type": "execute_result",
          "data": {
            "text/plain": [
              "(1, 28, 28, 1)"
            ]
          },
          "metadata": {},
          "execution_count": 19
        }
      ]
    },
    {
      "cell_type": "code",
      "source": [
        "discriminator.predict(np.expand_dims(img[0],axis=0))\n"
      ],
      "metadata": {
        "colab": {
          "base_uri": "https://localhost:8080/"
        },
        "id": "GEUOORCgiTaZ",
        "outputId": "2d543fbd-2076-477e-d1a6-2b140ad5d411"
      },
      "execution_count": null,
      "outputs": [
        {
          "output_type": "stream",
          "name": "stdout",
          "text": [
            "1/1 [==============================] - 0s 265ms/step\n"
          ]
        },
        {
          "output_type": "execute_result",
          "data": {
            "text/plain": [
              "array([[0.49894127]], dtype=float32)"
            ]
          },
          "metadata": {},
          "execution_count": 20
        }
      ]
    },
    {
      "cell_type": "code",
      "source": [
        "discriminator.predict(img)\n"
      ],
      "metadata": {
        "colab": {
          "base_uri": "https://localhost:8080/"
        },
        "id": "pUjTh30-rsvs",
        "outputId": "11327794-349e-471a-e506-876b6fce8a0a"
      },
      "execution_count": null,
      "outputs": [
        {
          "output_type": "stream",
          "name": "stdout",
          "text": [
            "1/1 [==============================] - 0s 267ms/step\n"
          ]
        },
        {
          "output_type": "execute_result",
          "data": {
            "text/plain": [
              "array([[0.49894127],\n",
              "       [0.4988544 ],\n",
              "       [0.49877113],\n",
              "       [0.49859774]], dtype=float32)"
            ]
          },
          "metadata": {},
          "execution_count": 21
        }
      ]
    },
    {
      "cell_type": "markdown",
      "source": [
        "1:09:02"
      ],
      "metadata": {
        "id": "2Sh78m0cu0mH"
      }
    },
    {
      "cell_type": "markdown",
      "source": [
        "### Set up losses and optimizers"
      ],
      "metadata": {
        "id": "aQdXYoU_8MXt"
      }
    },
    {
      "cell_type": "code",
      "source": [
        "#ADAM as optimizers for both\n",
        "from tensorflow.keras.optimizers import Adam\n",
        "#Binary cross entropy as loss for both\n",
        "from tensorflow.keras.losses import BinaryCrossentropy"
      ],
      "metadata": {
        "id": "fXf9Ee2Z9uaY"
      },
      "execution_count": null,
      "outputs": []
    },
    {
      "cell_type": "code",
      "source": [
        "# Higher lr for g because we want the generator to learn faster so that it can trick\n",
        "#the discriminator\n",
        "g_opt = Adam(learning_rate=0.0001)\n",
        "d_opt=Adam(learning_rate=0.00001)\n",
        "g_loss=BinaryCrossentropy()\n",
        "d_loss=BinaryCrossentropy()"
      ],
      "metadata": {
        "id": "zlYw70jV93XM"
      },
      "execution_count": null,
      "outputs": []
    },
    {
      "cell_type": "markdown",
      "source": [
        "### Building a subclassed model"
      ],
      "metadata": {
        "id": "kFqAgC5V-2Wx"
      }
    },
    {
      "cell_type": "code",
      "source": [
        "# Import the base model class to subclass our training step\n",
        "from tensorflow.keras.models import Model"
      ],
      "metadata": {
        "id": "BicOOjZ4_HEw"
      },
      "execution_count": null,
      "outputs": []
    },
    {
      "cell_type": "markdown",
      "source": [
        "In Python, `args` and `kwargs` are used to handle variable numbers of arguments in function definitions. They allow you to create functions that can accept a varying number of positional and keyword arguments.\n",
        "\n",
        "1. **`*args` (Arbitrary Positional Arguments):**\n",
        "   - The `*args` syntax in a function definition allows you to pass a variable number of positional arguments to the function.\n",
        "   - The `*` before `args` allows the function to accept any number of positional arguments, and it collects them into a tuple.\n",
        "\n",
        "   ```python\n",
        "   def example_function(*args):\n",
        "       for arg in args:\n",
        "           print(arg)\n",
        "\n",
        "   example_function(1, 2, 3, \"four\")\n",
        "   ```\n",
        "\n",
        "   Output:\n",
        "   ```\n",
        "   1\n",
        "   2\n",
        "   3\n",
        "   four\n",
        "   ```\n",
        "\n",
        "2. **`**kwargs` (Arbitrary Keyword Arguments):**\n",
        "   - The `**kwargs` syntax allows a function to accept a variable number of keyword arguments.\n",
        "   - The `**` before `kwargs` allows the function to collect any additional keyword arguments not explicitly defined in the function signature into a dictionary.\n",
        "\n",
        "   ```python\n",
        "   def example_function(**kwargs):\n",
        "       for key, value in kwargs.items():\n",
        "           print(key, \":\", value)\n",
        "\n",
        "   example_function(name=\"John\", age=25, city=\"New York\")\n",
        "   ```\n",
        "\n",
        "   Output:\n",
        "   ```\n",
        "   name : John\n",
        "   age : 25\n",
        "   city : New York\n",
        "   ```\n",
        "\n",
        "Using both `*args` and `**kwargs` in a function allows it to accept any combination of positional and keyword arguments:\n",
        "\n",
        "```python\n",
        "def example_function(*args, **kwargs):\n",
        "    for arg in args:\n",
        "        print(arg)\n",
        "    \n",
        "    for key, value in kwargs.items():\n",
        "        print(key, \":\", value)\n",
        "\n",
        "example_function(1, 2, 3, name=\"John\", age=25)\n",
        "```\n",
        "\n",
        "Output:\n",
        "```\n",
        "1\n",
        "2\n",
        "3\n",
        "name : John\n",
        "age : 25\n",
        "```\n",
        "\n",
        "In this example, `*args` collects positional arguments into a tuple, and `**kwargs` collects keyword arguments into a dictionary.\n",
        "\n",
        "\n",
        "The `super().__init__(*args, **kwargs)` statement is commonly used in Python within a subclass constructor to call the constructor of its superclass (parent class). Specifically, it calls the `__init__` method of the superclass and passes any arguments and keyword arguments received by the subclass constructor (`*args` and `**kwargs`).\n",
        "\n",
        "Here's a breakdown of what each part does:\n",
        "\n",
        "- **`super()`**: It returns a temporary object of the superclass, which allows you to call its methods. In the context of `super().__init__()`, it is used to call the `__init__` method of the superclass.\n",
        "\n",
        "- **`__init__`**: This is the constructor method of a class, where you typically initialize the object's attributes.\n",
        "\n",
        "- **`*args, **kwargs`**: These are used to pass a variable number of arguments and keyword arguments to the constructor. The `*args` collects positional arguments into a tuple, and `**kwargs` collects keyword arguments into a dictionary.\n",
        "\n",
        "Putting it all together, `super().__init__(*args, **kwargs)` is a way to invoke the constructor of the superclass, passing along any arguments and keyword arguments that the subclass constructor received. This is important because it allows the subclass to perform its own initialization while also ensuring that the initialization of the superclass is properly executed.\n",
        "\n",
        "Here's a simple example to illustrate:\n",
        "\n",
        "```python\n",
        "class Parent:\n",
        "    def __init__(self, x, y):\n",
        "        self.x = x\n",
        "        self.y = y\n",
        "\n",
        "class Child(Parent):\n",
        "    def __init__(self, z, *args, **kwargs):\n",
        "        super().__init__(*args, **kwargs)\n",
        "        self.z = z\n",
        "\n",
        "# Creating an instance of the Child class\n",
        "child_obj = Child(z=10, x=1, y=2)\n",
        "\n",
        "print(child_obj.x)  # Output: 1 (inherited from Parent)\n",
        "print(child_obj.y)  # Output: 2 (inherited from Parent)\n",
        "print(child_obj.z)  # Output: 10 (specific to Child)\n",
        "```\n",
        "\n",
        "In this example, `super().__init__(*args, **kwargs)` in the `Child` class ensures that the `__init__` method of the `Parent` class is called with the appropriate arguments, allowing both the parent and child classes to perform their respective initializations.\n",
        "\n",
        "\n",
        "batch of data is\n",
        "ds.as_nupy_iertaor().next()\n"
      ],
      "metadata": {
        "id": "kQpAGwxPAPuB"
      }
    },
    {
      "cell_type": "code",
      "source": [
        "import tensorflow as tf\n",
        "\n",
        "tf.random.normal((4,4,1))"
      ],
      "metadata": {
        "colab": {
          "base_uri": "https://localhost:8080/"
        },
        "id": "d2of6P-hxzfh",
        "outputId": "f9424879-0952-42aa-fb0f-033205b3cf4d"
      },
      "execution_count": null,
      "outputs": [
        {
          "output_type": "execute_result",
          "data": {
            "text/plain": [
              "<tf.Tensor: shape=(4, 4, 1), dtype=float32, numpy=\n",
              "array([[[ 1.7288991 ],\n",
              "        [-0.87364453],\n",
              "        [ 1.2075455 ],\n",
              "        [ 0.9248858 ]],\n",
              "\n",
              "       [[-0.6885633 ],\n",
              "        [-0.49461672],\n",
              "        [-0.63396525],\n",
              "        [ 1.5831399 ]],\n",
              "\n",
              "       [[ 0.04682695],\n",
              "        [ 0.43934894],\n",
              "        [ 1.1405536 ],\n",
              "        [ 1.5327344 ]],\n",
              "\n",
              "       [[ 0.18160076],\n",
              "        [-1.7192584 ],\n",
              "        [-0.77744853],\n",
              "        [-0.10628222]]], dtype=float32)>"
            ]
          },
          "metadata": {},
          "execution_count": 26
        }
      ]
    },
    {
      "cell_type": "code",
      "source": [
        "tf.concat([tf.zeros_like(tf.random.normal((6,128))),tf.ones_like(tf.random.normal((6,128)))],axis=0)"
      ],
      "metadata": {
        "id": "loyah8rV0NKc",
        "colab": {
          "base_uri": "https://localhost:8080/"
        },
        "outputId": "6a56846d-eb7c-4202-fedc-df1c26f5b668"
      },
      "execution_count": null,
      "outputs": [
        {
          "output_type": "execute_result",
          "data": {
            "text/plain": [
              "<tf.Tensor: shape=(12, 128), dtype=float32, numpy=\n",
              "array([[0., 0., 0., ..., 0., 0., 0.],\n",
              "       [0., 0., 0., ..., 0., 0., 0.],\n",
              "       [0., 0., 0., ..., 0., 0., 0.],\n",
              "       ...,\n",
              "       [1., 1., 1., ..., 1., 1., 1.],\n",
              "       [1., 1., 1., ..., 1., 1., 1.],\n",
              "       [1., 1., 1., ..., 1., 1., 1.]], dtype=float32)>"
            ]
          },
          "metadata": {},
          "execution_count": 27
        }
      ]
    },
    {
      "cell_type": "markdown",
      "source": [
        "true nosie and fake nouise are added to yhat_realfake to add noise so that discrimiantor doesnt learn too fast such that generator\n",
        "cant create images which can fool the disriminator"
      ],
      "metadata": {
        "id": "jv_Ga6uI11ur"
      }
    },
    {
      "cell_type": "markdown",
      "source": [
        "Certainly! The code you provided seems to be part of a training step for a Generative Adversarial Network (GAN). I'll break down the code and explain each part in detail:\n",
        "\n",
        "```python\n",
        "def train_step(self, batch):\n",
        "    # Get the data\n",
        "    real_images = batch\n",
        "\n",
        "    # Generate 128 images of size 128 rows and 1 column\n",
        "    # Training=False, as we are not training the generator here, only making predictions\n",
        "    fake_images = self.generator(tf.random.normal((128, 128, 1)), training=False)\n",
        "\n",
        "    # Train the discriminator\n",
        "    with tf.GradientTape() as d_tape:\n",
        "        # Pass the real and fake images to the discriminator model, training=True to activate dropout layer\n",
        "        yhat_real = self.discriminator(real_images, training=True)\n",
        "        yhat_fake = self.discriminator(fake_images, training=True)\n",
        "\n",
        "        # Concatenate the real and fake outputs along axis 0\n",
        "        yhat_realfake = tf.concat([yhat_real, yhat_fake], axis=0)\n",
        "\n",
        "        # Create labels for real (0) and fake images (1)\n",
        "        y_realfake = tf.concat([tf.zeros_like(yhat_real), tf.ones_like(yhat_fake)], axis=0)\n",
        "\n",
        "        # Add some noise to the true output to prevent it from learning too fast\n",
        "        noise_real = 0.15 * tf.random.uniform(tf.shape(yhat_real))\n",
        "        noise_fake = -0.15 * tf.random.uniform(tf.shape(yhat_fake))\n",
        "        y_realfake += tf.concat([noise_real, noise_fake], axis=0)\n",
        "\n",
        "        # Calculate loss using Binary Cross Entropy\n",
        "        total_d_loss = self.d_loss(y_realfake, yhat_realfake)\n",
        "\n",
        "    # Apply backpropagation\n",
        "    # Calculate the gradient by using loss with respect to trainable variables\n",
        "    dgrad = d_tape.gradient(total_d_loss, self.discriminator.trainable_variables)\n",
        "\n",
        "    # Apply backpropagation by applying the gradients to the discriminator's trainable variables\n",
        "    self.d_opt.apply_gradients(zip(dgrad, self.discriminator.trainable_variables))\n",
        "```\n",
        "\n",
        "Now, let's break down the steps:\n",
        "\n",
        "1. **Data Retrieval:**\n",
        "   - `real_images` are real samples from the training dataset.\n",
        "   - `fake_images` are generated by passing random noise to the generator. The generator is not trained in this step (`training=False`).\n",
        "\n",
        "2. **Discriminator Training:**\n",
        "   - The code uses a `tf.GradientTape` to record operations for automatic differentiation, specifically for training the discriminator.\n",
        "   - The real and fake images are passed through the discriminator, and the outputs are obtained (`yhat_real` and `yhat_fake`).\n",
        "   - The outputs are concatenated along axis 0 to form `yhat_realfake`, which represents the discriminator's predictions on both real and fake images.\n",
        "   - Labels (`y_realfake`) are created for real images (0) and fake images (1).\n",
        "   - Some noise is added to the true outputs to introduce randomness and prevent the discriminator from learning too fast.\n",
        "\n",
        "3. **Loss Calculation:**\n",
        "   - Binary Cross Entropy is used to calculate the loss (`total_d_loss`) between the predicted outputs (`yhat_realfake`) and the target labels (`y_realfake`).\n",
        "\n",
        "4. **Backpropagation:**\n",
        "   - The gradients of the loss with respect to the trainable variables of the discriminator are calculated using `d_tape.gradient`.\n",
        "   - The optimizer (`self.d_opt`) is then used to apply these gradients and update the discriminator's trainable variables.\n",
        "\n",
        "This process helps train the discriminator to better distinguish between real and fake samples. The generator will subsequently be trained to generate more realistic samples that can fool the discriminator. This adversarial training loop continues iteratively.`"
      ],
      "metadata": {
        "id": "zN4KmPra8BiX"
      }
    },
    {
      "cell_type": "markdown",
      "source": [
        "In the provided code, `self.d_opt.apply_gradients(zip(dgrad, self.discriminator.trainable_variables))` is applying the gradients calculated during backpropagation to the trainable variables of the discriminator using the specified optimizer (`self.d_opt`). Let's break down this line:\n",
        "\n",
        "```python\n",
        "self.d_opt.apply_gradients(zip(dgrad, self.discriminator.trainable_variables))\n",
        "```\n",
        "\n",
        "- `self.d_opt`: This likely refers to an instance of a TensorFlow optimizer that has been previously defined. Common optimizers include Stochastic Gradient Descent (SGD), Adam, RMSprop, etc. The choice of optimizer depends on the specific requirements of the training task.\n",
        "\n",
        "- `dgrad`: This is a list of gradients calculated with respect to the trainable variables of the discriminator. Each element in `dgrad` corresponds to the gradient of the total loss with respect to a particular trainable variable.\n",
        "\n",
        "- `self.discriminator.trainable_variables`: This is a list of all the trainable variables of the discriminator model. These are the parameters (weights and biases) that the optimizer will update during training.\n",
        "\n",
        "- `zip(dgrad, self.discriminator.trainable_variables)`: This creates pairs of gradients and corresponding trainable variables. Each pair represents the gradient of the loss with respect to a specific trainable variable.\n",
        "\n",
        "- `apply_gradients`: This method of the optimizer applies the gradients to the corresponding trainable variables. It updates the model's parameters in the direction that reduces the loss.\n",
        "\n",
        "So, the overall effect of this line is to perform a step of optimization on the discriminator model. The optimizer uses the computed gradients to adjust the trainable variables, effectively updating the discriminator's parameters to minimize the loss with respect to those variables. This process is a key step in the training loop of neural networks, where the model learns to improve its performance over time by adjusting its parameters based on the observed loss."
      ],
      "metadata": {
        "id": "l9S0oHMe8DTJ"
      }
    },
    {
      "cell_type": "code",
      "source": [
        "from tensorflow.keras.models import Model"
      ],
      "metadata": {
        "id": "NG2omdypb4vn"
      },
      "execution_count": null,
      "outputs": []
    },
    {
      "cell_type": "code",
      "source": [
        "class FashionGAN(Model):\n",
        "  def __init__(self,generator,discriminator,*args,**kwargs):\n",
        "    # Pass through args and kawrgs to base class\n",
        "    super().__init__(*args,**kwargs)\n",
        "    #Create attributes for gen and disc\n",
        "    self.generator = generator\n",
        "    self.discriminator = discriminator\n",
        "  def compile(self,g_opt,d_opt,g_loss,d_loss,*args,**kwargs):\n",
        "    #Compile with base class\n",
        "    super().compile(*args,**kwargs)\n",
        "    # Create attributes for loss and optimizers\n",
        "    self.g_opt=g_opt\n",
        "    self.d_opt=d_opt\n",
        "    self.g_loss=g_loss\n",
        "    self.d_loss=d_loss\n",
        "  def train_step(self,batch):\n",
        "    # Get the data\n",
        "    real_images= batch\n",
        "    #generate 128 images of size 128 rows and 1 col\n",
        "    #training = false ,as we are not training instead making predictions\n",
        "    fake_images = self.generator(tf.random.normal((128,128,1)),training=False)\n",
        "\n",
        "    # Train the discriminator\n",
        "    with tf.GradientTape() as d_tape:\n",
        "      # Pass the real and fake images to d model,training - true to activate dropoutlayer\n",
        "\n",
        "      yhat_real= self.discriminator(real_images, training=True)\n",
        "      yhat_fake= self.discriminator(fake_images, training=True)\n",
        "      yhat_realfake= tf.concat([yhat_real,yhat_fake],axis=0)\n",
        "\n",
        "      # Create labels for real (0) and fake images (1)\n",
        "\n",
        "      y_realfake= tf.concat([tf.zeros_like(yhat_real),tf.ones_like(yhat_fake)],axis=0)\n",
        "      # Add some noise to true o/p to prevent it from learning too fast\n",
        "\n",
        "      noise_real = 0.15*tf.random.uniform(tf.shape(yhat_real))\n",
        "      noise_fake = -0.15*tf.random.uniform(tf.shape(yhat_fake))\n",
        "      y_realfake +=tf.concat([noise_real,noise_fake],axis=0)\n",
        "\n",
        "      # calculate loss - Binary Cross Entropy\n",
        "\n",
        "      total_d_loss=self.d_loss(y_realfake,yhat_realfake)\n",
        "\n",
        "    # apply backpropagation -nn learn\n",
        "    # calculating the gradient by using loss wrt trainable variables so we extract them\n",
        "\n",
        "    dgrad = d_tape.gradient(total_d_loss,self.discriminator.trainable_variables)\n",
        "\n",
        "    # Apply backprop,it is going to look at the gradient for each of training variables and apply backprop\n",
        "\n",
        "    self.d_opt.apply_gradients(zip(dgrad,self.discriminator.trainable_variables))\n",
        "\n",
        "    # Train the generator\n",
        "    with tf.GradientTape() as g_tape:\n",
        "      # Generate some new images\n",
        "      gen_images=self.generator(tf.random.normal((128,128,1)),training=True)\n",
        "      # Create the predicted labels\n",
        "      # We dont want the discriminator to be learning as we train our generator\n",
        "      #so training=False\n",
        "      predicted_labels = self.discriminator(gen_images,training=False)\n",
        "      # Calculate Loss\n",
        "      # In order to confuse our generator , we are comparing wrt to real images with size of\n",
        "      # predicted so the generator will think that image is real but discriminator is giving fake\n",
        "      # it will try to minimise the distance b/w real and fake\n",
        "      total_g_loss = self.g_loss(tf.zeros_like(predicted_labels),predicted_labels)\n",
        "    # Apply backprop\n",
        "\n",
        "    ggrad = g_tape.gradient(total_g_loss,self.generator.trainable_variables)\n",
        "    self.g_opt.apply_gradients(zip(ggrad,self.generator.trainable_variables))\n",
        "\n",
        "    return {\"d_loss\": total_d_loss,\n",
        "            \"g_loss\": total_g_loss}"
      ],
      "metadata": {
        "id": "cvv709qW_MUZ"
      },
      "execution_count": null,
      "outputs": []
    },
    {
      "cell_type": "code",
      "source": [
        "# Create instance of subclass model\n",
        "\n",
        "fashgan = FashionGAN(generator,discriminator)"
      ],
      "metadata": {
        "id": "GIVB4bMLb_WT"
      },
      "execution_count": null,
      "outputs": []
    },
    {
      "cell_type": "code",
      "source": [
        "# Compile the model\n",
        "\n",
        "fashgan.compile(g_opt,d_opt,g_loss,d_loss)"
      ],
      "metadata": {
        "id": "S8ewc-n1cPEY"
      },
      "execution_count": null,
      "outputs": []
    },
    {
      "cell_type": "markdown",
      "source": [
        "### Build Callback\n",
        "\n"
      ],
      "metadata": {
        "id": "Bp1LmZFuccy7"
      }
    },
    {
      "cell_type": "markdown",
      "source": [
        "optional"
      ],
      "metadata": {
        "id": "Rx2CHJYSfH0e"
      }
    },
    {
      "cell_type": "code",
      "source": [
        "import os\n",
        "from tensorflow.keras.preprocessing.image import array_to_img\n",
        "from tensorflow.keras.callbacks import Callback"
      ],
      "metadata": {
        "id": "n4qwNpoqexfw"
      },
      "execution_count": null,
      "outputs": []
    },
    {
      "cell_type": "code",
      "source": [
        "class ModelMonitor(Callback):\n",
        "    def __init__(self, num_img=3, latent_dim=128):\n",
        "        self.num_img = num_img\n",
        "        self.latent_dim = latent_dim\n",
        "\n",
        "    def on_epoch_end(self, epoch, logs=None):\n",
        "        random_latent_vectors = tf.random.uniform((self.num_img, self.latent_dim,1))\n",
        "        generated_images = self.model.generator(random_latent_vectors)\n",
        "        generated_images *= 255\n",
        "        generated_images.numpy()\n",
        "        for i in range(self.num_img):\n",
        "            img = array_to_img(generated_images[i])\n",
        "            img.save(os.path.join('images', f'generated_img_{epoch}_{i}.png'))"
      ],
      "metadata": {
        "id": "LYn6LNXge8a2"
      },
      "execution_count": null,
      "outputs": []
    },
    {
      "cell_type": "markdown",
      "source": [
        "### Training"
      ],
      "metadata": {
        "id": "cM7Q6cD7fAt6"
      }
    },
    {
      "cell_type": "code",
      "source": [
        "hist = fashgan.fit(ds,epochs=20,callbacks=[ModelMonitor()])"
      ],
      "metadata": {
        "colab": {
          "base_uri": "https://localhost:8080/"
        },
        "id": "k07XHCctfc0M",
        "outputId": "0db947d9-b22b-4666-aadd-2016a0b98f20"
      },
      "execution_count": null,
      "outputs": [
        {
          "output_type": "stream",
          "name": "stdout",
          "text": [
            "Epoch 1/20\n",
            "  6/469 [..............................] - ETA: 1:11 - d_loss: 7.7345 - g_loss: 0.0000e+00"
          ]
        },
        {
          "output_type": "stream",
          "name": "stderr",
          "text": [
            "WARNING:tensorflow:Callback method `on_train_batch_end` is slow compared to the batch time (batch time: 0.0732s vs `on_train_batch_end` time: 0.0862s). Check your callbacks.\n"
          ]
        },
        {
          "output_type": "stream",
          "name": "stdout",
          "text": [
            "469/469 [==============================] - 76s 161ms/step - d_loss: 1.2229 - g_loss: 0.7501\n",
            "Epoch 2/20\n",
            "469/469 [==============================] - 78s 166ms/step - d_loss: 0.6652 - g_loss: 0.6894\n",
            "Epoch 3/20\n",
            "469/469 [==============================] - 78s 165ms/step - d_loss: 0.4921 - g_loss: 0.2351\n",
            "Epoch 4/20\n",
            "469/469 [==============================] - 76s 162ms/step - d_loss: 0.2845 - g_loss: 0.1142\n",
            "Epoch 5/20\n",
            "469/469 [==============================] - 76s 162ms/step - d_loss: 0.2769 - g_loss: 0.2055\n",
            "Epoch 6/20\n",
            "469/469 [==============================] - 76s 162ms/step - d_loss: 0.2741 - g_loss: 0.2692\n",
            "Epoch 7/20\n",
            "469/469 [==============================] - 76s 162ms/step - d_loss: 0.2725 - g_loss: 0.3436\n",
            "Epoch 8/20\n",
            "469/469 [==============================] - 76s 162ms/step - d_loss: 0.2719 - g_loss: 0.4300\n",
            "Epoch 9/20\n",
            "469/469 [==============================] - 76s 162ms/step - d_loss: 0.2710 - g_loss: 0.5023\n",
            "Epoch 10/20\n",
            "469/469 [==============================] - 78s 165ms/step - d_loss: 0.3231 - g_loss: 0.1024\n",
            "Epoch 11/20\n",
            "469/469 [==============================] - 78s 166ms/step - d_loss: 0.2858 - g_loss: 0.0332\n",
            "Epoch 12/20\n",
            "469/469 [==============================] - 78s 166ms/step - d_loss: 0.2820 - g_loss: 0.0398\n",
            "Epoch 13/20\n",
            "469/469 [==============================] - 78s 166ms/step - d_loss: 0.2839 - g_loss: 0.0350\n",
            "Epoch 14/20\n",
            "469/469 [==============================] - 78s 166ms/step - d_loss: 0.2815 - g_loss: 0.0415\n",
            "Epoch 15/20\n",
            "469/469 [==============================] - 78s 166ms/step - d_loss: 0.2806 - g_loss: 0.0411\n",
            "Epoch 16/20\n",
            "469/469 [==============================] - 78s 166ms/step - d_loss: 0.2789 - g_loss: 0.0429\n",
            "Epoch 17/20\n",
            "469/469 [==============================] - 78s 165ms/step - d_loss: 0.2796 - g_loss: 0.0438\n",
            "Epoch 18/20\n",
            "469/469 [==============================] - 78s 165ms/step - d_loss: 0.2758 - g_loss: 0.0436\n",
            "Epoch 19/20\n",
            "469/469 [==============================] - 78s 165ms/step - d_loss: 0.2766 - g_loss: 0.0454\n",
            "Epoch 20/20\n",
            "469/469 [==============================] - 78s 166ms/step - d_loss: 0.3285 - g_loss: 0.0777\n"
          ]
        }
      ]
    },
    {
      "cell_type": "code",
      "source": [
        "import matplotlib.pyplot as plt\n",
        "plt.plot(hist.history[\"d_loss\"],label=\"loss\")\n",
        "plt.plot(hist.history['g_loss'],label='g_loss')\n",
        "plt.legend()\n",
        "plt.show()"
      ],
      "metadata": {
        "id": "N6qeTljzgnxK",
        "colab": {
          "base_uri": "https://localhost:8080/",
          "height": 430
        },
        "outputId": "c7761cc7-38c3-4d24-a0cd-25b97dd309ce"
      },
      "execution_count": null,
      "outputs": [
        {
          "output_type": "display_data",
          "data": {
            "text/plain": [
              "<Figure size 640x480 with 1 Axes>"
            ],
            "image/png": "[encoded data removed]"
          },
          "metadata": {}
        }
      ]
    },
    {
      "cell_type": "markdown",
      "source": [
        "### Generate Images"
      ],
      "metadata": {
        "id": "SdW2N6MMXlpe"
      }
    },
    {
      "cell_type": "code",
      "source": [
        "imgs= generator.predict(tf.random.normal((16,128,1)))"
      ],
      "metadata": {
        "colab": {
          "base_uri": "https://localhost:8080/"
        },
        "id": "nb0EzVKZg6tW",
        "outputId": "f57ab934-0bb0-407e-8e8a-11dd577b11a4"
      },
      "execution_count": null,
      "outputs": [
        {
          "output_type": "stream",
          "name": "stdout",
          "text": [
            "1/1 [==============================] - 0s 473ms/step\n"
          ]
        }
      ]
    },
    {
      "cell_type": "code",
      "source": [
        "imgs"
      ],
      "metadata": {
        "colab": {
          "base_uri": "https://localhost:8080/"
        },
        "id": "sJQuQuxAhAU7",
        "outputId": "5f5ad93c-0fcb-4d74-c7f0-118d761f1cd9"
      },
      "execution_count": null,
      "outputs": [
        {
          "output_type": "execute_result",
          "data": {
            "text/plain": [
              "array([[[[1.0000000e+00],\n",
              "         [1.0000000e+00],\n",
              "         [0.0000000e+00],\n",
              "         ...,\n",
              "         [1.0000000e+00],\n",
              "         [0.0000000e+00],\n",
              "         [0.0000000e+00]],\n",
              "\n",
              "        [[1.0000000e+00],\n",
              "         [1.0000000e+00],\n",
              "         [0.0000000e+00],\n",
              "         ...,\n",
              "         [1.0000000e+00],\n",
              "         [0.0000000e+00],\n",
              "         [0.0000000e+00]],\n",
              "\n",
              "        [[1.0000000e+00],\n",
              "         [1.0000000e+00],\n",
              "         [0.0000000e+00],\n",
              "         ...,\n",
              "         [1.0000000e+00],\n",
              "         [3.0426655e-26],\n",
              "         [0.0000000e+00]],\n",
              "\n",
              "        ...,\n",
              "\n",
              "        [[0.0000000e+00],\n",
              "         [0.0000000e+00],\n",
              "         [0.0000000e+00],\n",
              "         ...,\n",
              "         [1.0000000e+00],\n",
              "         [1.0000000e+00],\n",
              "         [0.0000000e+00]],\n",
              "\n",
              "        [[1.1135146e-37],\n",
              "         [0.0000000e+00],\n",
              "         [0.0000000e+00],\n",
              "         ...,\n",
              "         [1.0000000e+00],\n",
              "         [1.0000000e+00],\n",
              "         [1.3736533e-16]],\n",
              "\n",
              "        [[2.0386404e-05],\n",
              "         [0.0000000e+00],\n",
              "         [0.0000000e+00],\n",
              "         ...,\n",
              "         [1.0000000e+00],\n",
              "         [1.0000000e+00],\n",
              "         [9.9999309e-01]]],\n",
              "\n",
              "\n",
              "       [[[0.0000000e+00],\n",
              "         [0.0000000e+00],\n",
              "         [0.0000000e+00],\n",
              "         ...,\n",
              "         [0.0000000e+00],\n",
              "         [0.0000000e+00],\n",
              "         [0.0000000e+00]],\n",
              "\n",
              "        [[0.0000000e+00],\n",
              "         [0.0000000e+00],\n",
              "         [0.0000000e+00],\n",
              "         ...,\n",
              "         [0.0000000e+00],\n",
              "         [0.0000000e+00],\n",
              "         [0.0000000e+00]],\n",
              "\n",
              "        [[0.0000000e+00],\n",
              "         [0.0000000e+00],\n",
              "         [0.0000000e+00],\n",
              "         ...,\n",
              "         [0.0000000e+00],\n",
              "         [0.0000000e+00],\n",
              "         [0.0000000e+00]],\n",
              "\n",
              "        ...,\n",
              "\n",
              "        [[0.0000000e+00],\n",
              "         [0.0000000e+00],\n",
              "         [0.0000000e+00],\n",
              "         ...,\n",
              "         [1.0000000e+00],\n",
              "         [1.0000000e+00],\n",
              "         [2.1707588e-32]],\n",
              "\n",
              "        [[1.6849514e-03],\n",
              "         [0.0000000e+00],\n",
              "         [0.0000000e+00],\n",
              "         ...,\n",
              "         [1.0000000e+00],\n",
              "         [1.0000000e+00],\n",
              "         [9.9999774e-01]],\n",
              "\n",
              "        [[1.0000000e+00],\n",
              "         [5.2976209e-14],\n",
              "         [1.8666679e-19],\n",
              "         ...,\n",
              "         [1.0000000e+00],\n",
              "         [1.0000000e+00],\n",
              "         [1.0000000e+00]]],\n",
              "\n",
              "\n",
              "       [[[0.0000000e+00],\n",
              "         [0.0000000e+00],\n",
              "         [0.0000000e+00],\n",
              "         ...,\n",
              "         [1.0000000e+00],\n",
              "         [1.2356242e-34],\n",
              "         [1.0000000e+00]],\n",
              "\n",
              "        [[0.0000000e+00],\n",
              "         [0.0000000e+00],\n",
              "         [0.0000000e+00],\n",
              "         ...,\n",
              "         [1.0000000e+00],\n",
              "         [1.0000000e+00],\n",
              "         [1.0000000e+00]],\n",
              "\n",
              "        [[0.0000000e+00],\n",
              "         [0.0000000e+00],\n",
              "         [0.0000000e+00],\n",
              "         ...,\n",
              "         [1.0000000e+00],\n",
              "         [1.0000000e+00],\n",
              "         [1.0000000e+00]],\n",
              "\n",
              "        ...,\n",
              "\n",
              "        [[0.0000000e+00],\n",
              "         [0.0000000e+00],\n",
              "         [0.0000000e+00],\n",
              "         ...,\n",
              "         [1.0000000e+00],\n",
              "         [1.0000000e+00],\n",
              "         [9.9964595e-01]],\n",
              "\n",
              "        [[2.6993189e-31],\n",
              "         [0.0000000e+00],\n",
              "         [0.0000000e+00],\n",
              "         ...,\n",
              "         [1.0000000e+00],\n",
              "         [1.0000000e+00],\n",
              "         [1.0000000e+00]],\n",
              "\n",
              "        [[9.9887186e-01],\n",
              "         [1.2534407e-35],\n",
              "         [0.0000000e+00],\n",
              "         ...,\n",
              "         [1.0000000e+00],\n",
              "         [1.0000000e+00],\n",
              "         [9.9994779e-01]]],\n",
              "\n",
              "\n",
              "       ...,\n",
              "\n",
              "\n",
              "       [[[0.0000000e+00],\n",
              "         [0.0000000e+00],\n",
              "         [0.0000000e+00],\n",
              "         ...,\n",
              "         [1.0000000e+00],\n",
              "         [1.0000000e+00],\n",
              "         [2.4357444e-06]],\n",
              "\n",
              "        [[0.0000000e+00],\n",
              "         [0.0000000e+00],\n",
              "         [0.0000000e+00],\n",
              "         ...,\n",
              "         [1.0000000e+00],\n",
              "         [1.0000000e+00],\n",
              "         [1.0000000e+00]],\n",
              "\n",
              "        [[0.0000000e+00],\n",
              "         [0.0000000e+00],\n",
              "         [0.0000000e+00],\n",
              "         ...,\n",
              "         [1.0000000e+00],\n",
              "         [1.0000000e+00],\n",
              "         [1.0000000e+00]],\n",
              "\n",
              "        ...,\n",
              "\n",
              "        [[4.0358068e-38],\n",
              "         [0.0000000e+00],\n",
              "         [0.0000000e+00],\n",
              "         ...,\n",
              "         [1.0000000e+00],\n",
              "         [1.0000000e+00],\n",
              "         [3.1949647e-21]],\n",
              "\n",
              "        [[9.9991751e-01],\n",
              "         [0.0000000e+00],\n",
              "         [0.0000000e+00],\n",
              "         ...,\n",
              "         [1.0000000e+00],\n",
              "         [1.0000000e+00],\n",
              "         [9.9997473e-01]],\n",
              "\n",
              "        [[1.0000000e+00],\n",
              "         [3.5673074e-14],\n",
              "         [9.9503667e-26],\n",
              "         ...,\n",
              "         [1.0000000e+00],\n",
              "         [1.0000000e+00],\n",
              "         [9.9999607e-01]]],\n",
              "\n",
              "\n",
              "       [[[1.1356352e-06],\n",
              "         [0.0000000e+00],\n",
              "         [0.0000000e+00],\n",
              "         ...,\n",
              "         [1.0000000e+00],\n",
              "         [6.8196520e-04],\n",
              "         [1.0000000e+00]],\n",
              "\n",
              "        [[3.8762841e-31],\n",
              "         [0.0000000e+00],\n",
              "         [0.0000000e+00],\n",
              "         ...,\n",
              "         [1.0000000e+00],\n",
              "         [1.0000000e+00],\n",
              "         [1.0000000e+00]],\n",
              "\n",
              "        [[1.7161708e-24],\n",
              "         [0.0000000e+00],\n",
              "         [0.0000000e+00],\n",
              "         ...,\n",
              "         [1.0000000e+00],\n",
              "         [1.0000000e+00],\n",
              "         [1.0000000e+00]],\n",
              "\n",
              "        ...,\n",
              "\n",
              "        [[0.0000000e+00],\n",
              "         [0.0000000e+00],\n",
              "         [0.0000000e+00],\n",
              "         ...,\n",
              "         [1.0000000e+00],\n",
              "         [1.0000000e+00],\n",
              "         [9.6456450e-01]],\n",
              "\n",
              "        [[6.0616020e-17],\n",
              "         [0.0000000e+00],\n",
              "         [0.0000000e+00],\n",
              "         ...,\n",
              "         [1.0000000e+00],\n",
              "         [1.0000000e+00],\n",
              "         [9.3204707e-01]],\n",
              "\n",
              "        [[2.1578809e-03],\n",
              "         [1.2480135e-24],\n",
              "         [1.0229737e-28],\n",
              "         ...,\n",
              "         [1.0000000e+00],\n",
              "         [1.0000000e+00],\n",
              "         [7.6441705e-05]]],\n",
              "\n",
              "\n",
              "       [[[1.0000000e+00],\n",
              "         [1.0000000e+00],\n",
              "         [1.0000000e+00],\n",
              "         ...,\n",
              "         [7.3762751e-10],\n",
              "         [0.0000000e+00],\n",
              "         [1.0000000e+00]],\n",
              "\n",
              "        [[1.0000000e+00],\n",
              "         [1.0000000e+00],\n",
              "         [1.0000000e+00],\n",
              "         ...,\n",
              "         [1.0000000e+00],\n",
              "         [0.0000000e+00],\n",
              "         [1.0000000e+00]],\n",
              "\n",
              "        [[1.0000000e+00],\n",
              "         [1.0000000e+00],\n",
              "         [1.0000000e+00],\n",
              "         ...,\n",
              "         [1.0000000e+00],\n",
              "         [0.0000000e+00],\n",
              "         [1.0000000e+00]],\n",
              "\n",
              "        ...,\n",
              "\n",
              "        [[0.0000000e+00],\n",
              "         [0.0000000e+00],\n",
              "         [0.0000000e+00],\n",
              "         ...,\n",
              "         [1.0000000e+00],\n",
              "         [1.0000000e+00],\n",
              "         [1.0000000e+00]],\n",
              "\n",
              "        [[0.0000000e+00],\n",
              "         [0.0000000e+00],\n",
              "         [0.0000000e+00],\n",
              "         ...,\n",
              "         [1.0000000e+00],\n",
              "         [1.0000000e+00],\n",
              "         [1.0000000e+00]],\n",
              "\n",
              "        [[3.0213898e-22],\n",
              "         [0.0000000e+00],\n",
              "         [0.0000000e+00],\n",
              "         ...,\n",
              "         [1.0000000e+00],\n",
              "         [1.0000000e+00],\n",
              "         [1.0000000e+00]]]], dtype=float32)"
            ]
          },
          "metadata": {},
          "execution_count": 47
        }
      ]
    },
    {
      "cell_type": "code",
      "source": [
        "fig,ax=plt.subplots(nrows=4,ncols=4,figsize=(10,10))\n",
        "for i in range(4):\n",
        "  for j in range(4):\n",
        "    ax[i][j].imshow(imgs[(i+1)*(j+1)-1])\n",
        "    ax[i][j].axis('off')"
      ],
      "metadata": {
        "colab": {
          "base_uri": "https://localhost:8080/",
          "height": 807
        },
        "id": "T806R8x4hBL_",
        "outputId": "053515f3-b5d7-424f-f388-1b585e2b5eba"
      },
      "execution_count": null,
      "outputs": [
        {
          "output_type": "display_data",
          "data": {
            "text/plain": [
              "<Figure size 1000x1000 with 16 Axes>"
            ],
            "image/png": "[encoded data removed]"
          },
          "metadata": {}
        }
      ]
    },
    {
      "cell_type": "markdown",
      "source": [
        "### GAN applied to mnist dataset"
      ],
      "metadata": {
        "id": "5Ry257a5hpV6"
      }
    },
    {
      "cell_type": "code",
      "source": [
        "# Load data\n",
        "import tensorflow_datasets as tfds\n",
        "import tensorflow as tf"
      ],
      "metadata": {
        "id": "Eo9KpxhaflPB"
      },
      "execution_count": null,
      "outputs": []
    },
    {
      "cell_type": "code",
      "source": [
        "mnist=tfds.load(\"mnist\",split=\"train\")"
      ],
      "metadata": {
        "id": "O3Zmq1BPfsC7"
      },
      "execution_count": null,
      "outputs": []
    },
    {
      "cell_type": "code",
      "source": [
        "img=mnist.as_numpy_iterator().next()"
      ],
      "metadata": {
        "id": "JwzsX3bqf21g"
      },
      "execution_count": null,
      "outputs": []
    },
    {
      "cell_type": "code",
      "source": [
        "img['image'].max()"
      ],
      "metadata": {
        "colab": {
          "base_uri": "https://localhost:8080/"
        },
        "id": "PgzlY55DgNLk",
        "outputId": "dbd19033-f7b5-4d90-9347-0cb6306ac6c5"
      },
      "execution_count": null,
      "outputs": [
        {
          "output_type": "execute_result",
          "data": {
            "text/plain": [
              "255"
            ]
          },
          "metadata": {},
          "execution_count": 309
        }
      ]
    },
    {
      "cell_type": "code",
      "source": [
        "img['image'].shape"
      ],
      "metadata": {
        "colab": {
          "base_uri": "https://localhost:8080/"
        },
        "id": "1oYBkGJHiabc",
        "outputId": "24063c22-8043-4beb-e438-8f738c602fda"
      },
      "execution_count": null,
      "outputs": [
        {
          "output_type": "execute_result",
          "data": {
            "text/plain": [
              "(28, 28, 1)"
            ]
          },
          "metadata": {},
          "execution_count": 310
        }
      ]
    },
    {
      "cell_type": "markdown",
      "source": [
        "### Visualise mnist"
      ],
      "metadata": {
        "id": "f5uUFmjlifyL"
      }
    },
    {
      "cell_type": "code",
      "source": [
        "import matplotlib.pyplot as plt\n",
        "mnist_iter=mnist.as_numpy_iterator()\n",
        "fig,ax=plt.subplots(ncols=4,figsize=(10,10))\n",
        "for i in range(4):\n",
        "  img=mnist_iter.next()\n",
        "  ax[i].imshow(np.squeeze(img['image']))\n",
        "  ax[i].set_title(img['label'])\n",
        "  ax[i].axis(\"off\")"
      ],
      "metadata": {
        "colab": {
          "base_uri": "https://localhost:8080/",
          "height": 227
        },
        "id": "XEBIoybAih8t",
        "outputId": "65c9bc8b-83b8-4286-c0b5-eb98cf62d8b1"
      },
      "execution_count": null,
      "outputs": [
        {
          "output_type": "display_data",
          "data": {
            "text/plain": [
              "<Figure size 1000x1000 with 4 Axes>"
            ],
            "image/png": "[encoded data removed]"
          },
          "metadata": {}
        }
      ]
    },
    {
      "cell_type": "code",
      "source": [
        "def scale(img):\n",
        "  return img['image']/255"
      ],
      "metadata": {
        "id": "_lm3Jed6hCAJ"
      },
      "execution_count": null,
      "outputs": []
    },
    {
      "cell_type": "code",
      "source": [
        "# Scale\n",
        "mnist=mnist.map(scale)\n",
        "# Cache\n",
        "mnist=mnist.cache()\n",
        "# Shuffle\n",
        "mnist=mnist.shuffle(60000)\n",
        "# Batch\n",
        "mnist=mnist.batch(128)\n",
        "# Prefetch\n",
        "mnist=mnist.prefetch(64)"
      ],
      "metadata": {
        "id": "quk3hr8NhYon"
      },
      "execution_count": null,
      "outputs": []
    },
    {
      "cell_type": "markdown",
      "source": [
        "### Creating Generator Model"
      ],
      "metadata": {
        "id": "C_bpOgnijnHq"
      }
    },
    {
      "cell_type": "code",
      "source": [
        "from tensorflow.keras.models import Sequential\n",
        "from tensorflow.keras.layers import Conv2D,MaxPool2D,LeakyReLU,Dropout,Dense,Reshape,Flatten,UpSampling2D"
      ],
      "metadata": {
        "id": "gh_wszt8j09s"
      },
      "execution_count": null,
      "outputs": []
    },
    {
      "cell_type": "code",
      "source": [
        "def generator():\n",
        "  model = Sequential()\n",
        "  # Create Image\n",
        "\n",
        "  model.add(Dense(7*7*128,input_dim=128))\n",
        "  model.add(LeakyReLU(0.2))\n",
        "  model.add(Reshape((7,7,128)))\n",
        "\n",
        "  # Upsampling Block 1\n",
        "\n",
        "  model.add(UpSampling2D())\n",
        "  model.add(Conv2D(128,5,padding='same'))\n",
        "  model.add(LeakyReLU(0.2))\n",
        "\n",
        "  # Upsampling Block 2\n",
        "\n",
        "  model.add(UpSampling2D())\n",
        "  model.add(Conv2D(128,5,padding='same'))\n",
        "  model.add(LeakyReLU(0.2))\n",
        "\n",
        "  # Conv Block 1\n",
        "\n",
        "  model.add(Conv2D(128,4,padding='same'))\n",
        "  model.add(LeakyReLU(0.2))\n",
        "\n",
        "  # Conv Block 2\n",
        "\n",
        "  model.add(Conv2D(128,4,padding='same'))\n",
        "  model.add(LeakyReLU(0.2))\n",
        "\n",
        "  # Conv OUTPUT\n",
        "  model.add(Conv2D(1,4,padding='same',activation='sigmoid'))\n",
        "\n",
        "  return model\n"
      ],
      "metadata": {
        "id": "ybJzP_51jwJq"
      },
      "execution_count": null,
      "outputs": []
    },
    {
      "cell_type": "code",
      "source": [
        "test=generator()\n",
        "test.summary()"
      ],
      "metadata": {
        "colab": {
          "base_uri": "https://localhost:8080/"
        },
        "id": "rtYASTGBlhwp",
        "outputId": "9a3ee2b9-1b23-44d2-b619-2e85a278cbed"
      },
      "execution_count": null,
      "outputs": [
        {
          "output_type": "stream",
          "name": "stdout",
          "text": [
            "Model: \"sequential_53\"\n",
            "_________________________________________________________________\n",
            " Layer (type)                Output Shape              Param #   \n",
            "=================================================================\n",
            " dense_53 (Dense)            (None, 6272)              809088    \n",
            "                                                                 \n",
            " leaky_re_lu_235 (LeakyReLU  (None, 6272)              0         \n",
            " )                                                               \n",
            "                                                                 \n",
            " reshape_26 (Reshape)        (None, 7, 7, 128)         0         \n",
            "                                                                 \n",
            " up_sampling2d_52 (UpSampli  (None, 14, 14, 128)       0         \n",
            " ng2D)                                                           \n",
            "                                                                 \n",
            " conv2d_234 (Conv2D)         (None, 14, 14, 128)       409728    \n",
            "                                                                 \n",
            " leaky_re_lu_236 (LeakyReLU  (None, 14, 14, 128)       0         \n",
            " )                                                               \n",
            "                                                                 \n",
            " up_sampling2d_53 (UpSampli  (None, 28, 28, 128)       0         \n",
            " ng2D)                                                           \n",
            "                                                                 \n",
            " conv2d_235 (Conv2D)         (None, 28, 28, 128)       409728    \n",
            "                                                                 \n",
            " leaky_re_lu_237 (LeakyReLU  (None, 28, 28, 128)       0         \n",
            " )                                                               \n",
            "                                                                 \n",
            " conv2d_236 (Conv2D)         (None, 28, 28, 128)       262272    \n",
            "                                                                 \n",
            " leaky_re_lu_238 (LeakyReLU  (None, 28, 28, 128)       0         \n",
            " )                                                               \n",
            "                                                                 \n",
            " conv2d_237 (Conv2D)         (None, 28, 28, 128)       262272    \n",
            "                                                                 \n",
            " leaky_re_lu_239 (LeakyReLU  (None, 28, 28, 128)       0         \n",
            " )                                                               \n",
            "                                                                 \n",
            " conv2d_238 (Conv2D)         (None, 28, 28, 1)         2049      \n",
            "                                                                 \n",
            "=================================================================\n",
            "Total params: 2155137 (8.22 MB)\n",
            "Trainable params: 2155137 (8.22 MB)\n",
            "Non-trainable params: 0 (0.00 Byte)\n",
            "_________________________________________________________________\n"
          ]
        }
      ]
    },
    {
      "cell_type": "code",
      "source": [
        "img=test.predict(np.random.randn(4,128,1))\n",
        "fig,ax=plt.subplots(ncols=4,figsize=(20,20))\n",
        "# loop four time to get image\n",
        "for idx,i in enumerate(img):\n",
        "\n",
        "  #plot the image using specific subplot\n",
        "  ax[idx].imshow(np.squeeze(i))\n",
        "  ax[idx].set_title(idx)\n",
        "  ax[idx].axis(\"off\")"
      ],
      "metadata": {
        "colab": {
          "base_uri": "https://localhost:8080/",
          "height": 366
        },
        "id": "iPLvzBKHlksg",
        "outputId": "793d2c39-79e1-4b6e-bd3e-9c2c206ab0ae"
      },
      "execution_count": null,
      "outputs": [
        {
          "output_type": "stream",
          "name": "stdout",
          "text": [
            "1/1 [==============================] - 0s 94ms/step\n"
          ]
        },
        {
          "output_type": "display_data",
          "data": {
            "text/plain": [
              "<Figure size 2000x2000 with 4 Axes>"
            ],
            "image/png": "[encoded data removed]"
          },
          "metadata": {}
        }
      ]
    },
    {
      "cell_type": "markdown",
      "source": [
        "### Discriminator"
      ],
      "metadata": {
        "id": "PUL6wADUl13E"
      }
    },
    {
      "cell_type": "code",
      "source": [
        "def discriminator():\n",
        "  model= Sequential()\n",
        "  # Conv Block 1\n",
        "  model.add(Conv2D(32,5,input_shape=(28,28,1)))\n",
        "  model.add(LeakyReLU(0.2))\n",
        "  model.add(Dropout(0.4))\n",
        "  # Conv Block 2\n",
        "  model.add(Conv2D(64,5))\n",
        "  model.add(LeakyReLU(0.2))\n",
        "  model.add(Dropout(0.4))\n",
        "  # Conv Block 3\n",
        "  model.add(Conv2D(128,5))\n",
        "  model.add(LeakyReLU(0.2))\n",
        "  model.add(Dropout(0.4))\n",
        "  # Conv Block 4\n",
        "  model.add(Conv2D(256,5))\n",
        "  model.add(LeakyReLU(0.2))\n",
        "  model.add(Dropout(0.4))\n",
        "  # Dense Layer\n",
        "  model.add(Flatten())\n",
        "  model.add(Dropout(0.4))\n",
        "  model.add(Dense(1,activation=\"sigmoid\"))\n",
        "\n",
        "  return model"
      ],
      "metadata": {
        "id": "SiyHCRS0l7W6"
      },
      "execution_count": null,
      "outputs": []
    },
    {
      "cell_type": "code",
      "source": [
        "test_2=discriminator()"
      ],
      "metadata": {
        "id": "l2RkHCcXmy8a"
      },
      "execution_count": null,
      "outputs": []
    },
    {
      "cell_type": "code",
      "source": [
        "test_2.summary()"
      ],
      "metadata": {
        "colab": {
          "base_uri": "https://localhost:8080/"
        },
        "id": "L3aunIeom1Ub",
        "outputId": "4a153c33-cc8b-42cf-c92c-dfbc22a1100d"
      },
      "execution_count": null,
      "outputs": [
        {
          "output_type": "stream",
          "name": "stdout",
          "text": [
            "Model: \"sequential_54\"\n",
            "_________________________________________________________________\n",
            " Layer (type)                Output Shape              Param #   \n",
            "=================================================================\n",
            " conv2d_239 (Conv2D)         (None, 24, 24, 32)        832       \n",
            "                                                                 \n",
            " leaky_re_lu_240 (LeakyReLU  (None, 24, 24, 32)        0         \n",
            " )                                                               \n",
            "                                                                 \n",
            " dropout_128 (Dropout)       (None, 24, 24, 32)        0         \n",
            "                                                                 \n",
            " conv2d_240 (Conv2D)         (None, 20, 20, 64)        51264     \n",
            "                                                                 \n",
            " leaky_re_lu_241 (LeakyReLU  (None, 20, 20, 64)        0         \n",
            " )                                                               \n",
            "                                                                 \n",
            " dropout_129 (Dropout)       (None, 20, 20, 64)        0         \n",
            "                                                                 \n",
            " conv2d_241 (Conv2D)         (None, 16, 16, 128)       204928    \n",
            "                                                                 \n",
            " leaky_re_lu_242 (LeakyReLU  (None, 16, 16, 128)       0         \n",
            " )                                                               \n",
            "                                                                 \n",
            " dropout_130 (Dropout)       (None, 16, 16, 128)       0         \n",
            "                                                                 \n",
            " conv2d_242 (Conv2D)         (None, 12, 12, 256)       819456    \n",
            "                                                                 \n",
            " leaky_re_lu_243 (LeakyReLU  (None, 12, 12, 256)       0         \n",
            " )                                                               \n",
            "                                                                 \n",
            " dropout_131 (Dropout)       (None, 12, 12, 256)       0         \n",
            "                                                                 \n",
            " flatten_26 (Flatten)        (None, 36864)             0         \n",
            "                                                                 \n",
            " dropout_132 (Dropout)       (None, 36864)             0         \n",
            "                                                                 \n",
            " dense_54 (Dense)            (None, 1)                 36865     \n",
            "                                                                 \n",
            "=================================================================\n",
            "Total params: 1113345 (4.25 MB)\n",
            "Trainable params: 1113345 (4.25 MB)\n",
            "Non-trainable params: 0 (0.00 Byte)\n",
            "_________________________________________________________________\n"
          ]
        }
      ]
    },
    {
      "cell_type": "code",
      "source": [
        "test_2.predict(np.expand_dims(img[0],axis=0))"
      ],
      "metadata": {
        "colab": {
          "base_uri": "https://localhost:8080/"
        },
        "id": "WoFGgElYm2zK",
        "outputId": "f95fba14-619d-4a16-c7fd-8a686d0da72e"
      },
      "execution_count": null,
      "outputs": [
        {
          "output_type": "stream",
          "name": "stdout",
          "text": [
            "1/1 [==============================] - 0s 268ms/step\n"
          ]
        },
        {
          "output_type": "execute_result",
          "data": {
            "text/plain": [
              "array([[0.50478333]], dtype=float32)"
            ]
          },
          "metadata": {},
          "execution_count": 321
        }
      ]
    },
    {
      "cell_type": "code",
      "source": [
        "from tensorflow.keras.models import Model\n"
      ],
      "metadata": {
        "id": "IDn-CbZ6nC2v"
      },
      "execution_count": null,
      "outputs": []
    },
    {
      "cell_type": "code",
      "source": [
        "#ADAM as optimizers for both\n",
        "from tensorflow.keras.optimizers import Adam\n",
        "#Binary cross entropy as loss for both\n",
        "from tensorflow.keras.losses import BinaryCrossentropy\n",
        "# Higher lr for g because we want the generator to learn faster so that it can trick\n",
        "#the discriminator\n",
        "g_opt = Adam(learning_rate=0.0001)\n",
        "d_opt=Adam(learning_rate=0.00001)\n",
        "g_loss=BinaryCrossentropy()\n",
        "d_loss=BinaryCrossentropy()"
      ],
      "metadata": {
        "id": "M_XdGVA7pRJm"
      },
      "execution_count": null,
      "outputs": []
    },
    {
      "cell_type": "markdown",
      "source": [
        "def call(self, inputs, training=None, mask=None):\n",
        "        # Generate fake images using the generator\n",
        "        fake_images = self.generator(inputs, training=training)\n",
        "\n",
        "        # Pass fake images through the discriminator\n",
        "        discriminator_output = self.discriminator(fake_images, training=training)\n",
        "        return discriminator_output"
      ],
      "metadata": {
        "id": "pRPNXjdC38xA"
      }
    },
    {
      "cell_type": "markdown",
      "source": [
        "class mnistgan(Model):\n",
        "  def __init__(self,discriminator,generator,*args,**kwargs):\n",
        "    super().__init__(*args,**kwargs)\n",
        "    self.discriminator=discriminator\n",
        "    self.generator=generator\n",
        "  def compile(self,d_opt,g_opt,d_loss,g_loss,*args,**kwargs):\n",
        "    super().compile(*args,**kwargs)\n",
        "    self.d_opt=d_opt\n",
        "    self.g_opt=g_opt\n",
        "    self.d_loss=d_loss\n",
        "    self.g_loss=g_loss\n",
        "  def call(self, inputs, training=None, mask=None):\n",
        "        # Generate fake images using the generator\n",
        "        fake_images = self.generator(inputs, training=training)\n",
        "\n",
        "        # Pass fake images through the discriminator\n",
        "        discriminator_output = self.discriminator(fake_images, training=training)\n",
        "        return discriminator_output\n",
        "  def train(self,batch):\n",
        "    \n",
        "    real_images=batch\n",
        "    fake_images=self.generator(tf.random.normal(128,128,1),training=False)\n",
        "    # Training Discriminator\n",
        "    with tf.GradientTape() as d_tape:\n",
        "      yhat_real= self.discriminator(real_images,training=True)\n",
        "      yhat_fake= self.discriminator(fake_images,training=True)\n",
        "      yhat_realfake=tf.concat([yhat_real,yhat_fake],axis=0)\n",
        "      y_realfake=tf.concat([tf.zeros_like(yhat_real),tf.ones_like(yhat_fake)],axis=0)\n",
        "      # noise\n",
        "      noise_real=0.15*(tf.random.uniform(tf.shape(yhat_real)))\n",
        "      noise_fake=-0.15*(tf.random.uniform(tf.shape(yhat_fake)))\n",
        "      y_realfake+=tf.concat([noise_real,noise_fake],axis=0)\n",
        "      # loss\n",
        "      d_total_loss=self.d_loss(y_realfake,yhat_realfake)\n",
        "    d_grad=d_tape.gradient(d_total_loss,self.discriminator.trainable_variables)\n",
        "    self.d_opt.apply_gradients(zip(d_grad,self.discriminator.trainable_variables))\n",
        "\n",
        "    with tf.GradientTape() as g_tape:\n",
        "      fake_img=self.generator(tf.random.normal((128,128,1)),training=True)\n",
        "      y_fake_img=self.discriminator(fake_img,training=False)\n",
        "      #g_loss\n",
        "      g_total_loss=self.g_loss(tf.zeros_like(y_fake_img),y_fake_img)\n",
        "\n",
        "    g_grad=g_tape.gradient(g_total_loss,self.generator.trainable_variables)\n",
        "    self.g_opt.apply_gradients(zip(g_grad,self.generator.trainable_variables))\n",
        "\n",
        "    return {'d_loss' : d_total_loss,\n",
        "            'g_loss' : g_total_loss}"
      ],
      "metadata": {
        "id": "A0LVGy-uoaz8"
      }
    },
    {
      "cell_type": "markdown",
      "source": [
        "class MnistGAN(Model):\n",
        "    def __init__(self, discriminator, generator, *args, **kwargs):\n",
        "        super().__init__(*args, **kwargs)\n",
        "        self.discriminator = discriminator\n",
        "        self.generator = generator\n",
        "\n",
        "    def compile(self, d_opt, g_opt, d_loss, g_loss, *args, **kwargs):\n",
        "        super().compile(*args, **kwargs)\n",
        "        self.d_opt = d_opt\n",
        "        self.g_opt = g_opt\n",
        "        self.d_loss = d_loss\n",
        "        self.g_loss = g_loss\n",
        "\n",
        "    def train_step(self, batch):\n",
        "        real_images = batch\n",
        "        fake_images = self.generator.predict(tf.random.normal((128,128,1)), training=False)\n",
        "        # Training Discriminator\n",
        "        with tf.GradientTape() as d_tape:\n",
        "            \n",
        "            yhat_real = self.discriminator(real_images, training=True)\n",
        "            yhat_fake = self.discriminator(fake_images, training=True)\n",
        "\n",
        "            yhat_realfake = tf.concat([yhat_real, yhat_fake], axis=0)\n",
        "            y_realfake = tf.concat([tf.zeros_like(yhat_real), tf.ones_like(yhat_fake)], axis=0)\n",
        "\n",
        "            # Noise\n",
        "            noise_real = 0.15 * tf.random.uniform(tf.shape(yhat_real))\n",
        "            noise_fake = -0.15 * tf.random.uniform(tf.shape(yhat_fake))\n",
        "            y_realfake += tf.concat([noise_real, noise_fake], axis=0)\n",
        "\n",
        "            # Loss\n",
        "            d_total_loss = self.d_loss(y_realfake, yhat_realfake)\n",
        "\n",
        "        d_grad = d_tape.gradient(d_total_loss, self.discriminator.trainable_variables)\n",
        "        self.d_opt.apply_gradients(zip(d_grad, self.discriminator.trainable_variables))\n",
        "\n",
        "        # Training Generator\n",
        "        with tf.GradientTape() as g_tape:\n",
        "            fake_images = self.generator(tf.random.normal(tf.shape(real_images)), training=True)\n",
        "            y_fake_img = self.discriminator(fake_images, training=False)\n",
        "\n",
        "            # Generator loss\n",
        "            g_total_loss = self.g_loss(tf.zeros_like(y_fake_img), y_fake_img)\n",
        "\n",
        "        g_grad = g_tape.gradient(g_total_loss, self.generator.trainable_variables)\n",
        "        self.g_opt.apply_gradients(zip(g_grad, self.generator.trainable_variables))\n",
        "\n",
        "        return {'d_loss': d_total_loss, 'g_loss': g_total_loss}\n",
        "\n",
        "# Instantiate the model and compile it\n",
        "mnist_gan = MnistGAN(discriminator, generator)\n",
        "mnist_gan.compile(d_opt, g_opt, d_loss, g_loss)\n",
        "\n",
        "# Assuming mnist is your dataset\n",
        "mnist_gan.fit(mnist, epochs=30)\n"
      ],
      "metadata": {
        "id": "CzYKyji2xKpg"
      }
    },
    {
      "cell_type": "code",
      "source": [
        "class mnistgan(Model):\n",
        "  def __init__(self,discriminator,generator,*args,**kwargs):\n",
        "    super().__init__(*args,**kwargs)\n",
        "    self.discriminator=discriminator\n",
        "    self.generator=generator\n",
        "  def compile(self,d_opt,g_opt,d_loss,g_loss,*args,**kwargs):\n",
        "    super().compile(*args,**kwargs)\n",
        "    self.d_opt=d_opt\n",
        "    self.g_opt=g_opt\n",
        "    self.d_loss=d_loss\n",
        "    self.g_loss=g_loss\n",
        "\n",
        "  def train(self,batch):\n",
        "\n",
        "    real_images=batch\n",
        "    fake_images=self.generator(tf.random.normal(128,128,1),training=False)\n",
        "    # Training Discriminator\n",
        "    with tf.GradientTape() as d_tape:\n",
        "      yhat_real= self.discriminator(real_images,training=True)\n",
        "      yhat_fake= self.discriminator(fake_images,training=True)\n",
        "      yhat_realfake=tf.concat([yhat_real,yhat_fake],axis=0)\n",
        "      y_realfake=tf.concat([tf.zeros_like(yhat_real),tf.ones_like(yhat_fake)],axis=0)\n",
        "      # noise\n",
        "      noise_real=0.15*(tf.random.uniform(tf.shape(yhat_real)))\n",
        "      noise_fake=-0.15*(tf.random.uniform(tf.shape(yhat_fake)))\n",
        "      y_realfake+=tf.concat([noise_real,noise_fake],axis=0)\n",
        "      # loss\n",
        "      d_total_loss=self.d_loss(y_realfake,yhat_realfake)\n",
        "    d_grad=d_tape.gradient(d_total_loss,self.discriminator.trainable_variables)\n",
        "    self.d_opt.apply_gradients(zip(d_grad,self.discriminator.trainable_variables))\n",
        "\n",
        "    with tf.GradientTape() as g_tape:\n",
        "      fake_img=self.generator(tf.random.normal((128,128,1)),training=True)\n",
        "      y_fake_img=self.discriminator(fake_img,training=False)\n",
        "      #g_loss\n",
        "      g_total_loss=self.g_loss(tf.zeros_like(y_fake_img),y_fake_img)\n",
        "\n",
        "    g_grad=g_tape.gradient(g_total_loss,self.generator.trainable_variables)\n",
        "    self.g_opt.apply_gradients(zip(g_grad,self.generator.trainable_variables))\n",
        "\n",
        "    return {'d_loss' : d_total_loss,\n",
        "            'g_loss' : g_total_loss}"
      ],
      "metadata": {
        "id": "-mOOsjrh4i4M"
      },
      "execution_count": null,
      "outputs": []
    },
    {
      "cell_type": "code",
      "source": [
        "generator=generator()\n",
        "discriminator=discriminator()\n",
        "mnist_gan=mnistgan(discriminator,generator)"
      ],
      "metadata": {
        "id": "PiEAJwXcrAZP"
      },
      "execution_count": null,
      "outputs": []
    },
    {
      "cell_type": "code",
      "source": [
        "mnist_gan.compile(d_opt,g_opt,d_loss,g_loss)"
      ],
      "metadata": {
        "id": "F4YSUFQZuHl9"
      },
      "execution_count": null,
      "outputs": []
    },
    {
      "cell_type": "code",
      "source": [
        "hist=mnist_gan.fit(mnist,epochs=30)"
      ],
      "metadata": {
        "colab": {
          "base_uri": "https://localhost:8080/",
          "height": 737
        },
        "id": "SQEuCVb0uNkv",
        "outputId": "7119eb07-9b65-4e5d-d668-c94d786d6751"
      },
      "execution_count": null,
      "outputs": [
        {
          "output_type": "stream",
          "name": "stdout",
          "text": [
            "Epoch 1/30\n"
          ]
        },
        {
          "output_type": "error",
          "ename": "NotImplementedError",
          "evalue": "in user code:\n\n    File \"/usr/local/lib/python3.10/dist-packages/keras/src/engine/training.py\", line 1401, in train_function  *\n        return step_function(self, iterator)\n    File \"/usr/local/lib/python3.10/dist-packages/keras/src/engine/training.py\", line 1384, in step_function  **\n        outputs = model.distribute_strategy.run(run_step, args=(data,))\n    File \"/usr/local/lib/python3.10/dist-packages/keras/src/engine/training.py\", line 1373, in run_step  **\n        outputs = model.train_step(data)\n    File \"/usr/local/lib/python3.10/dist-packages/keras/src/engine/training.py\", line 1150, in train_step\n        y_pred = self(x, training=True)\n    File \"/usr/local/lib/python3.10/dist-packages/keras/src/utils/traceback_utils.py\", line 70, in error_handler\n        raise e.with_traceback(filtered_tb) from None\n    File \"/usr/local/lib/python3.10/dist-packages/keras/src/engine/training.py\", line 617, in call\n        raise NotImplementedError(\n\n    NotImplementedError: Exception encountered when calling layer 'mnistgan_14' (type mnistgan).\n    \n    Unimplemented `tf.keras.Model.call()`: if you intend to create a `Model` with the Functional API, please provide `inputs` and `outputs` arguments. Otherwise, subclass `Model` with an overridden `call()` method.\n    \n    Call arguments received by layer 'mnistgan_14' (type mnistgan):\n      • inputs=tf.Tensor(shape=(None, 28, 28, 1), dtype=float32)\n      • training=True\n      • mask=None\n",
          "traceback": [
            "\u001b[0;31m---------------------------------------------------------------------------\u001b[0m",
            "\u001b[0;31mNotImplementedError\u001b[0m                       Traceback (most recent call last)",
            "\u001b[0;32m<ipython-input-328-bc0da4497a18>\u001b[0m in \u001b[0;36m<cell line: 1>\u001b[0;34m()\u001b[0m\n\u001b[0;32m----> 1\u001b[0;31m \u001b[0mhist\u001b[0m\u001b[0;34m=\u001b[0m\u001b[0mmnist_gan\u001b[0m\u001b[0;34m.\u001b[0m\u001b[0mfit\u001b[0m\u001b[0;34m(\u001b[0m\u001b[0mmnist\u001b[0m\u001b[0;34m,\u001b[0m\u001b[0mepochs\u001b[0m\u001b[0;34m=\u001b[0m\u001b[0;36m30\u001b[0m\u001b[0;34m)\u001b[0m\u001b[0;34m\u001b[0m\u001b[0;34m\u001b[0m\u001b[0m\n\u001b[0m",
            "\u001b[0;32m/usr/local/lib/python3.10/dist-packages/keras/src/utils/traceback_utils.py\u001b[0m in \u001b[0;36merror_handler\u001b[0;34m(*args, **kwargs)\u001b[0m\n\u001b[1;32m     68\u001b[0m             \u001b[0;31m# To get the full stack trace, call:\u001b[0m\u001b[0;34m\u001b[0m\u001b[0;34m\u001b[0m\u001b[0m\n\u001b[1;32m     69\u001b[0m             \u001b[0;31m# `tf.debugging.disable_traceback_filtering()`\u001b[0m\u001b[0;34m\u001b[0m\u001b[0;34m\u001b[0m\u001b[0m\n\u001b[0;32m---> 70\u001b[0;31m             \u001b[0;32mraise\u001b[0m \u001b[0me\u001b[0m\u001b[0;34m.\u001b[0m\u001b[0mwith_traceback\u001b[0m\u001b[0;34m(\u001b[0m\u001b[0mfiltered_tb\u001b[0m\u001b[0;34m)\u001b[0m \u001b[0;32mfrom\u001b[0m \u001b[0;32mNone\u001b[0m\u001b[0;34m\u001b[0m\u001b[0;34m\u001b[0m\u001b[0m\n\u001b[0m\u001b[1;32m     71\u001b[0m         \u001b[0;32mfinally\u001b[0m\u001b[0;34m:\u001b[0m\u001b[0;34m\u001b[0m\u001b[0;34m\u001b[0m\u001b[0m\n\u001b[1;32m     72\u001b[0m             \u001b[0;32mdel\u001b[0m \u001b[0mfiltered_tb\u001b[0m\u001b[0;34m\u001b[0m\u001b[0;34m\u001b[0m\u001b[0m\n",
            "\u001b[0;32m/usr/local/lib/python3.10/dist-packages/keras/src/engine/training.py\u001b[0m in \u001b[0;36mtf__train_function\u001b[0;34m(iterator)\u001b[0m\n\u001b[1;32m     13\u001b[0m                 \u001b[0;32mtry\u001b[0m\u001b[0;34m:\u001b[0m\u001b[0;34m\u001b[0m\u001b[0;34m\u001b[0m\u001b[0m\n\u001b[1;32m     14\u001b[0m                     \u001b[0mdo_return\u001b[0m \u001b[0;34m=\u001b[0m \u001b[0;32mTrue\u001b[0m\u001b[0;34m\u001b[0m\u001b[0;34m\u001b[0m\u001b[0m\n\u001b[0;32m---> 15\u001b[0;31m                     \u001b[0mretval_\u001b[0m \u001b[0;34m=\u001b[0m \u001b[0mag__\u001b[0m\u001b[0;34m.\u001b[0m\u001b[0mconverted_call\u001b[0m\u001b[0;34m(\u001b[0m\u001b[0mag__\u001b[0m\u001b[0;34m.\u001b[0m\u001b[0mld\u001b[0m\u001b[0;34m(\u001b[0m\u001b[0mstep_function\u001b[0m\u001b[0;34m)\u001b[0m\u001b[0;34m,\u001b[0m \u001b[0;34m(\u001b[0m\u001b[0mag__\u001b[0m\u001b[0;34m.\u001b[0m\u001b[0mld\u001b[0m\u001b[0;34m(\u001b[0m\u001b[0mself\u001b[0m\u001b[0;34m)\u001b[0m\u001b[0;34m,\u001b[0m \u001b[0mag__\u001b[0m\u001b[0;34m.\u001b[0m\u001b[0mld\u001b[0m\u001b[0;34m(\u001b[0m\u001b[0miterator\u001b[0m\u001b[0;34m)\u001b[0m\u001b[0;34m)\u001b[0m\u001b[0;34m,\u001b[0m \u001b[0;32mNone\u001b[0m\u001b[0;34m,\u001b[0m \u001b[0mfscope\u001b[0m\u001b[0;34m)\u001b[0m\u001b[0;34m\u001b[0m\u001b[0;34m\u001b[0m\u001b[0m\n\u001b[0m\u001b[1;32m     16\u001b[0m                 \u001b[0;32mexcept\u001b[0m\u001b[0;34m:\u001b[0m\u001b[0;34m\u001b[0m\u001b[0;34m\u001b[0m\u001b[0m\n\u001b[1;32m     17\u001b[0m                     \u001b[0mdo_return\u001b[0m \u001b[0;34m=\u001b[0m \u001b[0;32mFalse\u001b[0m\u001b[0;34m\u001b[0m\u001b[0;34m\u001b[0m\u001b[0m\n",
            "\u001b[0;31mNotImplementedError\u001b[0m: in user code:\n\n    File \"/usr/local/lib/python3.10/dist-packages/keras/src/engine/training.py\", line 1401, in train_function  *\n        return step_function(self, iterator)\n    File \"/usr/local/lib/python3.10/dist-packages/keras/src/engine/training.py\", line 1384, in step_function  **\n        outputs = model.distribute_strategy.run(run_step, args=(data,))\n    File \"/usr/local/lib/python3.10/dist-packages/keras/src/engine/training.py\", line 1373, in run_step  **\n        outputs = model.train_step(data)\n    File \"/usr/local/lib/python3.10/dist-packages/keras/src/engine/training.py\", line 1150, in train_step\n        y_pred = self(x, training=True)\n    File \"/usr/local/lib/python3.10/dist-packages/keras/src/utils/traceback_utils.py\", line 70, in error_handler\n        raise e.with_traceback(filtered_tb) from None\n    File \"/usr/local/lib/python3.10/dist-packages/keras/src/engine/training.py\", line 617, in call\n        raise NotImplementedError(\n\n    NotImplementedError: Exception encountered when calling layer 'mnistgan_14' (type mnistgan).\n    \n    Unimplemented `tf.keras.Model.call()`: if you intend to create a `Model` with the Functional API, please provide `inputs` and `outputs` arguments. Otherwise, subclass `Model` with an overridden `call()` method.\n    \n    Call arguments received by layer 'mnistgan_14' (type mnistgan):\n      • inputs=tf.Tensor(shape=(None, 28, 28, 1), dtype=float32)\n      • training=True\n      • mask=None\n"
          ]
        }
      ]
    },
    {
      "cell_type": "code",
      "source": [
        "def build_generator():\n",
        "  model=Sequential()\n",
        "  # Takes in random value and reshapes it to 7x7x128\n",
        "  # Beginnings of generated image\n",
        "  model.add(Dense(7*7*128,input_dim=128))\n",
        "  model.add(LeakyReLU(0.2))\n",
        "  model.add(Reshape((7,7,128)))\n",
        "  #Upsampling block 1\n",
        "\n",
        "  model.add(UpSampling2D())\n",
        "  model.add(Conv2D(128,5,padding='same'))\n",
        "  model.add(LeakyReLU(0.2))\n",
        "\n",
        "  #Upsampling block 2\n",
        "\n",
        "  model.add(UpSampling2D())\n",
        "  model.add(Conv2D(128,5,padding='same'))\n",
        "  model.add(LeakyReLU(0.2))\n",
        "\n",
        "\n",
        "  #conv block 1\n",
        "  model.add(Conv2D(128,4,padding='same'))\n",
        "  model.add(LeakyReLU(0.2))\n",
        "\n",
        "  #conv block 2\n",
        "  model.add(Conv2D(128,4,padding='same'))\n",
        "  model.add(LeakyReLU(0.2))\n",
        "\n",
        "  #conv layers to get 1 channel\n",
        "  model.add(Conv2D(1,4,padding=\"same\",activation=\"sigmoid\"))\n",
        "\n",
        "  return model"
      ],
      "metadata": {
        "id": "wxR8S9HVuX9k"
      },
      "execution_count": null,
      "outputs": []
    },
    {
      "cell_type": "code",
      "source": [
        "def build_discriminator():\n",
        "  model=Sequential()\n",
        "  #First conv block\n",
        "  model.add(Conv2D(32,5,input_shape=(28,28,1)))\n",
        "  model.add(LeakyReLU(0.2))\n",
        "  model.add(Dropout(0.4))\n",
        "  #Second conv block\n",
        "  model.add(Conv2D(64,5))\n",
        "  model.add(LeakyReLU(0.2))\n",
        "  model.add(Dropout(0.4))\n",
        "  #Third conv block\n",
        "  model.add(Conv2D(128,5))\n",
        "  model.add(LeakyReLU(0.2))\n",
        "  model.add(Dropout(0.4))\n",
        "\n",
        "  #Fourth conv block\n",
        "  model.add(Conv2D(256,5))\n",
        "  model.add(LeakyReLU(0.2))\n",
        "  model.add(Dropout(0.4))\n",
        "\n",
        "  # Flatten then pass to dense layer\n",
        "  model.add(Flatten())\n",
        "  model.add(Dropout(0.4))\n",
        "  model.add(Dense(1,activation='sigmoid'))\n",
        "\n",
        "  return model"
      ],
      "metadata": {
        "id": "3MiDTYNg7M_W"
      },
      "execution_count": null,
      "outputs": []
    },
    {
      "cell_type": "code",
      "source": [
        "class FashionGAN(Model):\n",
        "  def __init__(self,generator,discriminator,*args,**kwargs):\n",
        "    # Pass through args and kawrgs to base class\n",
        "    super().__init__(*args,**kwargs)\n",
        "    #Create attributes for gen and disc\n",
        "    self.generator = generator\n",
        "    self.discriminator = discriminator\n",
        "  def compile(self,g_opt,d_opt,g_loss,d_loss,*args,**kwargs):\n",
        "    #Compile with base class\n",
        "    super().compile(*args,**kwargs)\n",
        "    # Create attributes for loss and optimizers\n",
        "    self.g_opt=g_opt\n",
        "    self.d_opt=d_opt\n",
        "    self.g_loss=g_loss\n",
        "    self.d_loss=d_loss\n",
        "  def train_step(self,batch):\n",
        "    # Get the data\n",
        "    real_images= batch\n",
        "    #generate 128 images of size 128 rows and 1 col\n",
        "    #training = false ,as we are not training instead making predictions\n",
        "    fake_images = self.generator(tf.random.normal((128,128,1)),training=False)\n",
        "\n",
        "    # Train the discriminator\n",
        "    with tf.GradientTape() as d_tape:\n",
        "      # Pass the real and fake images to d model,training - true to activate dropoutlayer\n",
        "\n",
        "      yhat_real= self.discriminator(real_images, training=True)\n",
        "      yhat_fake= self.discriminator(fake_images, training=True)\n",
        "      yhat_realfake= tf.concat([yhat_real,yhat_fake],axis=0)\n",
        "\n",
        "      # Create labels for real (0) and fake images (1)\n",
        "\n",
        "      y_realfake= tf.concat([tf.zeros_like(yhat_real),tf.ones_like(yhat_fake)],axis=0)\n",
        "      # Add some noise to true o/p to prevent it from learning too fast\n",
        "\n",
        "      noise_real = 0.15*tf.random.uniform(tf.shape(yhat_real))\n",
        "      noise_fake = -0.15*tf.random.uniform(tf.shape(yhat_fake))\n",
        "      y_realfake +=tf.concat([noise_real,noise_fake],axis=0)\n",
        "\n",
        "      # calculate loss - Binary Cross Entropy\n",
        "\n",
        "      total_d_loss=self.d_loss(y_realfake,yhat_realfake)\n",
        "\n",
        "    # apply backpropagation -nn learn\n",
        "    # calculating the gradient by using loss wrt trainable variables so we extract them\n",
        "\n",
        "    dgrad = d_tape.gradient(total_d_loss,self.discriminator.trainable_variables)\n",
        "\n",
        "    # Apply backprop,it is going to look at the gradient for each of training variables and apply backprop\n",
        "\n",
        "    self.d_opt.apply_gradients(zip(dgrad,self.discriminator.trainable_variables))\n",
        "\n",
        "    # Train the generator\n",
        "    with tf.GradientTape() as g_tape:\n",
        "      # Generate some new images\n",
        "      gen_images=self.generator(tf.random.normal((128,128,1)),training=True)\n",
        "      # Create the predicted labels\n",
        "      # We dont want the discriminator to be learning as we train our generator\n",
        "      #so training=False\n",
        "      predicted_labels = self.discriminator(gen_images,training=False)\n",
        "      # Calculate Loss\n",
        "      # In order to confuse our generator , we are comparing wrt to real images with size of\n",
        "      # predicted so the generator will think that image is real but discriminator is giving fake\n",
        "      # it will try to minimise the distance b/w real and fake\n",
        "      total_g_loss = self.g_loss(tf.zeros_like(predicted_labels),predicted_labels)\n",
        "    # Apply backprop\n",
        "\n",
        "    ggrad = g_tape.gradient(total_g_loss,self.generator.trainable_variables)\n",
        "    self.g_opt.apply_gradients(zip(ggrad,self.generator.trainable_variables))\n",
        "\n",
        "    return {\"d_loss\": total_d_loss,\n",
        "            \"g_loss\": total_g_loss}"
      ],
      "metadata": {
        "id": "gN34rxn97Uh8"
      },
      "execution_count": null,
      "outputs": []
    },
    {
      "cell_type": "markdown",
      "source": [
        "generator=build_generator()\n",
        "discriminator=build_discriminator()\n",
        "mnist_gan=mnistgan(generator,discriminator)\n",
        "mnist_gan.compile(g_opt,d_opt,g_loss,d_loss)\n",
        "mnist_gan.fit(mnist,epochs=30)"
      ],
      "metadata": {
        "id": "WoxJzF777ccp"
      }
    },
    {
      "cell_type": "markdown",
      "source": [
        "there seems to be a problem with ur self written code,tommrow make a new notebook and debug from scratch"
      ],
      "metadata": {
        "id": "kPwcZsjh98ng"
      }
    }
  ]
}